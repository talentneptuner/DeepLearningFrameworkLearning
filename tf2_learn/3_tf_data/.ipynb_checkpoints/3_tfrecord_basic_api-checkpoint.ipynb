{
 "cells": [
  {
   "cell_type": "code",
   "execution_count": 1,
   "metadata": {},
   "outputs": [],
   "source": [
    "import matplotlib.pyplot as plt\n",
    "%matplotlib inline\n",
    "import numpy as np\n",
    "import sklearn \n",
    "import pandas as pd\n",
    "import os, gc, sys, time\n",
    "import tensorflow as tf\n",
    "from tensorflow import keras\n",
    "\n",
    "import warnings\n",
    "warnings.filterwarnings('ignore')"
   ]
  },
  {
   "cell_type": "markdown",
   "metadata": {},
   "source": [
    "## **3.1 tfrecord文件**"
   ]
  },
  {
   "cell_type": "markdown",
   "metadata": {},
   "source": [
    "tfrecord是一种文件格式\n",
    "- 文件内部的数据以`tf.train.Example`的方式存储\n",
    "    - `Example`数据以`tf.train.Features`保存\n",
    "        - `Features`数据是k-v格式的，k指的是特征名，v是特征内容\n",
    "            - `Features`也可以是不同的格式, `tf.train.ByteList  tf.train.FloatList  tf.train.Int64List`"
   ]
  },
  {
   "cell_type": "markdown",
   "metadata": {},
   "source": [
    "### **3.1.1 Features格式**"
   ]
  },
  {
   "cell_type": "markdown",
   "metadata": {},
   "source": [
    "**ByteList**"
   ]
  },
  {
   "cell_type": "code",
   "execution_count": 2,
   "metadata": {},
   "outputs": [
    {
     "name": "stdout",
     "output_type": "stream",
     "text": [
      "[b'machine learning', b'Deep Learning']\n"
     ]
    }
   ],
   "source": [
    "favorite_books = [name.encode('utf-8') for name in [\"machine learning\", 'Deep Learning']]\n",
    "favorite_books_bytelist = tf.train.BytesList(value = favorite_books)\n",
    "print(favorite_books)"
   ]
  },
  {
   "cell_type": "markdown",
   "metadata": {},
   "source": [
    "**FloatList**"
   ]
  },
  {
   "cell_type": "code",
   "execution_count": 3,
   "metadata": {},
   "outputs": [
    {
     "name": "stdout",
     "output_type": "stream",
     "text": [
      "value: 1.0\n",
      "value: 2.299999952316284\n",
      "value: 5.0\n",
      "\n"
     ]
    }
   ],
   "source": [
    "hours_floatlist = tf.train.FloatList(value=[1., 2.3, 5.])\n",
    "print(hours_floatlist)"
   ]
  },
  {
   "cell_type": "markdown",
   "metadata": {},
   "source": [
    "**Int64List**"
   ]
  },
  {
   "cell_type": "code",
   "execution_count": 4,
   "metadata": {},
   "outputs": [
    {
     "name": "stdout",
     "output_type": "stream",
     "text": [
      "value: 22\n",
      "value: 23\n",
      "value: 21\n",
      "\n"
     ]
    }
   ],
   "source": [
    "age_int64list = tf.train.Int64List(value=[22, 23, 21])\n",
    "print(age_int64list)"
   ]
  },
  {
   "cell_type": "markdown",
   "metadata": {},
   "source": [
    "**Features**"
   ]
  },
  {
   "cell_type": "code",
   "execution_count": 5,
   "metadata": {},
   "outputs": [
    {
     "name": "stdout",
     "output_type": "stream",
     "text": [
      "feature {\n",
      "  key: \"age\"\n",
      "  value {\n",
      "    int64_list {\n",
      "      value: 22\n",
      "      value: 23\n",
      "      value: 21\n",
      "    }\n",
      "  }\n",
      "}\n",
      "feature {\n",
      "  key: \"favorite_books\"\n",
      "  value {\n",
      "    bytes_list {\n",
      "      value: \"machine learning\"\n",
      "      value: \"Deep Learning\"\n",
      "    }\n",
      "  }\n",
      "}\n",
      "feature {\n",
      "  key: \"hours\"\n",
      "  value {\n",
      "    float_list {\n",
      "      value: 1.0\n",
      "      value: 2.299999952316284\n",
      "      value: 5.0\n",
      "    }\n",
      "  }\n",
      "}\n",
      "\n"
     ]
    }
   ],
   "source": [
    "features = tf.train.Features(\n",
    "    feature = {\n",
    "        'favorite_books' : tf.train.Feature(bytes_list = favorite_books_bytelist),\n",
    "        'hours' : tf.train.Feature(float_list = hours_floatlist),\n",
    "        'age' : tf.train.Feature(int64_list = age_int64list)\n",
    "    }\n",
    ")\n",
    "print(features)"
   ]
  },
  {
   "cell_type": "markdown",
   "metadata": {},
   "source": [
    "**Example**"
   ]
  },
  {
   "cell_type": "code",
   "execution_count": 6,
   "metadata": {},
   "outputs": [
    {
     "name": "stdout",
     "output_type": "stream",
     "text": [
      "features {\n",
      "  feature {\n",
      "    key: \"age\"\n",
      "    value {\n",
      "      int64_list {\n",
      "        value: 22\n",
      "        value: 23\n",
      "        value: 21\n",
      "      }\n",
      "    }\n",
      "  }\n",
      "  feature {\n",
      "    key: \"favorite_books\"\n",
      "    value {\n",
      "      bytes_list {\n",
      "        value: \"machine learning\"\n",
      "        value: \"Deep Learning\"\n",
      "      }\n",
      "    }\n",
      "  }\n",
      "  feature {\n",
      "    key: \"hours\"\n",
      "    value {\n",
      "      float_list {\n",
      "        value: 1.0\n",
      "        value: 2.299999952316284\n",
      "        value: 5.0\n",
      "      }\n",
      "    }\n",
      "  }\n",
      "}\n",
      "\n",
      "b'\\nb\\n5\\n\\x0efavorite_books\\x12#\\n!\\n\\x10machine learning\\n\\rDeep Learning\\n\\x0e\\n\\x03age\\x12\\x07\\x1a\\x05\\n\\x03\\x16\\x17\\x15\\n\\x19\\n\\x05hours\\x12\\x10\\x12\\x0e\\n\\x0c\\x00\\x00\\x80?33\\x13@\\x00\\x00\\xa0@'\n"
     ]
    }
   ],
   "source": [
    "example = tf.train.Example(features=features)\n",
    "print(example)\n",
    "\n",
    "serialized_example = example.SerializeToString() # 序列化从而使得保存占用存储较小\n",
    "print(serialized_example)"
   ]
  },
  {
   "cell_type": "markdown",
   "metadata": {},
   "source": [
    "### **3.1.2 tfrecord存储**"
   ]
  },
  {
   "cell_type": "code",
   "execution_count": 7,
   "metadata": {},
   "outputs": [],
   "source": [
    "output_dir = 'tf.record_basic'\n",
    "if not os.path.exists(output_dir):\n",
    "    os.mkdir(output_dir)\n",
    "    \n",
    "filename = 'test.tfrecord'\n",
    "filename_fullpath = os.path.join(output_dir, filename)\n",
    "with tf.io.TFRecordWriter(filename_fullpath) as writer:\n",
    "    # 打开tfrecord文件\n",
    "    for i in range(3):\n",
    "        writer.write(serialized_example)"
   ]
  },
  {
   "cell_type": "markdown",
   "metadata": {},
   "source": [
    "### 3.1.3 **tfrecord读取**"
   ]
  },
  {
   "cell_type": "code",
   "execution_count": 8,
   "metadata": {},
   "outputs": [
    {
     "name": "stdout",
     "output_type": "stream",
     "text": [
      "tf.Tensor(b'\\nb\\n5\\n\\x0efavorite_books\\x12#\\n!\\n\\x10machine learning\\n\\rDeep Learning\\n\\x0e\\n\\x03age\\x12\\x07\\x1a\\x05\\n\\x03\\x16\\x17\\x15\\n\\x19\\n\\x05hours\\x12\\x10\\x12\\x0e\\n\\x0c\\x00\\x00\\x80?33\\x13@\\x00\\x00\\xa0@', shape=(), dtype=string)\n",
      "tf.Tensor(b'\\nb\\n5\\n\\x0efavorite_books\\x12#\\n!\\n\\x10machine learning\\n\\rDeep Learning\\n\\x0e\\n\\x03age\\x12\\x07\\x1a\\x05\\n\\x03\\x16\\x17\\x15\\n\\x19\\n\\x05hours\\x12\\x10\\x12\\x0e\\n\\x0c\\x00\\x00\\x80?33\\x13@\\x00\\x00\\xa0@', shape=(), dtype=string)\n",
      "tf.Tensor(b'\\nb\\n5\\n\\x0efavorite_books\\x12#\\n!\\n\\x10machine learning\\n\\rDeep Learning\\n\\x0e\\n\\x03age\\x12\\x07\\x1a\\x05\\n\\x03\\x16\\x17\\x15\\n\\x19\\n\\x05hours\\x12\\x10\\x12\\x0e\\n\\x0c\\x00\\x00\\x80?33\\x13@\\x00\\x00\\xa0@', shape=(), dtype=string)\n"
     ]
    }
   ],
   "source": [
    "dataset = tf.data.TFRecordDataset([filename_fullpath])\n",
    "for  serialized_example_tensor in dataset:\n",
    "    # 我们得到的是序列化的example\n",
    "    print(serialized_example_tensor)"
   ]
  },
  {
   "cell_type": "code",
   "execution_count": 9,
   "metadata": {},
   "outputs": [
    {
     "name": "stdout",
     "output_type": "stream",
     "text": [
      "{'age': <tensorflow.python.framework.sparse_tensor.SparseTensor object at 0x00000211E00CF2E8>, 'favorite_books': <tensorflow.python.framework.sparse_tensor.SparseTensor object at 0x00000211AAB9E048>, 'hours': <tensorflow.python.framework.sparse_tensor.SparseTensor object at 0x00000211836C7668>}\n",
      "{'age': <tensorflow.python.framework.sparse_tensor.SparseTensor object at 0x00000211AAB9E748>, 'favorite_books': <tensorflow.python.framework.sparse_tensor.SparseTensor object at 0x00000211E00B7E80>, 'hours': <tensorflow.python.framework.sparse_tensor.SparseTensor object at 0x00000211836C75C0>}\n",
      "{'age': <tensorflow.python.framework.sparse_tensor.SparseTensor object at 0x00000211E00CF358>, 'favorite_books': <tensorflow.python.framework.sparse_tensor.SparseTensor object at 0x00000211AAB9E748>, 'hours': <tensorflow.python.framework.sparse_tensor.SparseTensor object at 0x00000211836C7860>}\n"
     ]
    }
   ],
   "source": [
    "excepted_features = {\n",
    "    'favorite_books' : tf.io.VarLenFeature(dtype=tf.string), # 变长的Features\n",
    "    'hours' : tf.io.VarLenFeature(dtype=tf.float32), \n",
    "    'age' : tf.io.VarLenFeature(dtype=tf.int64) # 定长的Feature是FixedLenFeature  \n",
    "}\n",
    "dataset = tf.data.TFRecordDataset([filename_fullpath])\n",
    "for  serialized_example_tensor in dataset:\n",
    "    # 我们得到的是序列化的example\n",
    "    print(tf.io.parse_single_example(serialized_example_tensor, excepted_features))"
   ]
  },
  {
   "cell_type": "markdown",
   "metadata": {},
   "source": [
    "### **3.1.4 存储tfrecord为压缩文件**"
   ]
  },
  {
   "cell_type": "code",
   "execution_count": 10,
   "metadata": {},
   "outputs": [],
   "source": [
    "output_dir = 'tf.record_basic'\n",
    "if not os.path.exists(output_dir):\n",
    "    os.mkdir(output_dir)\n",
    "    \n",
    "filename_fullpath = os.path.join(output_dir, filename) + '.zip'\n",
    "options = tf.io.TFRecordOptions(compression_type='GZIP')\n",
    "with tf.io.TFRecordWriter(filename_fullpath, options=options) as writer:\n",
    "    # 打开tfrecord文件\n",
    "    for i in range(3):\n",
    "        writer.write(serialized_example)"
   ]
  },
  {
   "cell_type": "markdown",
   "metadata": {},
   "source": [
    "### **3.1.5读取压缩文件**"
   ]
  },
  {
   "cell_type": "code",
   "execution_count": 11,
   "metadata": {},
   "outputs": [
    {
     "name": "stdout",
     "output_type": "stream",
     "text": [
      "{'age': <tensorflow.python.framework.sparse_tensor.SparseTensor object at 0x00000211836C7470>, 'favorite_books': <tensorflow.python.framework.sparse_tensor.SparseTensor object at 0x00000211836C7518>, 'hours': <tensorflow.python.framework.sparse_tensor.SparseTensor object at 0x00000211836CEE48>}\n",
      "{'age': <tensorflow.python.framework.sparse_tensor.SparseTensor object at 0x00000211836C74A8>, 'favorite_books': <tensorflow.python.framework.sparse_tensor.SparseTensor object at 0x00000211836C7160>, 'hours': <tensorflow.python.framework.sparse_tensor.SparseTensor object at 0x00000211836CE438>}\n",
      "{'age': <tensorflow.python.framework.sparse_tensor.SparseTensor object at 0x00000211836C7358>, 'favorite_books': <tensorflow.python.framework.sparse_tensor.SparseTensor object at 0x00000211836C76D8>, 'hours': <tensorflow.python.framework.sparse_tensor.SparseTensor object at 0x00000211836CE0B8>}\n"
     ]
    }
   ],
   "source": [
    "excepted_features = {\n",
    "    'favorite_books' : tf.io.VarLenFeature(dtype=tf.string), # 变长的Features\n",
    "    'hours' : tf.io.VarLenFeature(dtype=tf.float32), \n",
    "    'age' : tf.io.VarLenFeature(dtype=tf.int64) # 定长的Feature是FixedLenFeature  \n",
    "}\n",
    "dataset = tf.data.TFRecordDataset([filename_fullpath], compression_type='GZIP')\n",
    "for  serialized_example_tensor in dataset:\n",
    "    # 我们得到的是序列化的example\n",
    "    print(tf.io.parse_single_example(serialized_example_tensor, excepted_features))"
   ]
  },
  {
   "cell_type": "markdown",
   "metadata": {},
   "source": [
    "## **3.2 使用csv生成tf.record**文件"
   ]
  },
  {
   "cell_type": "markdown",
   "metadata": {},
   "source": [
    "### **3.2.1读取csv为dataset**"
   ]
  },
  {
   "cell_type": "code",
   "execution_count": 2,
   "metadata": {},
   "outputs": [
    {
     "name": "stdout",
     "output_type": "stream",
     "text": [
      "['.ipynb_checkpoints', 'train_00.csv', 'train_01.csv', 'train_02.csv', 'train_03.csv', 'train_04.csv', 'train_05.csv', 'train_06.csv', 'train_07.csv', 'train_08.csv', 'train_09.csv', 'train_10.csv', 'train_11.csv', 'train_12.csv', 'train_13.csv', 'train_14.csv', 'train_15.csv', 'train_16.csv', 'train_17.csv', 'train_18.csv', 'train_19.csv', 'valid_00.csv', 'valid_01.csv', 'valid_02.csv', 'valid_03.csv', 'valid_04.csv', 'valid_05.csv', 'valid_06.csv', 'valid_07.csv', 'valid_08.csv', 'valid_09.csv']\n"
     ]
    }
   ],
   "source": [
    "source_dir = './generate_csv'\n",
    "print(os.listdir(source_dir))\n",
    "\n",
    "def get_filenames_by_prefix(source_dir, prefix_name):\n",
    "    all_files = os.listdir(source_dir)\n",
    "    results = []\n",
    "    for filename in all_files:\n",
    "        if filename.startswith(prefix_name):\n",
    "            results.append(os.path.join(source_dir, filename))\n",
    "    return results"
   ]
  },
  {
   "cell_type": "code",
   "execution_count": 4,
   "metadata": {},
   "outputs": [
    {
     "name": "stdout",
     "output_type": "stream",
     "text": [
      "['./generate_csv\\\\train_00.csv', './generate_csv\\\\train_01.csv', './generate_csv\\\\train_02.csv', './generate_csv\\\\train_03.csv', './generate_csv\\\\train_04.csv', './generate_csv\\\\train_05.csv', './generate_csv\\\\train_06.csv', './generate_csv\\\\train_07.csv', './generate_csv\\\\train_08.csv', './generate_csv\\\\train_09.csv', './generate_csv\\\\train_10.csv', './generate_csv\\\\train_11.csv', './generate_csv\\\\train_12.csv', './generate_csv\\\\train_13.csv', './generate_csv\\\\train_14.csv', './generate_csv\\\\train_15.csv', './generate_csv\\\\train_16.csv', './generate_csv\\\\train_17.csv', './generate_csv\\\\train_18.csv', './generate_csv\\\\train_19.csv'] ['./generate_csv\\\\valid_00.csv', './generate_csv\\\\valid_01.csv', './generate_csv\\\\valid_02.csv', './generate_csv\\\\valid_03.csv', './generate_csv\\\\valid_04.csv', './generate_csv\\\\valid_05.csv', './generate_csv\\\\valid_06.csv', './generate_csv\\\\valid_07.csv', './generate_csv\\\\valid_08.csv', './generate_csv\\\\valid_09.csv']\n"
     ]
    }
   ],
   "source": [
    "train_filenames = get_filenames_by_prefix(source_dir, 'train')\n",
    "valid_filenames = get_filenames_by_prefix(source_dir, 'valid')\n",
    "print(train_filenames, valid_filenames)"
   ]
  },
  {
   "cell_type": "code",
   "execution_count": 5,
   "metadata": {},
   "outputs": [],
   "source": [
    "def parse_csv_line(line, n_fields = 9):\n",
    "    # 解析单行数据\n",
    "    defs = [tf.constant(np.nan)] * n_fields\n",
    "    parsed_fields = tf.io.decode_csv(line, record_defaults=defs)\n",
    "    x = tf.stack(parsed_fields[0:-1])\n",
    "    y = tf.stack(parsed_fields[-1:])\n",
    "    return x, y\n",
    "\n",
    "def read_csv_to_dataset(filenames, n_readers=5, batch_size=32, n_parse_threads=5,\n",
    "                        shuffle_buffer_size=10000):\n",
    "    dataset = tf.data.Dataset.list_files(filenames)\n",
    "    dataset = dataset.repeat()\n",
    "    dataset = dataset.interleave(\n",
    "        lambda filename : tf.data.TextLineDataset(filename).skip(1),\n",
    "        cycle_length = n_readers\n",
    "    )\n",
    "    dataset.shuffle(shuffle_buffer_size)\n",
    "    dataset = dataset.map(parse_csv_line, num_parallel_calls=n_parse_threads) # 注意interleave(1->n)和map(1->1)的区别\n",
    "    dataset = dataset.batch(batch_size)\n",
    "    return dataset\n",
    "\n",
    "train_set = read_csv_to_dataset(train_filenames, batch_size=32)\n",
    "valid_set = read_csv_to_dataset(valid_filenames, batch_size=32)"
   ]
  },
  {
   "cell_type": "markdown",
   "metadata": {},
   "source": [
    "### **3.2.2把dataset转变为tfrecord**"
   ]
  },
  {
   "cell_type": "code",
   "execution_count": 6,
   "metadata": {},
   "outputs": [],
   "source": [
    "# 遍历dataset写入tfrecord\n",
    "def serialize_example(x, y):\n",
    "    \"\"\"把x，y转换称为tf.train.Example然后序列化\"\"\"\n",
    "    input_features = tf.train.FloatList(value = x)\n",
    "    label = tf.train.FloatList(value=y)\n",
    "    features = tf.train.Features(\n",
    "        feature = {\n",
    "            'input_features': tf.train.Feature(float_list = input_features), \n",
    "            'label': tf.train.Feature(float_list = label)\n",
    "        }\n",
    "    )\n",
    "    example = tf.train.Example(features=features)\n",
    "    return example.SerializePartialToString()\n",
    "\n",
    "def csv_dataset_to_tfrecords(base_filename, dataset, n_shards, steps_per_shard, compression_type=None):\n",
    "    \"\"\"\n",
    "    n_shards: 将文件存为多少片\n",
    "    steps_per_shard: 因为dataset进行了repeat操作，需要告诉函数多少step是一个文件\n",
    "    \"\"\"\n",
    "    options = tf.io.TFRecordOptions(compression_type=compression_type)\n",
    "    all_filenames = []\n",
    "    \n",
    "    \n",
    "    for shard_id in range(n_shards):\n",
    "        filename_fullpath = '{}_{:05d}-of-{:05d}'.format(base_filename, shard_id, n_shards)\n",
    "        with tf.io.TFRecordWriter(filename_fullpath, options) as writer:\n",
    "            for x_batch, y_batch in dataset.skip(shard_id * steps_per_shard).take(steps_per_shard):\n",
    "                for x_example, y_example in zip(x_batch, y_batch):\n",
    "                    writer.write(serialize_example(x_example, y_example))\n",
    "                    \n",
    "                    \n",
    "        all_filenames.append(filename_fullpath)\n",
    "    return all_filenames"
   ]
  },
  {
   "cell_type": "code",
   "execution_count": 7,
   "metadata": {},
   "outputs": [],
   "source": [
    "n_shards = 20\n",
    "batch_size = 32\n",
    "train_steps_per_shard = 11610 // batch_size // n_shards\n",
    "valid_steps_per_shard = 3880 // batch_size // n_shards\n",
    "\n",
    "output_dir = 'generate_tfrecords_zip'\n",
    "if not os.path.exists(output_dir):\n",
    "    os.mkdir(output_dir)\n",
    "train_basename = os.path.join(output_dir, 'train')\n",
    "valid_basename = os.path.join(output_dir, 'valid')\n",
    "train_tfrecord_filenames = csv_dataset_to_tfrecords(train_basename, train_set, n_shards, train_steps_per_shard, 'GZIP')\n",
    "valid_tfrecord_filenames = csv_dataset_to_tfrecords(valid_basename, valid_set, n_shards, valid_steps_per_shard, 'GZIP')"
   ]
  },
  {
   "cell_type": "markdown",
   "metadata": {},
   "source": [
    " ## **3.3 读取tfrecord文件**"
   ]
  },
  {
   "cell_type": "code",
   "execution_count": 8,
   "metadata": {},
   "outputs": [
    {
     "name": "stdout",
     "output_type": "stream",
     "text": [
      "['generate_tfrecords_zip\\\\train_00000-of-00020', 'generate_tfrecords_zip\\\\train_00001-of-00020', 'generate_tfrecords_zip\\\\train_00002-of-00020', 'generate_tfrecords_zip\\\\train_00003-of-00020', 'generate_tfrecords_zip\\\\train_00004-of-00020', 'generate_tfrecords_zip\\\\train_00005-of-00020', 'generate_tfrecords_zip\\\\train_00006-of-00020', 'generate_tfrecords_zip\\\\train_00007-of-00020', 'generate_tfrecords_zip\\\\train_00008-of-00020', 'generate_tfrecords_zip\\\\train_00009-of-00020', 'generate_tfrecords_zip\\\\train_00010-of-00020', 'generate_tfrecords_zip\\\\train_00011-of-00020', 'generate_tfrecords_zip\\\\train_00012-of-00020', 'generate_tfrecords_zip\\\\train_00013-of-00020', 'generate_tfrecords_zip\\\\train_00014-of-00020', 'generate_tfrecords_zip\\\\train_00015-of-00020', 'generate_tfrecords_zip\\\\train_00016-of-00020', 'generate_tfrecords_zip\\\\train_00017-of-00020', 'generate_tfrecords_zip\\\\train_00018-of-00020', 'generate_tfrecords_zip\\\\train_00019-of-00020']\n",
      "['generate_tfrecords_zip\\\\valid_00000-of-00020', 'generate_tfrecords_zip\\\\valid_00001-of-00020', 'generate_tfrecords_zip\\\\valid_00002-of-00020', 'generate_tfrecords_zip\\\\valid_00003-of-00020', 'generate_tfrecords_zip\\\\valid_00004-of-00020', 'generate_tfrecords_zip\\\\valid_00005-of-00020', 'generate_tfrecords_zip\\\\valid_00006-of-00020', 'generate_tfrecords_zip\\\\valid_00007-of-00020', 'generate_tfrecords_zip\\\\valid_00008-of-00020', 'generate_tfrecords_zip\\\\valid_00009-of-00020', 'generate_tfrecords_zip\\\\valid_00010-of-00020', 'generate_tfrecords_zip\\\\valid_00011-of-00020', 'generate_tfrecords_zip\\\\valid_00012-of-00020', 'generate_tfrecords_zip\\\\valid_00013-of-00020', 'generate_tfrecords_zip\\\\valid_00014-of-00020', 'generate_tfrecords_zip\\\\valid_00015-of-00020', 'generate_tfrecords_zip\\\\valid_00016-of-00020', 'generate_tfrecords_zip\\\\valid_00017-of-00020', 'generate_tfrecords_zip\\\\valid_00018-of-00020', 'generate_tfrecords_zip\\\\valid_00019-of-00020']\n"
     ]
    }
   ],
   "source": [
    "print(train_tfrecord_filenames)\n",
    "print(valid_tfrecord_filenames)"
   ]
  },
  {
   "cell_type": "code",
   "execution_count": 10,
   "metadata": {},
   "outputs": [
    {
     "name": "stdout",
     "output_type": "stream",
     "text": [
      "Tensor(\"args_0:0\", shape=(), dtype=string)\n",
      "tf.Tensor(\n",
      "[[ 1.5891896   0.9090429  -0.2174371  -0.14523432 -0.90626943 -0.06638897\n",
      "  -0.7274083   0.48690954]\n",
      " [ 0.5387951   0.6698735  -0.28103194 -0.25065798 -0.6060004  -0.00485437\n",
      "  -0.8164591   0.7159614 ]\n",
      " [-0.11477906  0.59015036 -0.1510448  -0.05572433 -0.395548   -0.09082542\n",
      "  -0.74615586  0.5466622 ]], shape=(3, 8), dtype=float32) tf.Tensor(\n",
      "[[3.8    ]\n",
      " [1.796  ]\n",
      " [5.00001]], shape=(3, 1), dtype=float32)\n",
      "tf.Tensor(\n",
      "[[-0.01726831 -0.28680417  0.02679312  0.18271473 -0.46511176 -0.04461862\n",
      "   0.9504959  -1.0965359 ]\n",
      " [-1.0123403   1.4671049   0.19829997  0.34417567 -0.91947776  0.10741415\n",
      "  -0.7367821   0.9051781 ]\n",
      " [ 0.05155662 -0.60569674 -0.47390437  0.0880845   0.33002868  0.04120428\n",
      "  -0.6477313   0.5616004 ]], shape=(3, 8), dtype=float32) tf.Tensor(\n",
      "[[1.93 ]\n",
      " [0.926]\n",
      " [1.625]], shape=(3, 1), dtype=float32)\n",
      "tf.Tensor(\n",
      "[[-0.07316887  0.35098094 -0.10012846 -0.13981359  1.3479494   0.09893484\n",
      "  -0.7602165   0.800611  ]\n",
      " [ 0.12190516  0.6698735  -0.07577395 -0.08681098 -0.13138172  0.02189767\n",
      "  -0.7320952   0.81056976]\n",
      " [-1.2137189   1.1482123  -0.6107523  -0.1994549  -0.28900093  0.03402552\n",
      "  -0.77427715  0.64624995]], shape=(3, 8), dtype=float32) tf.Tensor(\n",
      "[[1.529]\n",
      " [1.765]\n",
      " [0.975]], shape=(3, 1), dtype=float32)\n"
     ]
    }
   ],
   "source": [
    "expected_features = {\n",
    "    'input_features': tf.io.FixedLenFeature([8], dtype=tf.float32),\n",
    "    'label': tf.io.FixedLenFeature([1], dtype=tf.float32)\n",
    "}\n",
    "\n",
    "def parse_example(emp):\n",
    "    print(emp)\n",
    "    emp = tf.io.parse_single_example(emp, expected_features)\n",
    "    #print(example)\n",
    "    return emp['input_features'], emp['label']\n",
    "\n",
    "def read_tfrecords_to_dataset(filenames, n_readers=5, batch_size=32, n_parse_threads=5,\n",
    "                        shuffle_buffer_size=10000):\n",
    "    \"\"\"把tfrecord转换成为dataset\"\"\"\n",
    "    dataset_t = tf.data.Dataset.list_files(filenames)\n",
    "    dataset_t = dataset_t.repeat()\n",
    "    dataset_t = dataset_t.interleave(\n",
    "        lambda filename : tf.data.TFRecordDataset(filename, compression_type='GZIP'),\n",
    "        cycle_length = n_readers\n",
    "    )\n",
    "    dataset_t.shuffle(shuffle_buffer_size)\n",
    "    dataset_t = dataset_t.map(parse_example, num_parallel_calls=n_parse_threads) # 注意interleave(1->n)和map(1->1)的区别\n",
    "    dataset_t = dataset_t.batch(batch_size)\n",
    "    return dataset_t\n",
    "\n",
    "\n",
    "tf_record_train = read_tfrecords_to_dataset(train_tfrecord_filenames, batch_size=3)\n",
    "for x_batch, y_batch in tf_record_train.take(3):\n",
    "    print(x_batch, y_batch)"
   ]
  },
  {
   "cell_type": "markdown",
   "metadata": {},
   "source": [
    "**训练过程和3.2的一致**"
   ]
  },
  {
   "cell_type": "code",
   "execution_count": null,
   "metadata": {},
   "outputs": [],
   "source": []
  }
 ],
 "metadata": {
  "kernelspec": {
   "display_name": "tf2_tr12",
   "language": "python",
   "name": "tf2_tr12"
  },
  "language_info": {
   "codemirror_mode": {
    "name": "ipython",
    "version": 3
   },
   "file_extension": ".py",
   "mimetype": "text/x-python",
   "name": "python",
   "nbconvert_exporter": "python",
   "pygments_lexer": "ipython3",
   "version": "3.6.7"
  }
 },
 "nbformat": 4,
 "nbformat_minor": 2
}

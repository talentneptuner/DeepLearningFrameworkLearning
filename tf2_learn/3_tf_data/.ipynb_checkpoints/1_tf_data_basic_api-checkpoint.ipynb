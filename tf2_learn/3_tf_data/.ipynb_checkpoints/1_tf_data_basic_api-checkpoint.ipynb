{
 "cells": [
  {
   "cell_type": "markdown",
   "metadata": {},
   "source": [
    "# **1 tf.data基础api**"
   ]
  },
  {
   "cell_type": "code",
   "execution_count": 1,
   "metadata": {},
   "outputs": [],
   "source": [
    "import matplotlib.pyplot as plt\n",
    "%matplotlib inline\n",
    "import numpy as np\n",
    "import sklearn \n",
    "import pandas as pd\n",
    "import os, gc, sys, time\n",
    "import tensorflow as tf\n",
    "from tensorflow import keras\n",
    "\n",
    "import warnings\n",
    "warnings.filterwarnings('ignore')"
   ]
  },
  {
   "cell_type": "markdown",
   "metadata": {},
   "source": [
    "## **1.1 from_tensor_slices**"
   ]
  },
  {
   "cell_type": "code",
   "execution_count": 2,
   "metadata": {},
   "outputs": [
    {
     "name": "stdout",
     "output_type": "stream",
     "text": [
      "<TensorSliceDataset shapes: (), types: tf.int32>\n"
     ]
    }
   ],
   "source": [
    "dataset = tf.data.Dataset.from_tensor_slices(np.arange(10))\n",
    "print(dataset)"
   ]
  },
  {
   "cell_type": "code",
   "execution_count": 3,
   "metadata": {},
   "outputs": [
    {
     "name": "stdout",
     "output_type": "stream",
     "text": [
      "tf.Tensor(0, shape=(), dtype=int32)\ttf.Tensor(1, shape=(), dtype=int32)\ttf.Tensor(2, shape=(), dtype=int32)\ttf.Tensor(3, shape=(), dtype=int32)\ttf.Tensor(4, shape=(), dtype=int32)\ttf.Tensor(5, shape=(), dtype=int32)\ttf.Tensor(6, shape=(), dtype=int32)\ttf.Tensor(7, shape=(), dtype=int32)\ttf.Tensor(8, shape=(), dtype=int32)\ttf.Tensor(9, shape=(), dtype=int32)\t"
     ]
    }
   ],
   "source": [
    "for item in dataset:\n",
    "    print(item, end='\\t')"
   ]
  },
  {
   "cell_type": "markdown",
   "metadata": {},
   "source": [
    "## **1.2 基本操作**"
   ]
  },
  {
   "cell_type": "markdown",
   "metadata": {},
   "source": [
    "**repeat epoch**"
   ]
  },
  {
   "cell_type": "code",
   "execution_count": 4,
   "metadata": {},
   "outputs": [],
   "source": [
    "dataset = dataset.repeat(3) # 参数表示重复多少次，没有传入的话表示重复无限次"
   ]
  },
  {
   "cell_type": "markdown",
   "metadata": {},
   "source": [
    "**get batch**"
   ]
  },
  {
   "cell_type": "code",
   "execution_count": 5,
   "metadata": {},
   "outputs": [],
   "source": [
    "dataset = dataset.batch(7) # 参数表示batch_size的大小"
   ]
  },
  {
   "cell_type": "code",
   "execution_count": 6,
   "metadata": {},
   "outputs": [
    {
     "name": "stdout",
     "output_type": "stream",
     "text": [
      "tf.Tensor([0 1 2 3 4 5 6], shape=(7,), dtype=int32)\n",
      "tf.Tensor([7 8 9 0 1 2 3], shape=(7,), dtype=int32)\n",
      "tf.Tensor([4 5 6 7 8 9 0], shape=(7,), dtype=int32)\n",
      "tf.Tensor([1 2 3 4 5 6 7], shape=(7,), dtype=int32)\n",
      "tf.Tensor([8 9], shape=(2,), dtype=int32)\n"
     ]
    }
   ],
   "source": [
    "for item in dataset:\n",
    "    print(item)"
   ]
  },
  {
   "cell_type": "markdown",
   "metadata": {},
   "source": [
    "**interleave:对数据集中的每个数据进行处理, 将变换后的数据合并形成一个新的数据集**      \n",
    "> 当你的dataset是文件名的时候，可以使用interleave来读取数据形成新的dataset"
   ]
  },
  {
   "cell_type": "code",
   "execution_count": 9,
   "metadata": {},
   "outputs": [
    {
     "name": "stdout",
     "output_type": "stream",
     "text": [
      "tf.Tensor(0, shape=(), dtype=int32)\n",
      "tf.Tensor(1, shape=(), dtype=int32)\n",
      "tf.Tensor(2, shape=(), dtype=int32)\n",
      "tf.Tensor(3, shape=(), dtype=int32)\n",
      "tf.Tensor(4, shape=(), dtype=int32)\n",
      "tf.Tensor(7, shape=(), dtype=int32)\n",
      "tf.Tensor(8, shape=(), dtype=int32)\n",
      "tf.Tensor(9, shape=(), dtype=int32)\n",
      "tf.Tensor(0, shape=(), dtype=int32)\n",
      "tf.Tensor(1, shape=(), dtype=int32)\n",
      "tf.Tensor(4, shape=(), dtype=int32)\n",
      "tf.Tensor(5, shape=(), dtype=int32)\n",
      "tf.Tensor(6, shape=(), dtype=int32)\n",
      "tf.Tensor(7, shape=(), dtype=int32)\n",
      "tf.Tensor(8, shape=(), dtype=int32)\n",
      "tf.Tensor(1, shape=(), dtype=int32)\n",
      "tf.Tensor(2, shape=(), dtype=int32)\n",
      "tf.Tensor(3, shape=(), dtype=int32)\n",
      "tf.Tensor(4, shape=(), dtype=int32)\n",
      "tf.Tensor(5, shape=(), dtype=int32)\n",
      "tf.Tensor(8, shape=(), dtype=int32)\n",
      "tf.Tensor(9, shape=(), dtype=int32)\n",
      "tf.Tensor(5, shape=(), dtype=int32)\n",
      "tf.Tensor(6, shape=(), dtype=int32)\n",
      "tf.Tensor(2, shape=(), dtype=int32)\n",
      "tf.Tensor(3, shape=(), dtype=int32)\n",
      "tf.Tensor(9, shape=(), dtype=int32)\n",
      "tf.Tensor(0, shape=(), dtype=int32)\n",
      "tf.Tensor(6, shape=(), dtype=int32)\n",
      "tf.Tensor(7, shape=(), dtype=int32)\n"
     ]
    }
   ],
   "source": [
    "dataset2 = dataset.interleave(\n",
    "    lambda x : tf.data.Dataset.from_tensor_slices(x), # map_fnb表示函数\n",
    "    cycle_length = 5, # 并行数opt\n",
    "    block_length = 5 # 每个输入产生的连续元素数量opt\n",
    ")\n",
    "    \n",
    "for item in dataset2:\n",
    "    print(item)"
   ]
  },
  {
   "cell_type": "markdown",
   "metadata": {},
   "source": [
    "## **1.3 多个数据的处理**"
   ]
  },
  {
   "cell_type": "code",
   "execution_count": 12,
   "metadata": {},
   "outputs": [
    {
     "name": "stdout",
     "output_type": "stream",
     "text": [
      "(<tf.Tensor: id=98, shape=(2,), dtype=int32, numpy=array([1, 2])>, <tf.Tensor: id=99, shape=(), dtype=int32, numpy=0>)\n",
      "(<tf.Tensor: id=100, shape=(2,), dtype=int32, numpy=array([2, 3])>, <tf.Tensor: id=101, shape=(), dtype=int32, numpy=1>)\n",
      "(<tf.Tensor: id=102, shape=(2,), dtype=int32, numpy=array([3, 4])>, <tf.Tensor: id=103, shape=(), dtype=int32, numpy=3>)\n"
     ]
    }
   ],
   "source": [
    "x = np.array([[1, 2], [2, 3], [3, 4]])\n",
    "y = np.array([0, 1, 3])\n",
    "dataset3 = tf.data.Dataset.from_tensor_slices((x, y))\n",
    "for item in dataset3:\n",
    "    print(item)"
   ]
  },
  {
   "cell_type": "code",
   "execution_count": 13,
   "metadata": {},
   "outputs": [
    {
     "name": "stdout",
     "output_type": "stream",
     "text": [
      "{'features': <tf.Tensor: id=112, shape=(2,), dtype=int32, numpy=array([1, 2])>, 'labels': <tf.Tensor: id=113, shape=(), dtype=int32, numpy=0>}\n",
      "{'features': <tf.Tensor: id=114, shape=(2,), dtype=int32, numpy=array([2, 3])>, 'labels': <tf.Tensor: id=115, shape=(), dtype=int32, numpy=1>}\n",
      "{'features': <tf.Tensor: id=116, shape=(2,), dtype=int32, numpy=array([3, 4])>, 'labels': <tf.Tensor: id=117, shape=(), dtype=int32, numpy=3>}\n"
     ]
    }
   ],
   "source": [
    "x = np.array([[1, 2], [2, 3], [3, 4]])\n",
    "y = np.array([0, 1, 3])\n",
    "dataset3 = tf.data.Dataset.from_tensor_slices({'features':x, 'labels':y})\n",
    "for item in dataset3:\n",
    "    print(item)"
   ]
  },
  {
   "cell_type": "code",
   "execution_count": null,
   "metadata": {},
   "outputs": [],
   "source": []
  }
 ],
 "metadata": {
  "kernelspec": {
   "display_name": "tf2_tr12",
   "language": "python",
   "name": "tf2_tr12"
  },
  "language_info": {
   "codemirror_mode": {
    "name": "ipython",
    "version": 3
   },
   "file_extension": ".py",
   "mimetype": "text/x-python",
   "name": "python",
   "nbconvert_exporter": "python",
   "pygments_lexer": "ipython3",
   "version": "3.6.7"
  }
 },
 "nbformat": 4,
 "nbformat_minor": 2
}

{
 "cells": [
  {
   "cell_type": "markdown",
   "metadata": {},
   "source": [
    "# **基于Tf-keras的分类模型**"
   ]
  },
  {
   "cell_type": "code",
   "execution_count": 1,
   "metadata": {},
   "outputs": [],
   "source": [
    "import matplotlib\n",
    "import matplotlib.pyplot as plt\n",
    "%matplotlib inline\n",
    "import numpy as np\n",
    "import sklearn\n",
    "import pandas as pd\n",
    "import os, sys, time\n",
    "import tensorflow as tf\n",
    "from tensorflow import keras"
   ]
  },
  {
   "cell_type": "markdown",
   "metadata": {},
   "source": [
    "## **加载数据集**"
   ]
  },
  {
   "cell_type": "markdown",
   "metadata": {},
   "source": [
    "我们使用**fashion-mnist**数据集"
   ]
  },
  {
   "cell_type": "code",
   "execution_count": 2,
   "metadata": {},
   "outputs": [],
   "source": [
    "fashion_mnist = keras.datasets.fashion_mnist\n",
    "(X_train_all, y_train_all), (X_test, y_test) = fashion_mnist.load_data()"
   ]
  },
  {
   "cell_type": "code",
   "execution_count": 3,
   "metadata": {},
   "outputs": [
    {
     "name": "stdout",
     "output_type": "stream",
     "text": [
      "(55000, 28, 28) (55000,) (5000, 28, 28) (5000,)\n"
     ]
    }
   ],
   "source": [
    "X_valid, X_train = X_train_all[:5000], X_train_all[5000:]\n",
    "y_valid, y_train = y_train_all[:5000], y_train_all[5000:]\n",
    "print(X_train.shape, y_train.shape, X_valid.shape, y_valid.shape)"
   ]
  },
  {
   "cell_type": "code",
   "execution_count": 4,
   "metadata": {},
   "outputs": [],
   "source": [
    "# (x - mean) / std\n",
    "from sklearn.preprocessing import StandardScaler\n",
    "std_scaler = StandardScaler()\n",
    "std_scaler.fit(X_train.astype(np.float32).reshape(-1, 1))\n",
    "X_train_scaled = std_scaler.transform(X_train.astype(np.float32).reshape(-1, 1)).reshape(-1, 28, 28)\n",
    "X_valid_scaled = std_scaler.transform(X_valid.astype(np.float32).reshape(-1, 1)).reshape(-1, 28, 28)"
   ]
  },
  {
   "cell_type": "markdown",
   "metadata": {},
   "source": [
    "## **模型搭建**Sequential"
   ]
  },
  {
   "cell_type": "code",
   "execution_count": 5,
   "metadata": {},
   "outputs": [],
   "source": [
    "# tf.keras.models.Sequential\n",
    "model = keras.models.Sequential()\n",
    "\n",
    "# 添加层\n",
    "model.add(keras.layers.Flatten(input_shape=[28, 28]))\n",
    "model.add(keras.layers.Dense(300, activation='relu'))\n",
    "model.add(keras.layers.Dense(100, activation='relu'))\n",
    "model.add(keras.layers.Dense(10, activation='softmax'))\n",
    "# Sequential可以接受一个*args参数\n",
    "# compile\n",
    "model.compile(loss='sparse_categorical_crossentropy', optimizer='Adam', metrics=['accuracy'])"
   ]
  },
  {
   "cell_type": "markdown",
   "metadata": {},
   "source": [
    "**sparse_categorical_crossentrogy和categorical_crossentrogy**\n",
    " - 前者:y_true为index集合， y_pred为模型输出\n",
    " - 后者:y_true为one-hot"
   ]
  },
  {
   "cell_type": "code",
   "execution_count": 7,
   "metadata": {},
   "outputs": [
    {
     "name": "stdout",
     "output_type": "stream",
     "text": [
      "Train on 55000 samples, validate on 5000 samples\n",
      "Epoch 1/10\n",
      "55000/55000 [==============================] - 6s 115us/sample - loss: 0.4084 - accuracy: 0.8495 - val_loss: 0.3542 - val_accuracy: 0.8792\n",
      "Epoch 2/10\n",
      "55000/55000 [==============================] - 6s 115us/sample - loss: 0.3141 - accuracy: 0.8834 - val_loss: 0.3614 - val_accuracy: 0.8678\n",
      "Epoch 3/10\n",
      "55000/55000 [==============================] - 6s 116us/sample - loss: 0.2902 - accuracy: 0.8920 - val_loss: 0.3319 - val_accuracy: 0.8870\n",
      "Epoch 4/10\n",
      "55000/55000 [==============================] - 6s 104us/sample - loss: 0.2727 - accuracy: 0.8979 - val_loss: 0.3211 - val_accuracy: 0.8838\n",
      "Epoch 5/10\n",
      "55000/55000 [==============================] - 6s 101us/sample - loss: 0.2583 - accuracy: 0.9049 - val_loss: 0.3331 - val_accuracy: 0.8840\n",
      "Epoch 6/10\n",
      "55000/55000 [==============================] - 6s 106us/sample - loss: 0.2446 - accuracy: 0.9089 - val_loss: 0.3613 - val_accuracy: 0.8770\n",
      "Epoch 7/10\n",
      "55000/55000 [==============================] - 6s 105us/sample - loss: 0.2319 - accuracy: 0.9129 - val_loss: 0.3240 - val_accuracy: 0.8892\n",
      "Epoch 8/10\n",
      "55000/55000 [==============================] - 6s 101us/sample - loss: 0.2217 - accuracy: 0.9176 - val_loss: 0.3277 - val_accuracy: 0.8930\n",
      "Epoch 9/10\n",
      "55000/55000 [==============================] - 6s 102us/sample - loss: 0.2138 - accuracy: 0.9203 - val_loss: 0.3252 - val_accuracy: 0.8908\n",
      "Epoch 10/10\n",
      "55000/55000 [==============================] - 6s 102us/sample - loss: 0.2044 - accuracy: 0.9227 - val_loss: 0.3348 - val_accuracy: 0.8912\n"
     ]
    }
   ],
   "source": [
    "# fit\n",
    "history = model.fit(X_train_scaled, y_train, epochs=10, validation_data=(X_valid_scaled, y_valid))"
   ]
  },
  {
   "cell_type": "code",
   "execution_count": null,
   "metadata": {},
   "outputs": [],
   "source": []
  }
 ],
 "metadata": {
  "kernelspec": {
   "display_name": "tf2_tr12",
   "language": "python",
   "name": "tf2_tr12"
  },
  "language_info": {
   "codemirror_mode": {
    "name": "ipython",
    "version": 3
   },
   "file_extension": ".py",
   "mimetype": "text/x-python",
   "name": "python",
   "nbconvert_exporter": "python",
   "pygments_lexer": "ipython3",
   "version": "3.6.7"
  }
 },
 "nbformat": 4,
 "nbformat_minor": 4
}

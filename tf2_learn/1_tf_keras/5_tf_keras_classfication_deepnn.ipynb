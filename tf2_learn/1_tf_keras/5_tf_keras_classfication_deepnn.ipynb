{
 "cells": [
  {
   "cell_type": "markdown",
   "metadata": {},
   "source": [
    "# **基于Tf-keras的分类模型**"
   ]
  },
  {
   "cell_type": "code",
   "execution_count": 7,
   "metadata": {},
   "outputs": [],
   "source": [
    "import matplotlib\n",
    "import matplotlib.pyplot as plt\n",
    "%matplotlib inline\n",
    "import numpy as np\n",
    "import sklearn\n",
    "import pandas as pd\n",
    "import os, sys, time\n",
    "import tensorflow as tf\n",
    "from tensorflow import keras"
   ]
  },
  {
   "cell_type": "markdown",
   "metadata": {},
   "source": [
    "## **加载数据集**"
   ]
  },
  {
   "cell_type": "markdown",
   "metadata": {},
   "source": [
    "我们使用**fashion-mnist**数据集"
   ]
  },
  {
   "cell_type": "code",
   "execution_count": 8,
   "metadata": {},
   "outputs": [],
   "source": [
    "fashion_mnist = keras.datasets.fashion_mnist\n",
    "(X_train_all, y_train_all), (X_test, y_test) = fashion_mnist.load_data()"
   ]
  },
  {
   "cell_type": "code",
   "execution_count": 9,
   "metadata": {},
   "outputs": [
    {
     "name": "stdout",
     "output_type": "stream",
     "text": [
      "(55000, 28, 28) (55000,) (5000, 28, 28) (5000,)\n"
     ]
    }
   ],
   "source": [
    "X_valid, X_train = X_train_all[:5000], X_train_all[5000:]\n",
    "y_valid, y_train = y_train_all[:5000], y_train_all[5000:]\n",
    "print(X_train.shape, y_train.shape, X_valid.shape, y_valid.shape)"
   ]
  },
  {
   "cell_type": "code",
   "execution_count": 10,
   "metadata": {},
   "outputs": [],
   "source": [
    "# (x - mean) / std\n",
    "from sklearn.preprocessing import StandardScaler\n",
    "std_scaler = StandardScaler()\n",
    "std_scaler.fit(X_train.astype(np.float32).reshape(-1, 1))\n",
    "X_train_scaled = std_scaler.transform(X_train.astype(np.float32).reshape(-1, 1)).reshape(-1, 28, 28)\n",
    "X_valid_scaled = std_scaler.transform(X_valid.astype(np.float32).reshape(-1, 1)).reshape(-1, 28, 28)"
   ]
  },
  {
   "cell_type": "markdown",
   "metadata": {},
   "source": [
    "## **模型搭建**Sequential"
   ]
  },
  {
   "cell_type": "code",
   "execution_count": 11,
   "metadata": {},
   "outputs": [],
   "source": [
    "# tf.keras.models.Sequential\n",
    "model = keras.models.Sequential()\n",
    "\n",
    "# 添加层\n",
    "model.add(keras.layers.Flatten(input_shape=[28, 28]))\n",
    "for _ in range(20):\n",
    "    model.add(keras.layers.Dense(100, activation='relu'))\n",
    "model.add(keras.layers.Dense(10, activation='softmax'))\n",
    "# Sequential可以接受一个*args参数\n",
    "# compile\n",
    "model.compile(loss='sparse_categorical_crossentropy', optimizer='Adam', metrics=['accuracy'])"
   ]
  },
  {
   "cell_type": "markdown",
   "metadata": {},
   "source": [
    "**sparse_categorical_crossentrogy和categorical_crossentrogy**\n",
    " - 前者:y_true为index集合， y_pred为模型输出\n",
    " - 后者:y_true为one-hot"
   ]
  },
  {
   "cell_type": "code",
   "execution_count": 12,
   "metadata": {},
   "outputs": [
    {
     "name": "stdout",
     "output_type": "stream",
     "text": [
      "Train on 55000 samples, validate on 5000 samples\n",
      "Epoch 1/10\n",
      "55000/55000 [==============================] - 13s 235us/sample - loss: 0.8948 - accuracy: 0.6322 - val_loss: 0.6691 - val_accuracy: 0.7250\n",
      "Epoch 2/10\n",
      "55000/55000 [==============================] - 12s 210us/sample - loss: 0.7259 - accuracy: 0.7254 - val_loss: 0.6058 - val_accuracy: 0.7724\n",
      "Epoch 3/10\n",
      "55000/55000 [==============================] - 11s 205us/sample - loss: 0.6213 - accuracy: 0.7704 - val_loss: 0.6406 - val_accuracy: 0.7682\n",
      "Epoch 4/10\n",
      "55000/55000 [==============================] - 11s 208us/sample - loss: 0.5945 - accuracy: 0.7824 - val_loss: 0.6604 - val_accuracy: 0.7618\n",
      "Epoch 5/10\n",
      "55000/55000 [==============================] - 11s 209us/sample - loss: 0.6234 - accuracy: 0.7778 - val_loss: 0.6164 - val_accuracy: 0.7738\n",
      "Epoch 6/10\n",
      "55000/55000 [==============================] - 11s 192us/sample - loss: 0.7816 - accuracy: 0.7091 - val_loss: 0.8847 - val_accuracy: 0.7128\n",
      "Epoch 7/10\n",
      "55000/55000 [==============================] - 10s 190us/sample - loss: 0.8007 - accuracy: 0.7077 - val_loss: 1.0196 - val_accuracy: 0.6584\n",
      "Epoch 8/10\n",
      "55000/55000 [==============================] - 10s 181us/sample - loss: 0.7325 - accuracy: 0.7425 - val_loss: 0.6319 - val_accuracy: 0.7742\n",
      "Epoch 9/10\n",
      "55000/55000 [==============================] - 10s 190us/sample - loss: 0.6204 - accuracy: 0.7775 - val_loss: 0.6525 - val_accuracy: 0.7918\n",
      "Epoch 10/10\n",
      "55000/55000 [==============================] - 11s 196us/sample - loss: 0.6057 - accuracy: 0.7827 - val_loss: 0.5367 - val_accuracy: 0.8148\n"
     ]
    }
   ],
   "source": [
    "# fit\n",
    "history = model.fit(X_train_scaled, y_train, epochs=10, validation_data=(X_valid_scaled, y_valid))"
   ]
  },
  {
   "cell_type": "code",
   "execution_count": null,
   "metadata": {},
   "outputs": [],
   "source": []
  }
 ],
 "metadata": {
  "kernelspec": {
   "display_name": "tf2_tr12",
   "language": "python",
   "name": "tf2_tr12"
  },
  "language_info": {
   "codemirror_mode": {
    "name": "ipython",
    "version": 3
   },
   "file_extension": ".py",
   "mimetype": "text/x-python",
   "name": "python",
   "nbconvert_exporter": "python",
   "pygments_lexer": "ipython3",
   "version": "3.6.7"
  }
 },
 "nbformat": 4,
 "nbformat_minor": 4
}

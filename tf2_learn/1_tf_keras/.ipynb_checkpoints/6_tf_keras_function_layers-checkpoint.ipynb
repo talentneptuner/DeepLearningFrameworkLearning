{
 "cells": [
  {
   "cell_type": "markdown",
   "metadata": {},
   "source": [
    "# **基于Tf-keras的分类模型**"
   ]
  },
  {
   "cell_type": "code",
   "execution_count": 1,
   "metadata": {},
   "outputs": [],
   "source": [
    "import matplotlib\n",
    "import matplotlib.pyplot as plt\n",
    "%matplotlib inline\n",
    "import numpy as np\n",
    "import sklearn\n",
    "import pandas as pd\n",
    "import os, sys, time\n",
    "import tensorflow as tf\n",
    "from tensorflow import keras"
   ]
  },
  {
   "cell_type": "markdown",
   "metadata": {},
   "source": [
    "## **加载数据集**"
   ]
  },
  {
   "cell_type": "markdown",
   "metadata": {},
   "source": [
    "我们使用**fashion-mnist**数据集"
   ]
  },
  {
   "cell_type": "code",
   "execution_count": 2,
   "metadata": {},
   "outputs": [],
   "source": [
    "fashion_mnist = keras.datasets.fashion_mnist\n",
    "(X_train_all, y_train_all), (X_test, y_test) = fashion_mnist.load_data()"
   ]
  },
  {
   "cell_type": "code",
   "execution_count": 3,
   "metadata": {},
   "outputs": [
    {
     "name": "stdout",
     "output_type": "stream",
     "text": [
      "(55000, 28, 28) (55000,) (5000, 28, 28) (5000,)\n"
     ]
    }
   ],
   "source": [
    "X_valid, X_train = X_train_all[:5000], X_train_all[5000:]\n",
    "y_valid, y_train = y_train_all[:5000], y_train_all[5000:]\n",
    "print(X_train.shape, y_train.shape, X_valid.shape, y_valid.shape)"
   ]
  },
  {
   "cell_type": "code",
   "execution_count": 4,
   "metadata": {},
   "outputs": [],
   "source": [
    "# (x - mean) / std\n",
    "from sklearn.preprocessing import StandardScaler\n",
    "std_scaler = StandardScaler()\n",
    "std_scaler.fit(X_train.astype(np.float32).reshape(-1, 1))\n",
    "X_train_scaled = std_scaler.transform(X_train.astype(np.float32).reshape(-1, 1)).reshape(-1, 28, 28)\n",
    "X_valid_scaled = std_scaler.transform(X_valid.astype(np.float32).reshape(-1, 1)).reshape(-1, 28, 28)"
   ]
  },
  {
   "cell_type": "markdown",
   "metadata": {},
   "source": [
    "## **模型搭建**Sequential"
   ]
  },
  {
   "cell_type": "code",
   "execution_count": 5,
   "metadata": {},
   "outputs": [],
   "source": [
    "# tf.keras.models.Sequential\n",
    "model = keras.models.Sequential()\n",
    "\n",
    "# 添加层\n",
    "model.add(keras.layers.Flatten(input_shape=[28, 28]))\n",
    "for _ in range(20):\n",
    "    model.add(keras.layers.Dense(100, activation='relu'))\n",
    "    model.add(keras.layers.BatchNormalization())\n",
    "    # 关于激活函数应该在批归一化前还是后尚有争议\n",
    "    # model.add(keras.layers.Activation('selu'))\n",
    "    # model.add(Dropout(0.5))\n",
    "    # selu激活函数自带归一化\n",
    "    # model.add(keras.layers.AlphaDropout(0.5))\n",
    "    # AlphaDropout不会改变分布特征\n",
    "model.add(keras.layers.Dense(10, activation='softmax'))\n",
    "# Sequential可以接受一个*args参数\n",
    "# compile\n",
    "model.compile(loss='sparse_categorical_crossentropy', optimizer='Adam', metrics=['accuracy'])"
   ]
  },
  {
   "cell_type": "markdown",
   "metadata": {},
   "source": [
    "**sparse_categorical_crossentrogy和categorical_crossentrogy**\n",
    " - 前者:y_true为index集合， y_pred为模型输出\n",
    " - 后者:y_true为one-hot"
   ]
  },
  {
   "cell_type": "code",
   "execution_count": null,
   "metadata": {},
   "outputs": [
    {
     "name": "stdout",
     "output_type": "stream",
     "text": [
      "Train on 55000 samples, validate on 5000 samples\n",
      "Epoch 1/10\n",
      "55000/55000 [==============================] - 58s 1ms/sample - loss: 1.1642 - accuracy: 0.5930 - val_loss: 0.6023 - val_accuracy: 0.7824\n",
      "Epoch 2/10\n",
      "55000/55000 [==============================] - 51s 920us/sample - loss: 0.7204 - accuracy: 0.7503 - val_loss: 0.5538 - val_accuracy: 0.8000\n",
      "Epoch 3/10\n",
      "55000/55000 [==============================] - 50s 913us/sample - loss: 0.6226 - accuracy: 0.7868 - val_loss: 0.5224 - val_accuracy: 0.8156\n",
      "Epoch 4/10\n",
      "55000/55000 [==============================] - 48s 870us/sample - loss: 0.5853 - accuracy: 0.7970 - val_loss: 0.5606 - val_accuracy: 0.7840\n",
      "Epoch 5/10\n",
      "55000/55000 [==============================] - 50s 906us/sample - loss: 0.5549 - accuracy: 0.8126 - val_loss: 0.4283 - val_accuracy: 0.8518\n",
      "Epoch 6/10\n",
      "55000/55000 [==============================] - 50s 916us/sample - loss: 0.5367 - accuracy: 0.8177 - val_loss: 0.4220 - val_accuracy: 0.8526\n",
      "Epoch 7/10\n",
      "36384/55000 [==================>...........] - ETA: 16s - loss: 0.5028 - accuracy: 0.8311"
     ]
    }
   ],
   "source": [
    "# fit\n",
    "history = model.fit(X_train_scaled, y_train, epochs=10, validation_data=(X_valid_scaled, y_valid))"
   ]
  },
  {
   "cell_type": "code",
   "execution_count": null,
   "metadata": {},
   "outputs": [],
   "source": []
  }
 ],
 "metadata": {
  "kernelspec": {
   "display_name": "tf2_tr12",
   "language": "python",
   "name": "tf2_tr12"
  },
  "language_info": {
   "codemirror_mode": {
    "name": "ipython",
    "version": 3
   },
   "file_extension": ".py",
   "mimetype": "text/x-python",
   "name": "python",
   "nbconvert_exporter": "python",
   "pygments_lexer": "ipython3",
   "version": "3.6.7"
  }
 },
 "nbformat": 4,
 "nbformat_minor": 4
}

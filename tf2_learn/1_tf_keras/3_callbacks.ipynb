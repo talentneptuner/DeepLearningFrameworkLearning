{
 "cells": [
  {
   "cell_type": "markdown",
   "metadata": {},
   "source": [
    "# **回调函数**"
   ]
  },
  {
   "cell_type": "markdown",
   "metadata": {},
   "source": [
    "**回调函数**控制的是在训练时进行的一系列的操作，引入位置在`keras.callbacks`"
   ]
  },
  {
   "cell_type": "markdown",
   "metadata": {},
   "source": [
    "**常用回调**\n",
    "- EarlyStopping: 控制训练早停，避免发生过拟合\n",
    "- ModelCheckpoint: 设置保存点\n",
    "- ReduceLROnPlateau: 学习率衰减\n",
    "- TensorBoard: 保存训练记录"
   ]
  },
  {
   "cell_type": "code",
   "execution_count": 1,
   "metadata": {},
   "outputs": [],
   "source": [
    "import matplotlib\n",
    "import matplotlib.pyplot as plt\n",
    "%matplotlib inline\n",
    "import numpy as np\n",
    "import sklearn\n",
    "import pandas as pd\n",
    "import os, sys, time\n",
    "import tensorflow as tf\n",
    "from tensorflow import keras"
   ]
  },
  {
   "cell_type": "code",
   "execution_count": 2,
   "metadata": {},
   "outputs": [
    {
     "name": "stdout",
     "output_type": "stream",
     "text": [
      "(55000, 28, 28) (55000,) (5000, 28, 28) (5000,)\n"
     ]
    }
   ],
   "source": [
    "fashion_mnist = keras.datasets.fashion_mnist\n",
    "(X_train_all, y_train_all), (X_test, y_test) = fashion_mnist.load_data()\n",
    "X_valid, X_train = X_train_all[:5000], X_train_all[5000:]\n",
    "y_valid, y_train = y_train_all[:5000], y_train_all[5000:]\n",
    "print(X_train.shape, y_train.shape, X_valid.shape, y_valid.shape)"
   ]
  },
  {
   "cell_type": "code",
   "execution_count": 3,
   "metadata": {},
   "outputs": [],
   "source": [
    "from sklearn.preprocessing import StandardScaler\n",
    "std_scaler = StandardScaler()\n",
    "std_scaler.fit(X_train.astype(np.float32).reshape(-1, 1))\n",
    "X_train_scaled = std_scaler.transform(X_train.astype(np.float32).reshape(-1, 1)).reshape(-1, 28, 28)\n",
    "X_valid_scaled = std_scaler.transform(X_valid.astype(np.float32).reshape(-1, 1)).reshape(-1, 28, 28)"
   ]
  },
  {
   "cell_type": "code",
   "execution_count": 4,
   "metadata": {},
   "outputs": [],
   "source": [
    "# tf.keras.models.Sequential\n",
    "model = keras.models.Sequential()\n",
    "\n",
    "# 添加层\n",
    "model.add(keras.layers.Flatten(input_shape=[28, 28]))\n",
    "model.add(keras.layers.Dense(300, activation='relu'))\n",
    "model.add(keras.layers.Dense(100, activation='relu'))\n",
    "model.add(keras.layers.Dense(10, activation='softmax'))\n",
    "# Sequential可以接受一个*args参数\n",
    "# compile\n",
    "model.compile(loss='sparse_categorical_crossentropy', optimizer='Adam', metrics=['accuracy'])"
   ]
  },
  {
   "cell_type": "code",
   "execution_count": 5,
   "metadata": {},
   "outputs": [],
   "source": [
    "# Tensorboard EarlyStopping ModelCheckpoint\n",
    "log_dir = os.path.join('callbacks')\n",
    "if not os.path.exists(log_dir):\n",
    "    os.mkdir(log_dir)\n",
    "output_model = os.path.join(os.path.join(log_dir, \n",
    "                                         'fashion_mnist_model.h5'))\n",
    "callbacks = [\n",
    "    keras.callbacks.TensorBoard(log_dir),\n",
    "    keras.callbacks.ModelCheckpoint(output_model, save_best_only=True),\n",
    "    keras.callbacks.EarlyStopping(min_delta=1e-3, patience=5),\n",
    "]"
   ]
  },
  {
   "cell_type": "code",
   "execution_count": 6,
   "metadata": {},
   "outputs": [
    {
     "name": "stdout",
     "output_type": "stream",
     "text": [
      "Train on 55000 samples, validate on 5000 samples\n",
      "Epoch 1/10\n",
      "55000/55000 [==============================] - 7s 119us/sample - loss: 0.4630 - accuracy: 0.8319 - val_loss: 0.3771 - val_accuracy: 0.8592\n",
      "Epoch 2/10\n",
      "55000/55000 [==============================] - 6s 100us/sample - loss: 0.3490 - accuracy: 0.8693 - val_loss: 0.3303 - val_accuracy: 0.8796\n",
      "Epoch 3/10\n",
      "55000/55000 [==============================] - 6s 105us/sample - loss: 0.3151 - accuracy: 0.8823 - val_loss: 0.3254 - val_accuracy: 0.8826\n",
      "Epoch 4/10\n",
      "55000/55000 [==============================] - 6s 104us/sample - loss: 0.2904 - accuracy: 0.8923 - val_loss: 0.3186 - val_accuracy: 0.8906\n",
      "Epoch 5/10\n",
      "55000/55000 [==============================] - 6s 106us/sample - loss: 0.2720 - accuracy: 0.8970 - val_loss: 0.3383 - val_accuracy: 0.8802\n",
      "Epoch 6/10\n",
      "55000/55000 [==============================] - 6s 105us/sample - loss: 0.2569 - accuracy: 0.9039 - val_loss: 0.3048 - val_accuracy: 0.8904\n",
      "Epoch 7/10\n",
      "55000/55000 [==============================] - 6s 103us/sample - loss: 0.2410 - accuracy: 0.9089 - val_loss: 0.3177 - val_accuracy: 0.8908\n",
      "Epoch 8/10\n",
      "55000/55000 [==============================] - 6s 106us/sample - loss: 0.2310 - accuracy: 0.9138 - val_loss: 0.3436 - val_accuracy: 0.8804\n",
      "Epoch 9/10\n",
      "55000/55000 [==============================] - 6s 106us/sample - loss: 0.2183 - accuracy: 0.9168 - val_loss: 0.3298 - val_accuracy: 0.8910\n",
      "Epoch 10/10\n",
      "55000/55000 [==============================] - 6s 107us/sample - loss: 0.2072 - accuracy: 0.9220 - val_loss: 0.3407 - val_accuracy: 0.8900\n"
     ]
    }
   ],
   "source": [
    "history = model.fit(X_train_scaled, y_train, epochs=10, validation_data=(X_valid_scaled, y_valid), callbacks=callbacks)"
   ]
  },
  {
   "cell_type": "code",
   "execution_count": null,
   "metadata": {},
   "outputs": [],
   "source": []
  }
 ],
 "metadata": {
  "kernelspec": {
   "display_name": "tf2_tr12",
   "language": "python",
   "name": "tf2_tr12"
  },
  "language_info": {
   "codemirror_mode": {
    "name": "ipython",
    "version": 3
   },
   "file_extension": ".py",
   "mimetype": "text/x-python",
   "name": "python",
   "nbconvert_exporter": "python",
   "pygments_lexer": "ipython3",
   "version": "3.6.7"
  }
 },
 "nbformat": 4,
 "nbformat_minor": 2
}

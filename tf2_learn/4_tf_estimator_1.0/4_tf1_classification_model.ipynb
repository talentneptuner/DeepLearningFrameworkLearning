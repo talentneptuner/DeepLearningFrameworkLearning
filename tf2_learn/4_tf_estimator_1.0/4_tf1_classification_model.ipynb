{
 "cells": [
  {
   "cell_type": "code",
   "execution_count": 4,
   "metadata": {},
   "outputs": [],
   "source": [
    "import matplotlib\n",
    "import matplotlib.pyplot as plt\n",
    "%matplotlib inline\n",
    "import numpy as np\n",
    "import sklearn\n",
    "import pandas as pd\n",
    "import os, sys, time\n",
    "import tensorflow as tf\n",
    "from tensorflow import keras"
   ]
  },
  {
   "cell_type": "markdown",
   "metadata": {},
   "source": [
    "## **2.1 加载数据集**"
   ]
  },
  {
   "cell_type": "code",
   "execution_count": 5,
   "metadata": {},
   "outputs": [],
   "source": [
    "fashion_mnist = keras.datasets.fashion_mnist\n",
    "(X_train_all, y_train_all), (X_test, y_test) = fashion_mnist.load_data()\n",
    "X_valid, X_train = X_train_all[:5000], X_train_all[5000:]\n",
    "y_valid, y_train = y_train_all[:5000], y_train_all[5000:]\n",
    "from sklearn.preprocessing import StandardScaler\n",
    "std_scaler = StandardScaler()\n",
    "std_scaler.fit(X_train.astype(np.float32).reshape(-1, 1))\n",
    "X_train_scaled = std_scaler.transform(X_train.astype(np.float32).reshape(-1, 1)).reshape(-1, 28, 28)\n",
    "X_valid_scaled = std_scaler.transform(X_valid.astype(np.float32).reshape(-1, 1)).reshape(-1, 28, 28)"
   ]
  },
  {
   "cell_type": "markdown",
   "metadata": {},
   "source": [
    "## **2.2 模型搭建**"
   ]
  },
  {
   "cell_type": "code",
   "execution_count": 7,
   "metadata": {},
   "outputs": [
    {
     "name": "stdout",
     "output_type": "stream",
     "text": [
      "WARNING:tensorflow:From C:\\ProgramData\\Anaconda3\\envs\\dp_gpu\\lib\\site-packages\\tensorflow_core\\python\\ops\\losses\\losses_impl.py:121: where (from tensorflow.python.ops.array_ops) is deprecated and will be removed in a future version.\n",
      "Instructions for updating:\n",
      "Use tf.where in 2.0, which has the same broadcast rule as np.where\n"
     ]
    }
   ],
   "source": [
    "hidden_units = [100, 100]\n",
    "class_num = 10\n",
    "\n",
    "x = tf.placeholder(shape=[None, 28, 28], dtype=tf.float32)\n",
    "y = tf.placeholder(tf.int64, [None])\n",
    "\n",
    "input_for_next_layer = tf.reshape(x, (-1, 784))\n",
    "for hidden_unit in hidden_units:\n",
    "    input_for_next_layer = tf.layers.dense(input_for_next_layer, hidden_unit, activation=tf.nn.relu)\n",
    "logits = tf.layers.dense(input_for_next_layer, class_num)\n",
    "\n",
    "loss = tf.losses.sparse_softmax_cross_entropy(labels=y, logits=logits)\n",
    "predictions = tf.argmax(logits, axis=1)\n",
    "accuracy = tf.reduce_mean(tf.cast(tf.equal(y, predictions), tf.float64))\n",
    "\n",
    "train_op = tf.train.AdadeltaOptimizer(1e-3).minimize(loss)"
   ]
  },
  {
   "cell_type": "code",
   "execution_count": 8,
   "metadata": {},
   "outputs": [
    {
     "name": "stdout",
     "output_type": "stream",
     "text": [
      "Tensor(\"Placeholder_2:0\", shape=(?, 28, 28), dtype=float32)\n",
      "Tensor(\"dense_4/BiasAdd:0\", shape=(?, 10), dtype=float32)\n"
     ]
    }
   ],
   "source": [
    "print(x)\n",
    "print(logits)"
   ]
  },
  {
   "cell_type": "markdown",
   "metadata": {},
   "source": [
    "## **2.3 训练**"
   ]
  },
  {
   "cell_type": "code",
   "execution_count": 13,
   "metadata": {},
   "outputs": [
    {
     "name": "stdout",
     "output_type": "stream",
     "text": [
      "[VALID] acc:0.1828\n",
      "[VALID] acc:0.3128\n",
      "[VALID] acc:0.4222\n",
      "[VALID] acc:0.5094\n",
      "[VALID] acc:0.5794\n",
      "[VALID] acc:0.6220\n",
      "[VALID] acc:0.6528\n",
      "[VALID] acc:0.6782\n",
      "[VALID] acc:0.6952\n",
      "[VALID] acc:0.7078\n",
      "[VALID] acc:0.7156\n",
      "[VALID] acc:0.7218\n",
      "[VALID] acc:0.7262\n",
      "[VALID] acc:0.7328\n",
      "[VALID] acc:0.7372\n"
     ]
    }
   ],
   "source": [
    "init = tf.global_variables_initializer()\n",
    "batch_size = 20\n",
    "epochs = 15\n",
    "train_steps_per_epoch = X_train.shape[0] // batch_size\n",
    "valid_steps_per_epoch = X_valid.shape[0] // batch_size\n",
    "\n",
    "def eval_with_sess(sess, x, y, accuracy, images, labels, batch_size):\n",
    "    eval_steps = images.shape[0] // batch_size\n",
    "    eval_accuracies = []\n",
    "    for step in range(eval_steps):\n",
    "        batch_data = images[step * batch_size : (step + 1) * batch_size]\n",
    "        batch_label = labels[step * batch_size : (step + 1) * batch_size]\n",
    "        acc_val = sess.run(accuracy, feed_dict={x : batch_data, y: batch_label})\n",
    "        eval_accuracies.append(acc_val)\n",
    "    return np.mean(eval_accuracies)\n",
    "    \n",
    "\n",
    "with tf.Session() as sess:\n",
    "    sess.run(init)\n",
    "    for epoch in range(epochs):\n",
    "        for step in range(train_steps_per_epoch):\n",
    "            batch_data = X_train_scaled[step * batch_size : (step + 1) * batch_size]\n",
    "            batch_label = y_train[step * batch_size : (step + 1) * batch_size]\n",
    "            _, acc_train, loss_train = sess.run([train_op, accuracy, loss], feed_dict={x : batch_data, y: batch_label})\n",
    "        valid_acc = eval_with_sess(sess, x, y,accuracy, X_valid_scaled, y_valid, batch_size)\n",
    "        print(f'[VALID] acc:{valid_acc:.4f}')"
   ]
  },
  {
   "cell_type": "code",
   "execution_count": null,
   "metadata": {},
   "outputs": [],
   "source": []
  }
 ],
 "metadata": {
  "kernelspec": {
   "display_name": "tf1_tr12",
   "language": "python",
   "name": "tf1_tr12"
  },
  "language_info": {
   "codemirror_mode": {
    "name": "ipython",
    "version": 3
   },
   "file_extension": ".py",
   "mimetype": "text/x-python",
   "name": "python",
   "nbconvert_exporter": "python",
   "pygments_lexer": "ipython3",
   "version": "3.6.7"
  }
 },
 "nbformat": 4,
 "nbformat_minor": 2
}

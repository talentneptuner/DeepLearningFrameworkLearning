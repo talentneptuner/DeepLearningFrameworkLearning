{
 "cells": [
  {
   "cell_type": "markdown",
   "metadata": {},
   "source": [
    "# **tf1.0&tf2.0**"
   ]
  },
  {
   "cell_type": "markdown",
   "metadata": {},
   "source": [
    "- 静态图和动态图\n",
    "    - session, feed_dict, placeholder被移除\n",
    "    - dataset中的initial被移除\n",
    "    - @tf.function 和 AutoGraph(记住tf2.0中的类似于pytorch的更新方式)\n",
    "\n",
    "- API变动\n",
    "    - tf有2000个api，500个在根空间下\n",
    "    - 一些相关API没有在相关子空间内被移动了\n",
    "    - 移动了部分根空间不常用和非根空间常用\n",
    "    - 层次太深的空间简短了\n",
    "    - layers 到了 keras.layers，losses和metrics同理\n",
    "    - 有前缀的被建立了自动空间\n",
    "    - 重新组织了一些空间"
   ]
  },
  {
   "cell_type": "code",
   "execution_count": null,
   "metadata": {},
   "outputs": [],
   "source": [
    "- 代码升级\n",
    "    - 替换Session.run\n",
    "        - placeholder和feed_dict变成函数调用\n",
    "    - 替换API\n",
    "        - get_variable和varible_scope没有了\n",
    "    - 训练流程升级fit\n",
    "    - 数据输入升级"
   ]
  }
 ],
 "metadata": {
  "kernelspec": {
   "display_name": "i7",
   "language": "python",
   "name": "dpcpu"
  },
  "language_info": {
   "codemirror_mode": {
    "name": "ipython",
    "version": 3
   },
   "file_extension": ".py",
   "mimetype": "text/x-python",
   "name": "python",
   "nbconvert_exporter": "python",
   "pygments_lexer": "ipython3",
   "version": "3.6.2"
  }
 },
 "nbformat": 4,
 "nbformat_minor": 2
}

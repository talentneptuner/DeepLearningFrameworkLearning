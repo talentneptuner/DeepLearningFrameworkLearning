{
 "cells": [
  {
   "cell_type": "code",
   "execution_count": 1,
   "metadata": {},
   "outputs": [],
   "source": [
    "import matplotlib\n",
    "import matplotlib.pyplot as plt\n",
    "%matplotlib inline\n",
    "import numpy as np\n",
    "import sklearn\n",
    "import pandas as pd\n",
    "import os, sys, time\n",
    "import tensorflow as tf\n",
    "from tensorflow import keras"
   ]
  },
  {
   "cell_type": "markdown",
   "metadata": {},
   "source": [
    "## **2.1 概览**"
   ]
  },
  {
   "cell_type": "markdown",
   "metadata": {},
   "source": [
    "- 加载数据\n",
    "- 数据预处理 生成dataset\n",
    "    - tool：位置编码， mask\n",
    "    - scaled_dot_product_attention\n",
    "-  模型\n",
    "    - 多头注意力\n",
    "    - EncoderLayer\n",
    "    - DecoderLayer\n",
    "    - EncoderModel\n",
    "    - DecoderModel\n",
    "    - Transformer\n",
    "- 训练\n",
    "    - optimizer， loss\n",
    "    - train_step, train\n",
    "    - evaluate"
   ]
  },
  {
   "cell_type": "markdown",
   "metadata": {},
   "source": [
    "## 2.2 **加载数据**"
   ]
  },
  {
   "cell_type": "code",
   "execution_count": 2,
   "metadata": {},
   "outputs": [
    {
     "name": "stdout",
     "output_type": "stream",
     "text": [
      "tfds.core.DatasetInfo(\n",
      "    name='ted_hrlr_translate',\n",
      "    version=0.0.1,\n",
      "    description='Data sets derived from TED talk transcripts for comparing similar language pairs\n",
      "where one is high resource and the other is low resource.\n",
      "',\n",
      "    homepage='https://github.com/neulab/word-embeddings-for-nmt',\n",
      "    features=Translation({\n",
      "        'en': Text(shape=(), dtype=tf.string),\n",
      "        'pt': Text(shape=(), dtype=tf.string),\n",
      "    }),\n",
      "    total_num_examples=54781,\n",
      "    splits={\n",
      "        'test': 1803,\n",
      "        'train': 51785,\n",
      "        'validation': 1193,\n",
      "    },\n",
      "    supervised_keys=('pt', 'en'),\n",
      "    citation=\"\"\"@inproceedings{Ye2018WordEmbeddings,\n",
      "      author  = {Ye, Qi and Devendra, Sachan and Matthieu, Felix and Sarguna, Padmanabhan and Graham, Neubig},\n",
      "      title   = {When and Why are pre-trained word embeddings useful for Neural Machine Translation},\n",
      "      booktitle = {HLT-NAACL},\n",
      "      year    = {2018},\n",
      "      }\"\"\",\n",
      "    redistribution_info=,\n",
      ")\n",
      "\n"
     ]
    }
   ],
   "source": [
    "import tensorflow_datasets as tfds\n",
    "examples, info = tfds.load('ted_hrlr_translate/pt_to_en', \n",
    "                           with_info = True,\n",
    "                           as_supervised = True)\n",
    "\n",
    "train_examples, val_examples = examples['train'], examples['validation']\n",
    "print(info)"
   ]
  },
  {
   "cell_type": "code",
   "execution_count": 3,
   "metadata": {},
   "outputs": [
    {
     "name": "stdout",
     "output_type": "stream",
     "text": [
      "b'os astr\\xc3\\xb3nomos acreditam que cada estrela da gal\\xc3\\xa1xia tem um planeta , e especulam que at\\xc3\\xa9 um quinto deles tem um planeta do tipo da terra que poder\\xc3\\xa1 ter vida , mas ainda n\\xc3\\xa3o vimos nenhum deles .' b\"astronomers now believe that every star in the galaxy has a planet , and they speculate that up to one fifth of them have an earth-like planet that might be able to harbor life , but we have n't seen any of them .\"\n",
      "-----\n",
      "b'o problema \\xc3\\xa9 que nunca vivi l\\xc3\\xa1 um \\xc3\\xbanico dia .' b\"except , i 've never lived one day of my life there .\"\n",
      "-----\n",
      "b'agora aqui temos imagens sendo extra\\xc3\\xaddas em tempo real diretamente do feed ,' b'now here are live images being pulled straight from the feed .'\n",
      "-----\n",
      "b'agora : um , dois , tr\\xc3\\xaas , vai .' b'so : one , two , three , go .'\n",
      "-----\n",
      "b'eventualmente , vamos ver se teremos todos os sentidos humanos empregues , e se vamos ter meios para viver a hist\\xc3\\xb3ria qualquer que seja a via escolhida .' b'eventually , we can see if we will have all of our human senses employed , and we will have agency to live the story in any path we choose .'\n",
      "-----\n"
     ]
    }
   ],
   "source": [
    "for pt, en in train_examples.take(5):\n",
    "    print(pt.numpy(), en.numpy())\n",
    "    print('-----')"
   ]
  },
  {
   "cell_type": "markdown",
   "metadata": {},
   "source": [
    "### **2.2.1 建立subword tokenizer**"
   ]
  },
  {
   "cell_type": "code",
   "execution_count": 4,
   "metadata": {},
   "outputs": [],
   "source": [
    "en_tokenizer = tfds.features.text.SubwordTextEncoder.build_from_corpus(\n",
    "    (en.numpy() for pt, en in train_examples), target_vocab_size = 2 ** 13)\n",
    "pt_tokenizer = tfds.features.text.SubwordTextEncoder.build_from_corpus(\n",
    "    (pt.numpy() for pt, en in train_examples), target_vocab_size = 2 ** 13)"
   ]
  },
  {
   "cell_type": "code",
   "execution_count": 5,
   "metadata": {},
   "outputs": [
    {
     "name": "stdout",
     "output_type": "stream",
     "text": [
      "[7915, 1248, 7946, 7194, 13, 2799, 7877]\n",
      "Transformer is awesome.\n",
      "7915 T\n",
      "1248 ran\n",
      "7946 s\n",
      "7194 former \n",
      "13 is \n",
      "2799 awesome\n",
      "7877 .\n"
     ]
    }
   ],
   "source": [
    "sample_string = 'Transformer is awesome.'\n",
    "tokenized_string = en_tokenizer.encode(sample_string)\n",
    "print(tokenized_string)\n",
    "print(en_tokenizer.decode(tokenized_string))\n",
    "for token in tokenized_string:\n",
    "    print(token, en_tokenizer.decode([token]))"
   ]
  },
  {
   "cell_type": "markdown",
   "metadata": {},
   "source": [
    "### **2.2.2 创建数据集**"
   ]
  },
  {
   "cell_type": "code",
   "execution_count": 6,
   "metadata": {},
   "outputs": [],
   "source": [
    "buffer_size = 20000\n",
    "batch_size = 64\n",
    "max_length = 40\n",
    "\n",
    "def encode_to_subword(pt_sentence, en_sentence):\n",
    "    # 用 [pt_tokenizer.vocab_size] 代替eos\n",
    "    pt_sentence = [pt_tokenizer.vocab_size] + pt_tokenizer.encode(pt_sentence.numpy()) + [pt_tokenizer.vocab_size + 1]\n",
    "    \n",
    "    en_sentence = [en_tokenizer.vocab_size] + en_tokenizer.encode(en_sentence.numpy()) + [en_tokenizer.vocab_size + 1]\n",
    "    \n",
    "    return pt_sentence, en_sentence\n",
    "\n",
    "def filter_by_max_length(pt, en):\n",
    "    return tf.logical_and(tf.size(pt) <= max_length, tf.size(en) <= max_length)\n",
    "\n",
    "# 封装encode_to_subword, 即将tensor转换为numpy计算后恢复tensor返回\n",
    "def tf_encode_to_subword(pt_sentence, en_sentence):\n",
    "    return tf.py_function(encode_to_subword, [pt_sentence, en_sentence], [tf.int64, tf.int64])\n",
    "\n",
    "train_dataset = train_examples.map(tf_encode_to_subword)\n",
    "train_dataset = train_dataset.filter(filter_by_max_length)\n",
    "train_dataset = train_dataset.shuffle(buffer_size).padded_batch(batch_size, padded_shapes = ([-1], [-1]))\n",
    "\n",
    "valid_dataset = val_examples.map(tf_encode_to_subword)\n",
    "valid_dataset = valid_dataset.filter(filter_by_max_length)\n",
    "valid_dataset = valid_dataset.padded_batch(batch_size, padded_shapes = ([-1], [-1]))"
   ]
  },
  {
   "cell_type": "code",
   "execution_count": 7,
   "metadata": {},
   "outputs": [
    {
     "name": "stdout",
     "output_type": "stream",
     "text": [
      "(64, 36) (64, 39)\n",
      "(64, 39) (64, 37)\n",
      "(64, 39) (64, 38)\n",
      "(64, 37) (64, 38)\n",
      "(64, 32) (64, 37)\n"
     ]
    }
   ],
   "source": [
    "for pt_batch, en_batch in train_dataset.take(5):\n",
    "    print(pt_batch.shape, en_batch.shape)"
   ]
  },
  {
   "cell_type": "markdown",
   "metadata": {},
   "source": [
    "## **2.3 功能函数**"
   ]
  },
  {
   "cell_type": "markdown",
   "metadata": {},
   "source": [
    "### **2.3.1 Positional Encoding**"
   ]
  },
  {
   "cell_type": "markdown",
   "metadata": {},
   "source": [
    "$$\n",
    " \\large PE(pos, 2i) = sin(pos / 10000^{2i/d_{model}}) \\\\ \n",
    "    \\large PE(pos, 2i+1) = cos(pos / 10000^{2i/d_{model}})\n",
    "$$"
   ]
  },
  {
   "cell_type": "markdown",
   "metadata": {},
   "source": [
    "$2i$和$2i + 1$是encoding后的位置，$pos$是句子时间步位置"
   ]
  },
  {
   "cell_type": "code",
   "execution_count": 8,
   "metadata": {},
   "outputs": [
    {
     "name": "stdout",
     "output_type": "stream",
     "text": [
      "(1, 50, 512)\n"
     ]
    }
   ],
   "source": [
    "def get_angles(pos, i, d_model):\n",
    "    '''\n",
    "    pos : [L, 1]    \n",
    "    i : [1, d_model]\n",
    "    return : [L, d_model]\n",
    "    '''\n",
    "    angle_rates = 1 / np.power(10000, (2 * (i // 2) / np.float32(d_model)))\n",
    "    return pos * angle_rates\n",
    "\n",
    "def get_postional_encoding(sentence_length, d_model):\n",
    "    angle_rads = get_angles(np.arange(sentence_length)[:, np.newaxis], \n",
    "                            np.arange(d_model)[np.newaxis, :],\n",
    "                            d_model)\n",
    "#     position_encoding = np.zeros([sentence_length, d_model], dtype=np.float32)\n",
    "#     position_encoding[:, 0::2] = np.sin(angle_rads[:, 0::2]) # 取出偶数位的所有数字 [L, d_model/2]\n",
    "#     position_encoding[:, 1::2] = np.cos(angle_rads[:, 1::2]) # 取出奇数位的所有数字\n",
    "\n",
    "    sines = np.sin(angle_rads[:, 0::2])\n",
    "    cosines = np.cos(angle_rads[:, 1::2])\n",
    "    position_encoding = np.concatenate([sines, cosines], axis=-1)\n",
    "    \n",
    "    position_encoding =  position_encoding[np.newaxis, :, :] # [1, L, d_model]\n",
    "    return tf.cast(position_encoding, dtype=tf.float32)\n",
    "\n",
    "positional_encoding = get_postional_encoding(50, 512)\n",
    "print(positional_encoding.shape)"
   ]
  },
  {
   "cell_type": "code",
   "execution_count": 9,
   "metadata": {},
   "outputs": [
    {
     "data": {
      "image/png": "[encoded data removed]",
      "text/plain": [
       "<Figure size 432x288 with 2 Axes>"
      ]
     },
     "metadata": {
      "needs_background": "light"
     },
     "output_type": "display_data"
    }
   ],
   "source": [
    "def plot_position_encoding(position_encoding):\n",
    "    plt.pcolormesh(position_encoding[0], cmap = 'RdBu')\n",
    "    plt.xlabel('Depth')\n",
    "    plt.xlim((0, 512))\n",
    "    plt.ylabel('Position')\n",
    "    plt.colorbar()\n",
    "    plt.show()\n",
    "    \n",
    "plot_position_encoding(positional_encoding)"
   ]
  },
  {
   "cell_type": "markdown",
   "metadata": {},
   "source": [
    "### **2.3.2 mask**"
   ]
  },
  {
   "cell_type": "code",
   "execution_count": 10,
   "metadata": {},
   "outputs": [
    {
     "name": "stdout",
     "output_type": "stream",
     "text": [
      "tf.Tensor(\n",
      "[[[[0. 0. 0. 1. 1.]]]\n",
      "\n",
      "\n",
      " [[[0. 0. 1. 1. 1.]]]], shape=(2, 1, 1, 5), dtype=float32)\n"
     ]
    }
   ],
   "source": [
    "def create_padding_mask(batch_data):\n",
    "    '''\n",
    "    @ param\n",
    "    batch_data : [N, seq_len]\n",
    "    '''\n",
    "    padding_mask = tf.cast(tf.math.equal(batch_data, 0), tf.float32)\n",
    "    return padding_mask[:, tf.newaxis, tf.newaxis, :] # [batch_size, 1, 1, seq_len] 加两个维度便于计算\n",
    "\n",
    "x = tf.constant([[1, 2, 3, 0, 0], [2, 3, 0, 0, 0]])\n",
    "print(create_padding_mask(x))"
   ]
  },
  {
   "cell_type": "code",
   "execution_count": 11,
   "metadata": {},
   "outputs": [
    {
     "name": "stdout",
     "output_type": "stream",
     "text": [
      "tf.Tensor(\n",
      "[[0. 1. 1. 1.]\n",
      " [0. 0. 1. 1.]\n",
      " [0. 0. 0. 1.]\n",
      " [0. 0. 0. 0.]], shape=(4, 4), dtype=float32)\n"
     ]
    }
   ],
   "source": [
    "def create_look_ahead_mask(size):\n",
    "    '''\n",
    "    @return\n",
    "    下三角矩阵，下面为0\n",
    "    '''\n",
    "    mask = 1 - tf.linalg.band_part(tf.ones([size, size]), -1, 0)\n",
    "    return mask\n",
    "print(create_look_ahead_mask(4))"
   ]
  },
  {
   "cell_type": "markdown",
   "metadata": {},
   "source": [
    "### **2.3.3 scaled_dot_product_attention**"
   ]
  },
  {
   "cell_type": "code",
   "execution_count": 12,
   "metadata": {},
   "outputs": [],
   "source": [
    "def scaled_dot_product_attention(q, k, v, mask):\n",
    "    '''\n",
    "    args:\n",
    "        q : (N, T_q, d_k)\n",
    "        k : (N, T_k, d_k)\n",
    "        v : (N, T_k, d_v)\n",
    "        mask : (N, d_q, d_k)\n",
    "    returns : \n",
    "        output : (N, T_q, d_v)\n",
    "        attention_weights : ()\n",
    "    '''\n",
    "    matmul_qk = tf.matmul(q, k, transpose_b = True) # (N, T_q, T_k)\n",
    "    \n",
    "    d_k = tf.cast(tf.shape(k)[-1], tf.float32)\n",
    "    \n",
    "    scaled_attention_logits = matmul_qk / tf.math.sqrt(d_k)\n",
    "    \n",
    "    if mask is not None:\n",
    "        scaled_attention_logits += (mask * -1e9) # padding产生的0值的位置会被填充为-1e9\n",
    "    \n",
    "    attention_weights = tf.nn.softmax(scaled_attention_logits, axis = -1) # (N, d_q, d_k)\n",
    "    \n",
    "    output = tf.matmul(attention_weights, v) # (N, T_q, d_v)\n",
    "    \n",
    "    return output, attention_weights"
   ]
  },
  {
   "cell_type": "code",
   "execution_count": 13,
   "metadata": {},
   "outputs": [],
   "source": [
    "def test_scaled_dot_product_attention(q, k, v):\n",
    "    temp_o, temp_att = scaled_dot_product_attention(q, k, v, None)\n",
    "    print('Attention weights:')\n",
    "    print(temp_att)\n",
    "    print('Output:')\n",
    "    print(temp_o)"
   ]
  },
  {
   "cell_type": "code",
   "execution_count": 14,
   "metadata": {},
   "outputs": [
    {
     "name": "stdout",
     "output_type": "stream",
     "text": [
      "Attention weights:\n",
      "tf.Tensor([[8.433274e-26 1.000000e+00 8.433274e-26 8.433274e-26]], shape=(1, 4), dtype=float32)\n",
      "Output:\n",
      "tf.Tensor([[1.000000e+01 9.276601e-25]], shape=(1, 2), dtype=float32)\n"
     ]
    }
   ],
   "source": [
    "temp_k = tf.constant([[10, 0, 0],\n",
    "                      [0, 10, 0],\n",
    "                      [0, 0, 10],\n",
    "                      [0, 0, 10]], dtype=tf.float32)\n",
    "temp_v = tf.constant([[1, 0], \n",
    "                      [10, 0],\n",
    "                      [100, 5],\n",
    "                      [1000, 6]], dtype=tf.float32)\n",
    "temp_q = tf.constant([[0, 10, 0]], dtype=tf.float32)\n",
    "test_scaled_dot_product_attention(temp_q, temp_k, temp_v)"
   ]
  },
  {
   "cell_type": "code",
   "execution_count": 15,
   "metadata": {},
   "outputs": [
    {
     "name": "stdout",
     "output_type": "stream",
     "text": [
      "Attention weights:\n",
      "tf.Tensor([[4.216637e-26 4.216637e-26 5.000000e-01 5.000000e-01]], shape=(1, 4), dtype=float32)\n",
      "Output:\n",
      "tf.Tensor([[550.    5.5]], shape=(1, 2), dtype=float32)\n"
     ]
    }
   ],
   "source": [
    "temp_q2 = tf.constant([[0, 0, 10]], dtype=tf.float32)\n",
    "test_scaled_dot_product_attention(temp_q2, temp_k, temp_v)"
   ]
  },
  {
   "cell_type": "code",
   "execution_count": 16,
   "metadata": {},
   "outputs": [
    {
     "name": "stdout",
     "output_type": "stream",
     "text": [
      "Attention weights:\n",
      "tf.Tensor([[5.000000e-01 5.000000e-01 4.216637e-26 4.216637e-26]], shape=(1, 4), dtype=float32)\n",
      "Output:\n",
      "tf.Tensor([[5.5000000e+00 4.6383005e-25]], shape=(1, 2), dtype=float32)\n"
     ]
    }
   ],
   "source": [
    "temp_q3 = tf.constant([[10, 10, 0]], dtype=tf.float32)\n",
    "test_scaled_dot_product_attention(temp_q3, temp_k, temp_v)"
   ]
  },
  {
   "cell_type": "code",
   "execution_count": 17,
   "metadata": {},
   "outputs": [
    {
     "name": "stdout",
     "output_type": "stream",
     "text": [
      "Attention weights:\n",
      "tf.Tensor(\n",
      "[[[8.433274e-26 1.000000e+00 8.433274e-26 8.433274e-26]]\n",
      "\n",
      " [[4.216637e-26 4.216637e-26 5.000000e-01 5.000000e-01]]\n",
      "\n",
      " [[5.000000e-01 5.000000e-01 4.216637e-26 4.216637e-26]]], shape=(3, 1, 4), dtype=float32)\n",
      "Output:\n",
      "tf.Tensor(\n",
      "[[[1.0000000e+01 9.2766009e-25]]\n",
      "\n",
      " [[5.5000000e+02 5.5000000e+00]]\n",
      "\n",
      " [[5.5000000e+00 4.6383005e-25]]], shape=(3, 1, 2), dtype=float32)\n"
     ]
    }
   ],
   "source": [
    "temp_q4 = tf.stack([temp_q ,temp_q2, temp_q3], axis=0)\n",
    "test_scaled_dot_product_attention(temp_q4, temp_k, temp_v)"
   ]
  },
  {
   "cell_type": "markdown",
   "metadata": {},
   "source": [
    "### **2.3.4 multi-head attention**"
   ]
  },
  {
   "cell_type": "code",
   "execution_count": 18,
   "metadata": {},
   "outputs": [],
   "source": [
    "class MultiHeadAttention(keras.layers.Layer):\n",
    "    \"\"\"\n",
    "    q -> W_q0 -> q0\n",
    "    k -> W_K0 -> k0\n",
    "    v -> W_v0 -> v0\n",
    "    ...............\n",
    "    技巧\n",
    "    q -> W_q -> split -> q0, q1, ...., q8\n",
    "    \"\"\"\n",
    "    def __init__(self, d_model, num_heads):\n",
    "        super(MultiHeadAttention, self).__init__()\n",
    "        self.num_heads = num_heads\n",
    "        self.d_model = d_model\n",
    "        assert d_model % num_heads == 0\n",
    "        \n",
    "        self.depth = self.d_model // self.num_heads\n",
    "        \n",
    "        self.WQ = keras.layers.Dense(self.d_model)\n",
    "        self.WK = keras.layers.Dense(self.d_model)\n",
    "        self.WV = keras.layers.Dense(self.d_model)\n",
    "        \n",
    "        self.dense = keras.layers.Dense(self.d_model)\n",
    "    \n",
    "    def split_heads(self, x, batch_size):\n",
    "        \"\"\"\n",
    "        args:\n",
    "        x : (N, T, d_model)\n",
    "        return:\n",
    "        x : (N, num_heads, T, depth)\n",
    "        \"\"\"\n",
    "        x = tf.reshape(x, (batch_size, -1, self.num_heads, self.depth))\n",
    "        return tf.transpose(x, (0, 2, 1, 3))\n",
    "    \n",
    "    \n",
    "    def call(self, q, k, v, mask):\n",
    "        batch_size = tf.shape(q)[0]\n",
    "        \n",
    "        q = self.WQ(q) # (N, T_q, d_model)\n",
    "        k = self.WK(k) # (N, T_k, d_model)\n",
    "        v = self.WV(v) # (N, T_k, d_model)\n",
    "        \n",
    "        q = self.split_heads(q, batch_size) # (N, num_heads, T_q, depth)\n",
    "        k = self.split_heads(k, batch_size) # (N, num_heads, T_k, depth)\n",
    "        v = self.split_heads(v, batch_size) # 同上\n",
    "        \n",
    "        \n",
    "        scaled_attention_outputs, attention_weights = scaled_dot_product_attention(q, k, v, mask) # (N, num_heads, T_q, depth) (N, num_heads, T_q, T_k)\n",
    "        \n",
    "        scaled_attention_outputs = tf.transpose(scaled_attention_outputs, [0, 2, 1, 3])\n",
    "        concat_attention = tf.reshape(scaled_attention_outputs, (batch_size, -1, self.d_model)) # (N, T_q, d_model)\n",
    "        \n",
    "        output = self.dense(concat_attention) # (N, T_q, d_model)\n",
    "        return output, attention_weights"
   ]
  },
  {
   "cell_type": "code",
   "execution_count": 19,
   "metadata": {},
   "outputs": [
    {
     "name": "stdout",
     "output_type": "stream",
     "text": [
      "(1, 60, 512) (1, 8, 60, 60)\n"
     ]
    }
   ],
   "source": [
    "'''test'''\n",
    "temp_mha = MultiHeadAttention(d_model=512, num_heads=8)\n",
    "\n",
    "y = tf.random.uniform((1, 60, 256)) # (N, T_q, dim)\n",
    "output, attn = temp_mha(y, y, y, None)\n",
    "print(output.shape, attn.shape)"
   ]
  },
  {
   "cell_type": "markdown",
   "metadata": {},
   "source": [
    "### **2.3.4 feedforward**"
   ]
  },
  {
   "cell_type": "code",
   "execution_count": 20,
   "metadata": {},
   "outputs": [],
   "source": [
    "def ff(d_model, dff):\n",
    "    '''\n",
    "    args:\n",
    "    dff : dim of feed forward network\n",
    "    '''\n",
    "    return keras.Sequential([\n",
    "        keras.layers.Dense(dff, activation = 'relu'),\n",
    "        keras.layers.Dense(d_model)\n",
    "    ])"
   ]
  },
  {
   "cell_type": "markdown",
   "metadata": {},
   "source": [
    "## **2.4 Layers**"
   ]
  },
  {
   "cell_type": "markdown",
   "metadata": {},
   "source": [
    "### **2.4.1 Encoder Layer**"
   ]
  },
  {
   "cell_type": "code",
   "execution_count": 21,
   "metadata": {},
   "outputs": [],
   "source": [
    "class EncoderLayer(keras.layers.Layer):\n",
    "    \"\"\"\n",
    "    x -> self attention -> add & normlization -> ff -> add & normalization\n",
    "    在add & normalization里面加入了dropout\n",
    "    \"\"\"\n",
    "    def __init__(self, d_model, num_heads, dff, dropout_rate = 0.1):\n",
    "        super(EncoderLayer, self).__init__()\n",
    "        self.mha = MultiHeadAttention(d_model, num_heads)\n",
    "        self.ffn = ff(d_model, dff)\n",
    "        \n",
    "        self.layer_norm1 = keras.layers.LayerNormalization(epsilon=10e-6)\n",
    "        self.layer_norm2 = keras.layers.LayerNormalization(epsilon=10e-6)\n",
    "        \n",
    "        self.dropout1 = keras.layers.Dropout(dropout_rate)\n",
    "        self.dropout2 = keras.layers.Dropout(dropout_rate)\n",
    "    \n",
    "    def call(self, x, training, encoder_padding_mask):\n",
    "        # x : (N, T, dim) dim == d_model\n",
    "        attn_output, _ = self.mha(x, x, x, encoder_padding_mask) # (N, T, d_model)\n",
    "        attn_output = self.dropout1(attn_output, training=training)\n",
    "        \n",
    "        out1 = self.layer_norm1(x + attn_output)\n",
    "        \n",
    "        ffn_output = self.ffn(out1) # (N, T, d_model)\n",
    "        ffn_output = self.dropout2(ffn_output, training=training)\n",
    "        out2 = self.layer_norm2(out1 + ffn_output)\n",
    "        \n",
    "        return out2"
   ]
  },
  {
   "cell_type": "code",
   "execution_count": 22,
   "metadata": {},
   "outputs": [
    {
     "name": "stdout",
     "output_type": "stream",
     "text": [
      "(64, 50, 512)\n"
     ]
    }
   ],
   "source": [
    "# test\n",
    "sample_encoder_layer = EncoderLayer(512, 8, 2048)\n",
    "sample_input = tf.random.normal((64, 50, 512), 0, 1)\n",
    "\n",
    "sample_output = sample_encoder_layer(sample_input, False, None)\n",
    "print(sample_output.shape)"
   ]
  },
  {
   "cell_type": "markdown",
   "metadata": {},
   "source": [
    "### **2.4.2 Decoder Layer**"
   ]
  },
  {
   "cell_type": "code",
   "execution_count": 23,
   "metadata": {},
   "outputs": [],
   "source": [
    "class DecoderLayer(keras.layers.Layer):\n",
    "    \"\"\"\n",
    "    x -> self attnetion -> add & n ->dropout ->out1\n",
    "    out1, encoding_outputs -> aatention -> add &n ->dropout -> out2\n",
    "    out2 -> ff -> add & n -> output\n",
    "    \"\"\"\n",
    "    \n",
    "    def __init__(self, d_model, num_heads, dff, dropout_rate=0.1):\n",
    "        super(DecoderLayer, self).__init__()\n",
    "        \n",
    "        self.mha1 = MultiHeadAttention(d_model, num_heads)\n",
    "        self.mha2 = MultiHeadAttention(d_model, num_heads)\n",
    "        \n",
    "        self.ffn = ff(d_model, dff)\n",
    "        \n",
    "        self.layer_norm1 = keras.layers.LayerNormalization(epsilon=10e-6)\n",
    "        self.layer_norm2 = keras.layers.LayerNormalization(epsilon=10e-6)\n",
    "        self.layer_norm3 = keras.layers.LayerNormalization(epsilon=10e-6)\n",
    "        \n",
    "        self.dropout1 = keras.layers.Dropout(dropout_rate)\n",
    "        self.dropout2 = keras.layers.Dropout(dropout_rate)\n",
    "        self.dropout3 = keras.layers.Dropout(dropout_rate)\n",
    "    \n",
    "    def call(self, x, encoding_outputs, training, decoder_mask, encoder_decoder_padding_mask):\n",
    "        # x : (N, tar_T, d_model)\n",
    "        # encoding_output : (N, in_T, d_model)\n",
    "        # deocoder_mask = tf.maximum(look_ahead_mask, decoder_padding_mask)\n",
    "        \n",
    "        attn1, attn_weights1 = self.mha1(x, x, x, decoder_mask) # (N, tar_T, d_model)\n",
    "        attn1 = self.dropout1(attn1, training=training)\n",
    "        out1 = self.layer_norm1(attn1 + x)\n",
    "        \n",
    "\n",
    "        attn2, attn_weights2 = self.mha2(out1, encoding_outputs, encoding_outputs, encoder_decoder_padding_mask)  # (N, tar_T, d_model)\n",
    "        attn2 = self.dropout2(attn2)\n",
    "        out2 = self.layer_norm2(attn2 + out1)\n",
    "        \n",
    "        ffn_output = self.ffn(out2) # (N, tar_T, d_model)\n",
    "        ffn_output = self.dropout2(ffn_output, training=training)\n",
    "        output = self.layer_norm3(ffn_output + out2)\n",
    "        \n",
    "        return output, attn_weights1, attn_weights2"
   ]
  },
  {
   "cell_type": "code",
   "execution_count": 24,
   "metadata": {},
   "outputs": [
    {
     "name": "stdout",
     "output_type": "stream",
     "text": [
      "(64, 60, 512) (64, 8, 60, 60) (64, 8, 60, 50)\n"
     ]
    }
   ],
   "source": [
    "# test    \n",
    "sample_decoder_layer = DecoderLayer(512, 8, 2048)\n",
    "sample_decoder_input = tf.random.normal((64, 60, 512), 0, 1)\n",
    "sample_decoder_output, sample_attn1, sample_attn2 = sample_decoder_layer(sample_decoder_input, sample_output, False, None, None)\n",
    "print(sample_decoder_output.shape, sample_attn1.shape, sample_attn2.shape)"
   ]
  },
  {
   "cell_type": "markdown",
   "metadata": {},
   "source": [
    "## **2.5 Models**"
   ]
  },
  {
   "cell_type": "markdown",
   "metadata": {},
   "source": [
    "### **2.5.1 encoder**"
   ]
  },
  {
   "cell_type": "code",
   "execution_count": 25,
   "metadata": {},
   "outputs": [],
   "source": [
    "class EncoderModel(keras.layers.Layer):\n",
    "    \n",
    "    def __init__(self, num_layers, input_vocab_size, max_len, d_model, num_heads, dff, dropout_rate=0.1):\n",
    "        super(EncoderModel, self).__init__()\n",
    "        self.d_model = d_model\n",
    "        self.num_layers = num_layers\n",
    "        self.max_len = max_len\n",
    "        \n",
    "        self.embedding = keras.layers.Embedding(input_vocab_size, self.d_model)\n",
    "        \n",
    "        self.positional_encoding = get_postional_encoding(max_len, self.d_model) # (1, max_length, d_model)\n",
    "        \n",
    "        self.encoder_layers = [EncoderLayer(d_model, num_heads, dff, dropout_rate) for _ in range(self.num_layers)]\n",
    "        \n",
    "        self.dropout = keras.layers.Dropout(dropout_rate)\n",
    "    \n",
    "    def call(self, x, training, encoder_padding_mask):\n",
    "        # x : (N, input_seq_len)\n",
    "        input_seq_len = tf.shape(x)[1]\n",
    "        \n",
    "        tf.debugging.assert_less_equal(input_seq_len, self.max_len, 'error input_seq_len > self.max_len')\n",
    "        \n",
    "        x = self.embedding(x) # (N, input_seq_len, d_model)\n",
    "        \n",
    "        # 进行缩放, 避免和PE相加比例过小\n",
    "        x *= tf.math.sqrt(tf.cast(self.d_model, tf.float32))\n",
    "        x += self.positional_encoding[:, :input_seq_len, :]\n",
    "        \n",
    "        x = self.dropout(x, training=training)\n",
    "        \n",
    "        for i in range(self.num_layers):\n",
    "            x = self.encoder_layers[i](x, training, encoder_padding_mask)\n",
    "            \n",
    "        return x # (N, input_seq_len, d_model)"
   ]
  },
  {
   "cell_type": "code",
   "execution_count": 26,
   "metadata": {},
   "outputs": [
    {
     "name": "stdout",
     "output_type": "stream",
     "text": [
      "(64, 37, 512)\n"
     ]
    }
   ],
   "source": [
    "# test\n",
    "sample_encoder_model = EncoderModel(2, 8500, max_length, 512, 8, 2048)\n",
    "\n",
    "sample_encoder_model_input = tf.random.uniform((64, 37))\n",
    "sample_encoder_model_output = sample_encoder_model(sample_encoder_model_input, False, None)\n",
    "print(sample_encoder_model_output.shape)"
   ]
  },
  {
   "cell_type": "markdown",
   "metadata": {},
   "source": [
    "### **2.5.2 Decoder**"
   ]
  },
  {
   "cell_type": "code",
   "execution_count": 27,
   "metadata": {},
   "outputs": [],
   "source": [
    "class DecoderModel(keras.layers.Layer):\n",
    "    def __init__(self, num_layers, target_vocab_size, max_len, d_model, num_heads, dff, dropout_rate=0.1):\n",
    "        super(DecoderModel, self).__init__()\n",
    "        self.num_layers = num_layers\n",
    "        self.max_len = max_len\n",
    "        self.d_model = d_model\n",
    "        \n",
    "        self.embedding = keras.layers.Embedding(target_vocab_size, d_model)\n",
    "        \n",
    "        self.position_encoding = get_postional_encoding(self.max_len, self.d_model)\n",
    "        \n",
    "        self.dropout = keras.layers.Dropout(dropout_rate)\n",
    "        \n",
    "        self.decoder_layers = [DecoderLayer(d_model, num_heads, dff, dropout_rate) for _ in range(num_layers)]\n",
    "        \n",
    "        \n",
    "        \n",
    "    def call(self, x, encoding_outputs, training, decoder_mask, encoder_decoder_padding_mask):\n",
    "        # x: (N, output_seq_len)\n",
    "        output_seq_len = tf.shape(x)[1]\n",
    "        tf.debugging.assert_less_equal(output_seq_len, self.max_len, 'error output_seq_len > self.max_len')\n",
    "        \n",
    "        attention_weights = {}\n",
    "        \n",
    "        x = self.embedding(x) # (N, output_seq_len, d_model)\n",
    "        x *= tf.math.sqrt(tf.cast(self.d_model, tf.float32))\n",
    "        \n",
    "        x += self.position_encoding[:, :output_seq_len, :]\n",
    "        \n",
    "        x = self.dropout(x, training=training)\n",
    "        \n",
    "        for i in range(self.num_layers):\n",
    "            x , att1, att2 = self.decoder_layers[i](x, encoding_outputs, training, decoder_mask, encoder_decoder_padding_mask)\n",
    "            \n",
    "            attention_weights['decoder{}_att1'.format(i + 1)] = att1\n",
    "            attention_weights['decoder{}_att2'.format(i + 1)] = att2\n",
    "            \n",
    "        # x : (N, output_seq_len, d_model)\n",
    "        return x, attention_weights\n",
    "        "
   ]
  },
  {
   "cell_type": "code",
   "execution_count": 28,
   "metadata": {},
   "outputs": [
    {
     "name": "stdout",
     "output_type": "stream",
     "text": [
      "(64, 60, 512)\n",
      "decoder1_att1 (64, 8, 35, 35)\n",
      "decoder1_att2 (64, 8, 35, 37)\n",
      "decoder2_att1 (64, 8, 35, 35)\n",
      "decoder2_att2 (64, 8, 35, 37)\n"
     ]
    }
   ],
   "source": [
    "# test\n",
    "sample_decoder_model = DecoderModel(2, 8000, max_length, 512, 8, 2048)\n",
    "sample_decoder_model_input = tf.random.uniform((64, 35))\n",
    "sample_decoder_model_output, sample_decoder_attnetion = sample_decoder_model(sample_decoder_model_input,\n",
    "                                                                             sample_encoder_model_output, training=True,\n",
    "                                                                             decoder_mask=None, encoder_decoder_padding_mask=None)\n",
    "print(sample_decoder_output.shape)\n",
    "for key in sample_decoder_attnetion:\n",
    "    print(key, sample_decoder_attnetion[key].shape)"
   ]
  },
  {
   "cell_type": "markdown",
   "metadata": {},
   "source": [
    "### **2.5.3 Transformer**"
   ]
  },
  {
   "cell_type": "code",
   "execution_count": 29,
   "metadata": {},
   "outputs": [],
   "source": [
    "class Transformer(keras.Model):\n",
    "    \n",
    "    def __init__(self, num_layers, input_vocab_size, target_vocab_size,\n",
    "                 max_len, d_model, num_heads, dff, dropout_rate=0.1):\n",
    "        super(Transformer, self).__init__()\n",
    "        self.encoder_model = EncoderModel(num_layers, input_vocab_size, max_len,\n",
    "                                          d_model, num_heads, dff, dropout_rate)\n",
    "        self.decoder_model = DecoderModel(num_layers, target_vocab_size, max_len, \n",
    "                                          d_model, num_heads, dff, dropout_rate)\n",
    "        \n",
    "        self.final_layer = keras.layers.Dense(target_vocab_size)\n",
    "    \n",
    "    def call(self, inp, tar, training, encoder_padding_mask, decoder_mask, encoder_decoder_padding_mask):\n",
    "        encoding_outputs = self.encoder_model(inp, training, encoder_padding_mask) # (N, input_seq_len, d_model)\n",
    "        \n",
    "        decoding_outputs, attention_weights = self.decoder_model(tar, encoding_outputs, training, decoder_mask,\n",
    "                                                                 encoder_decoder_padding_mask) # (N, output_seq_len, d_model)\n",
    "        \n",
    "        predictions = self.final_layer(decoding_outputs) # (N, output_seq_len, target_vocab_size)\n",
    "        \n",
    "        return predictions, attention_weights"
   ]
  },
  {
   "cell_type": "code",
   "execution_count": 30,
   "metadata": {},
   "outputs": [
    {
     "name": "stdout",
     "output_type": "stream",
     "text": [
      "(64, 32, 8000)\n",
      "decoder1_att1 (64, 8, 32, 32)\n",
      "decoder1_att2 (64, 8, 32, 26)\n",
      "decoder2_att1 (64, 8, 32, 32)\n",
      "decoder2_att2 (64, 8, 32, 26)\n"
     ]
    }
   ],
   "source": [
    "# test\n",
    "sample_transformer = Transformer(2, 8500 ,8000, max_length, 512, 8, 2048, dropout_rate = 0.1)\n",
    "temp_input = tf.random.uniform((64, 26))\n",
    "temp_target = tf.random.uniform((64, 32))\n",
    "\n",
    "predictions, attention_weights = sample_transformer(temp_input, temp_target, False, None, None, None)\n",
    "print(predictions.shape)\n",
    "for key in attention_weights:\n",
    "    print(key, attention_weights[key].shape)"
   ]
  },
  {
   "cell_type": "markdown",
   "metadata": {},
   "source": [
    "## **2.6 模型训练**"
   ]
  },
  {
   "cell_type": "markdown",
   "metadata": {},
   "source": [
    "- 初始化模型\n",
    "- loss和optimizer\n",
    "- train step\n",
    "- train"
   ]
  },
  {
   "cell_type": "code",
   "execution_count": 31,
   "metadata": {},
   "outputs": [],
   "source": [
    "num_layers = 4\n",
    "d_model = 128\n",
    "dff = 512\n",
    "num_heads = 8\n",
    "\n",
    "input_vacab_size = pt_tokenizer.vocab_size + 2\n",
    "target_vocab_size = en_tokenizer.vocab_size + 2\n",
    "\n",
    "dropout_rate = 0.1\n",
    "\n",
    "transfromer = Transformer(num_layers, \n",
    "                          input_vacab_size,\n",
    "                          target_vocab_size,\n",
    "                          max_length, \n",
    "                          d_model, num_heads,\n",
    "                          dff, dropout_rate)"
   ]
  },
  {
   "cell_type": "markdown",
   "metadata": {},
   "source": [
    "### **2.6.1 自定义optimizer学习率**"
   ]
  },
  {
   "cell_type": "markdown",
   "metadata": {},
   "source": [
    "$$lr = \\frac{1}{\\sqrt{d_{model}}} \\times min(\\frac{1}{\\sqrt{step}},  step \\times {warm\\_up}^{\\frac {3}{2}})$$"
   ]
  },
  {
   "cell_type": "code",
   "execution_count": 32,
   "metadata": {},
   "outputs": [],
   "source": [
    "class CustomizedSchedule(keras.optimizers.schedules.LearningRateSchedule):\n",
    "    def __init__(self, d_model, warmup_steps = 4000):\n",
    "        super(CustomizedSchedule, self).__init__()\n",
    "        \n",
    "        self.d_model = tf.cast(d_model, tf.float32)\n",
    "        self.warmup_steps = warmup_steps\n",
    "    \n",
    "    def __call__(self, step):\n",
    "        arg1 = tf.math.rsqrt(step)\n",
    "        arg2 = step * (self.warmup_steps ** (-1.5))\n",
    "        \n",
    "        arg3 = tf.math.rsqrt(self.d_model)\n",
    "        \n",
    "        return arg3 * tf.math.minimum(arg1, arg2)\n",
    "    \n",
    "learning_rate = CustomizedSchedule(d_model)\n",
    "optimizer = keras.optimizers.Adam(learning_rate, beta_1 = 0.9, beta_2 = 0.98, epsilon = 1e-9)"
   ]
  },
  {
   "cell_type": "code",
   "execution_count": 33,
   "metadata": {},
   "outputs": [
    {
     "data": {
      "text/plain": [
       "[]"
      ]
     },
     "execution_count": 33,
     "metadata": {},
     "output_type": "execute_result"
    },
    {
     "data": {
      "image/png": "[encoded data removed]",
      "text/plain": [
       "<Figure size 432x288 with 1 Axes>"
      ]
     },
     "metadata": {
      "needs_background": "light"
     },
     "output_type": "display_data"
    }
   ],
   "source": [
    "temp_learning_rate = CustomizedSchedule(d_model)\n",
    "plt.plot(temp_learning_rate(tf.range(40000, dtype=tf.float32)))\n",
    "plt.xlabel('step')\n",
    "plt.ylabel('lr')\n",
    "plt.plot()"
   ]
  },
  {
   "cell_type": "markdown",
   "metadata": {},
   "source": [
    "### **2.6.2 损失函数**"
   ]
  },
  {
   "cell_type": "code",
   "execution_count": 34,
   "metadata": {},
   "outputs": [],
   "source": [
    "loss_object = keras.losses.SparseCategoricalCrossentropy(from_logits=True, reduction='none')\n",
    "\n",
    "def loss_function(real, pred):\n",
    "    mask = 1.0 - tf.cast(tf.math.equal(real, 0), tf.float32)\n",
    "    loss_ = loss_object(real, pred)\n",
    "    mask = tf.cast(mask, loss_.dtype)\n",
    "\n",
    "    loss_ *= mask\n",
    "    return  tf.reduce_mean(loss_)"
   ]
  },
  {
   "cell_type": "markdown",
   "metadata": {},
   "source": [
    "### **2.6.3 创建Mask**"
   ]
  },
  {
   "cell_type": "code",
   "execution_count": 35,
   "metadata": {},
   "outputs": [],
   "source": [
    "def create_mask(inp, tar):\n",
    "    \"\"\"\n",
    "    Encoder:\n",
    "    encoder_padding_mask(EncoderLayer)\n",
    "    Decoder:\n",
    "    look_ahead_mask(self attention DecoderLayer)\n",
    "    encoder_decoder_padding_mask(encoder-deocder attention)\n",
    "    decoder_padding_mask(self attention DecoderLayer)\n",
    "    \"\"\"\n",
    "    encoder_padding_mask = create_padding_mask(inp)\n",
    "    \n",
    "    encoder_decoder_mask = create_padding_mask(inp)\n",
    "    \n",
    "    look_ahead_mask = create_look_ahead_mask(tf.shape(tar)[1]) # args: T\n",
    "    \n",
    "    decoder_padding_mask = create_padding_mask(tar)\n",
    "    \n",
    "    # decoder_padding_mask 和look_ahead_mask作用在同一个张量上，因此需要用‘and’进行合并\n",
    "    \n",
    "    decoder_mask = tf.maximum(decoder_padding_mask, look_ahead_mask)\n",
    "    \n",
    "    return encoder_padding_mask, decoder_mask, encoder_decoder_mask"
   ]
  },
  {
   "cell_type": "code",
   "execution_count": 36,
   "metadata": {},
   "outputs": [],
   "source": [
    "# test\n",
    "temp_inp, temp_tar = iter(train_dataset.take(1)).next()"
   ]
  },
  {
   "cell_type": "code",
   "execution_count": 37,
   "metadata": {},
   "outputs": [
    {
     "name": "stdout",
     "output_type": "stream",
     "text": [
      "(64, 34) (64, 35)\n",
      "(64, 1, 1, 34) (64, 1, 35, 35) (64, 1, 1, 34)\n"
     ]
    }
   ],
   "source": [
    "print(temp_inp.shape, temp_tar.shape)\n",
    "epm, dm, edpm = create_mask(temp_inp, temp_tar)\n",
    "print(epm.shape, dm.shape, edpm.shape)"
   ]
  },
  {
   "cell_type": "markdown",
   "metadata": {},
   "source": [
    "### **2.6.4 单步训练**"
   ]
  },
  {
   "cell_type": "code",
   "execution_count": 38,
   "metadata": {},
   "outputs": [],
   "source": [
    "train_loss = keras.metrics.Mean(name = 'train_loss')\n",
    "train_accuracy = keras.metrics.SparseCategoricalAccuracy(name = 'train_accuracy')\n",
    "\n",
    "@tf.function\n",
    "def train_step(inp, tar):\n",
    "    tar_inp = tar[:, :-1]\n",
    "    tar_real = tar[:, 1:]\n",
    "    \n",
    "    encoder_padding_mask, decoder_mask, encoder_decoder_padding_mask = create_mask(inp, tar_inp)\n",
    "    \n",
    "    with tf.GradientTape() as tape:\n",
    "        predictions, _ = transfromer(inp, tar_inp, True, encoder_padding_mask, decoder_mask, encoder_decoder_padding_mask)\n",
    "        \n",
    "        loss = loss_function(tar_real, predictions)\n",
    "        \n",
    "    gradients = tape.gradient(loss, transfromer.trainable_variables)\n",
    "    \n",
    "    optimizer.apply_gradients(zip(gradients, transfromer.trainable_variables))\n",
    "    \n",
    "    train_loss(loss)\n",
    "    train_accuracy(tar_real, predictions)"
   ]
  },
  {
   "cell_type": "markdown",
   "metadata": {},
   "source": [
    "### **2.6.5 训练**"
   ]
  },
  {
   "cell_type": "code",
   "execution_count": 39,
   "metadata": {},
   "outputs": [
    {
     "name": "stdout",
     "output_type": "stream",
     "text": [
      "Epoch 1, Batch 0, Loss 4.5833, Acc 0.0000\n",
      "WARNING:tensorflow:5 out of the last 6 calls to <function train_step at 0x0000016CB0F57D90> triggered tf.function retracing. Tracing is expensive and the excessive number of tracings is likely due to passing python objects instead of tensors. Also, tf.function has experimental_relax_shapes=True option that relaxes argument shapes that can avoid unnecessary retracing. Please refer to https://www.tensorflow.org/beta/tutorials/eager/tf_function#python_or_tensor_args and https://www.tensorflow.org/api_docs/python/tf/function for more details.\n"
     ]
    },
    {
     "name": "stderr",
     "output_type": "stream",
     "text": [
      "WARNING:tensorflow:5 out of the last 6 calls to <function train_step at 0x0000016CB0F57D90> triggered tf.function retracing. Tracing is expensive and the excessive number of tracings is likely due to passing python objects instead of tensors. Also, tf.function has experimental_relax_shapes=True option that relaxes argument shapes that can avoid unnecessary retracing. Please refer to https://www.tensorflow.org/beta/tutorials/eager/tf_function#python_or_tensor_args and https://www.tensorflow.org/api_docs/python/tf/function for more details.\n"
     ]
    },
    {
     "name": "stdout",
     "output_type": "stream",
     "text": [
      "WARNING:tensorflow:6 out of the last 7 calls to <function train_step at 0x0000016CB0F57D90> triggered tf.function retracing. Tracing is expensive and the excessive number of tracings is likely due to passing python objects instead of tensors. Also, tf.function has experimental_relax_shapes=True option that relaxes argument shapes that can avoid unnecessary retracing. Please refer to https://www.tensorflow.org/beta/tutorials/eager/tf_function#python_or_tensor_args and https://www.tensorflow.org/api_docs/python/tf/function for more details.\n"
     ]
    },
    {
     "name": "stderr",
     "output_type": "stream",
     "text": [
      "WARNING:tensorflow:6 out of the last 7 calls to <function train_step at 0x0000016CB0F57D90> triggered tf.function retracing. Tracing is expensive and the excessive number of tracings is likely due to passing python objects instead of tensors. Also, tf.function has experimental_relax_shapes=True option that relaxes argument shapes that can avoid unnecessary retracing. Please refer to https://www.tensorflow.org/beta/tutorials/eager/tf_function#python_or_tensor_args and https://www.tensorflow.org/api_docs/python/tf/function for more details.\n"
     ]
    },
    {
     "name": "stdout",
     "output_type": "stream",
     "text": [
      "WARNING:tensorflow:7 out of the last 8 calls to <function train_step at 0x0000016CB0F57D90> triggered tf.function retracing. Tracing is expensive and the excessive number of tracings is likely due to passing python objects instead of tensors. Also, tf.function has experimental_relax_shapes=True option that relaxes argument shapes that can avoid unnecessary retracing. Please refer to https://www.tensorflow.org/beta/tutorials/eager/tf_function#python_or_tensor_args and https://www.tensorflow.org/api_docs/python/tf/function for more details.\n"
     ]
    },
    {
     "name": "stderr",
     "output_type": "stream",
     "text": [
      "WARNING:tensorflow:7 out of the last 8 calls to <function train_step at 0x0000016CB0F57D90> triggered tf.function retracing. Tracing is expensive and the excessive number of tracings is likely due to passing python objects instead of tensors. Also, tf.function has experimental_relax_shapes=True option that relaxes argument shapes that can avoid unnecessary retracing. Please refer to https://www.tensorflow.org/beta/tutorials/eager/tf_function#python_or_tensor_args and https://www.tensorflow.org/api_docs/python/tf/function for more details.\n"
     ]
    },
    {
     "name": "stdout",
     "output_type": "stream",
     "text": [
      "WARNING:tensorflow:8 out of the last 9 calls to <function train_step at 0x0000016CB0F57D90> triggered tf.function retracing. Tracing is expensive and the excessive number of tracings is likely due to passing python objects instead of tensors. Also, tf.function has experimental_relax_shapes=True option that relaxes argument shapes that can avoid unnecessary retracing. Please refer to https://www.tensorflow.org/beta/tutorials/eager/tf_function#python_or_tensor_args and https://www.tensorflow.org/api_docs/python/tf/function for more details.\n"
     ]
    },
    {
     "name": "stderr",
     "output_type": "stream",
     "text": [
      "WARNING:tensorflow:8 out of the last 9 calls to <function train_step at 0x0000016CB0F57D90> triggered tf.function retracing. Tracing is expensive and the excessive number of tracings is likely due to passing python objects instead of tensors. Also, tf.function has experimental_relax_shapes=True option that relaxes argument shapes that can avoid unnecessary retracing. Please refer to https://www.tensorflow.org/beta/tutorials/eager/tf_function#python_or_tensor_args and https://www.tensorflow.org/api_docs/python/tf/function for more details.\n"
     ]
    },
    {
     "name": "stdout",
     "output_type": "stream",
     "text": [
      "WARNING:tensorflow:9 out of the last 11 calls to <function train_step at 0x0000016CB0F57D90> triggered tf.function retracing. Tracing is expensive and the excessive number of tracings is likely due to passing python objects instead of tensors. Also, tf.function has experimental_relax_shapes=True option that relaxes argument shapes that can avoid unnecessary retracing. Please refer to https://www.tensorflow.org/beta/tutorials/eager/tf_function#python_or_tensor_args and https://www.tensorflow.org/api_docs/python/tf/function for more details.\n"
     ]
    },
    {
     "name": "stderr",
     "output_type": "stream",
     "text": [
      "WARNING:tensorflow:9 out of the last 11 calls to <function train_step at 0x0000016CB0F57D90> triggered tf.function retracing. Tracing is expensive and the excessive number of tracings is likely due to passing python objects instead of tensors. Also, tf.function has experimental_relax_shapes=True option that relaxes argument shapes that can avoid unnecessary retracing. Please refer to https://www.tensorflow.org/beta/tutorials/eager/tf_function#python_or_tensor_args and https://www.tensorflow.org/api_docs/python/tf/function for more details.\n"
     ]
    },
    {
     "name": "stdout",
     "output_type": "stream",
     "text": [
      "WARNING:tensorflow:9 out of the last 11 calls to <function train_step at 0x0000016CB0F57D90> triggered tf.function retracing. Tracing is expensive and the excessive number of tracings is likely due to passing python objects instead of tensors. Also, tf.function has experimental_relax_shapes=True option that relaxes argument shapes that can avoid unnecessary retracing. Please refer to https://www.tensorflow.org/beta/tutorials/eager/tf_function#python_or_tensor_args and https://www.tensorflow.org/api_docs/python/tf/function for more details.\n"
     ]
    },
    {
     "name": "stderr",
     "output_type": "stream",
     "text": [
      "WARNING:tensorflow:9 out of the last 11 calls to <function train_step at 0x0000016CB0F57D90> triggered tf.function retracing. Tracing is expensive and the excessive number of tracings is likely due to passing python objects instead of tensors. Also, tf.function has experimental_relax_shapes=True option that relaxes argument shapes that can avoid unnecessary retracing. Please refer to https://www.tensorflow.org/beta/tutorials/eager/tf_function#python_or_tensor_args and https://www.tensorflow.org/api_docs/python/tf/function for more details.\n"
     ]
    },
    {
     "name": "stdout",
     "output_type": "stream",
     "text": [
      "WARNING:tensorflow:9 out of the last 11 calls to <function train_step at 0x0000016CB0F57D90> triggered tf.function retracing. Tracing is expensive and the excessive number of tracings is likely due to passing python objects instead of tensors. Also, tf.function has experimental_relax_shapes=True option that relaxes argument shapes that can avoid unnecessary retracing. Please refer to https://www.tensorflow.org/beta/tutorials/eager/tf_function#python_or_tensor_args and https://www.tensorflow.org/api_docs/python/tf/function for more details.\n"
     ]
    },
    {
     "name": "stderr",
     "output_type": "stream",
     "text": [
      "WARNING:tensorflow:9 out of the last 11 calls to <function train_step at 0x0000016CB0F57D90> triggered tf.function retracing. Tracing is expensive and the excessive number of tracings is likely due to passing python objects instead of tensors. Also, tf.function has experimental_relax_shapes=True option that relaxes argument shapes that can avoid unnecessary retracing. Please refer to https://www.tensorflow.org/beta/tutorials/eager/tf_function#python_or_tensor_args and https://www.tensorflow.org/api_docs/python/tf/function for more details.\n"
     ]
    },
    {
     "name": "stdout",
     "output_type": "stream",
     "text": [
      "WARNING:tensorflow:9 out of the last 11 calls to <function train_step at 0x0000016CB0F57D90> triggered tf.function retracing. Tracing is expensive and the excessive number of tracings is likely due to passing python objects instead of tensors. Also, tf.function has experimental_relax_shapes=True option that relaxes argument shapes that can avoid unnecessary retracing. Please refer to https://www.tensorflow.org/beta/tutorials/eager/tf_function#python_or_tensor_args and https://www.tensorflow.org/api_docs/python/tf/function for more details.\n"
     ]
    },
    {
     "name": "stderr",
     "output_type": "stream",
     "text": [
      "WARNING:tensorflow:9 out of the last 11 calls to <function train_step at 0x0000016CB0F57D90> triggered tf.function retracing. Tracing is expensive and the excessive number of tracings is likely due to passing python objects instead of tensors. Also, tf.function has experimental_relax_shapes=True option that relaxes argument shapes that can avoid unnecessary retracing. Please refer to https://www.tensorflow.org/beta/tutorials/eager/tf_function#python_or_tensor_args and https://www.tensorflow.org/api_docs/python/tf/function for more details.\n"
     ]
    },
    {
     "name": "stdout",
     "output_type": "stream",
     "text": [
      "WARNING:tensorflow:9 out of the last 11 calls to <function train_step at 0x0000016CB0F57D90> triggered tf.function retracing. Tracing is expensive and the excessive number of tracings is likely due to passing python objects instead of tensors. Also, tf.function has experimental_relax_shapes=True option that relaxes argument shapes that can avoid unnecessary retracing. Please refer to https://www.tensorflow.org/beta/tutorials/eager/tf_function#python_or_tensor_args and https://www.tensorflow.org/api_docs/python/tf/function for more details.\n"
     ]
    },
    {
     "name": "stderr",
     "output_type": "stream",
     "text": [
      "WARNING:tensorflow:9 out of the last 11 calls to <function train_step at 0x0000016CB0F57D90> triggered tf.function retracing. Tracing is expensive and the excessive number of tracings is likely due to passing python objects instead of tensors. Also, tf.function has experimental_relax_shapes=True option that relaxes argument shapes that can avoid unnecessary retracing. Please refer to https://www.tensorflow.org/beta/tutorials/eager/tf_function#python_or_tensor_args and https://www.tensorflow.org/api_docs/python/tf/function for more details.\n"
     ]
    },
    {
     "name": "stdout",
     "output_type": "stream",
     "text": [
      "WARNING:tensorflow:7 out of the last 11 calls to <function train_step at 0x0000016CB0F57D90> triggered tf.function retracing. Tracing is expensive and the excessive number of tracings is likely due to passing python objects instead of tensors. Also, tf.function has experimental_relax_shapes=True option that relaxes argument shapes that can avoid unnecessary retracing. Please refer to https://www.tensorflow.org/beta/tutorials/eager/tf_function#python_or_tensor_args and https://www.tensorflow.org/api_docs/python/tf/function for more details.\n"
     ]
    },
    {
     "name": "stderr",
     "output_type": "stream",
     "text": [
      "WARNING:tensorflow:7 out of the last 11 calls to <function train_step at 0x0000016CB0F57D90> triggered tf.function retracing. Tracing is expensive and the excessive number of tracings is likely due to passing python objects instead of tensors. Also, tf.function has experimental_relax_shapes=True option that relaxes argument shapes that can avoid unnecessary retracing. Please refer to https://www.tensorflow.org/beta/tutorials/eager/tf_function#python_or_tensor_args and https://www.tensorflow.org/api_docs/python/tf/function for more details.\n"
     ]
    },
    {
     "name": "stdout",
     "output_type": "stream",
     "text": [
      "WARNING:tensorflow:8 out of the last 12 calls to <function train_step at 0x0000016CB0F57D90> triggered tf.function retracing. Tracing is expensive and the excessive number of tracings is likely due to passing python objects instead of tensors. Also, tf.function has experimental_relax_shapes=True option that relaxes argument shapes that can avoid unnecessary retracing. Please refer to https://www.tensorflow.org/beta/tutorials/eager/tf_function#python_or_tensor_args and https://www.tensorflow.org/api_docs/python/tf/function for more details.\n"
     ]
    },
    {
     "name": "stderr",
     "output_type": "stream",
     "text": [
      "WARNING:tensorflow:8 out of the last 12 calls to <function train_step at 0x0000016CB0F57D90> triggered tf.function retracing. Tracing is expensive and the excessive number of tracings is likely due to passing python objects instead of tensors. Also, tf.function has experimental_relax_shapes=True option that relaxes argument shapes that can avoid unnecessary retracing. Please refer to https://www.tensorflow.org/beta/tutorials/eager/tf_function#python_or_tensor_args and https://www.tensorflow.org/api_docs/python/tf/function for more details.\n"
     ]
    },
    {
     "name": "stdout",
     "output_type": "stream",
     "text": [
      "WARNING:tensorflow:7 out of the last 11 calls to <function train_step at 0x0000016CB0F57D90> triggered tf.function retracing. Tracing is expensive and the excessive number of tracings is likely due to passing python objects instead of tensors. Also, tf.function has experimental_relax_shapes=True option that relaxes argument shapes that can avoid unnecessary retracing. Please refer to https://www.tensorflow.org/beta/tutorials/eager/tf_function#python_or_tensor_args and https://www.tensorflow.org/api_docs/python/tf/function for more details.\n"
     ]
    },
    {
     "name": "stderr",
     "output_type": "stream",
     "text": [
      "WARNING:tensorflow:7 out of the last 11 calls to <function train_step at 0x0000016CB0F57D90> triggered tf.function retracing. Tracing is expensive and the excessive number of tracings is likely due to passing python objects instead of tensors. Also, tf.function has experimental_relax_shapes=True option that relaxes argument shapes that can avoid unnecessary retracing. Please refer to https://www.tensorflow.org/beta/tutorials/eager/tf_function#python_or_tensor_args and https://www.tensorflow.org/api_docs/python/tf/function for more details.\n"
     ]
    },
    {
     "name": "stdout",
     "output_type": "stream",
     "text": [
      "WARNING:tensorflow:6 out of the last 12 calls to <function train_step at 0x0000016CB0F57D90> triggered tf.function retracing. Tracing is expensive and the excessive number of tracings is likely due to passing python objects instead of tensors. Also, tf.function has experimental_relax_shapes=True option that relaxes argument shapes that can avoid unnecessary retracing. Please refer to https://www.tensorflow.org/beta/tutorials/eager/tf_function#python_or_tensor_args and https://www.tensorflow.org/api_docs/python/tf/function for more details.\n"
     ]
    },
    {
     "name": "stderr",
     "output_type": "stream",
     "text": [
      "WARNING:tensorflow:6 out of the last 12 calls to <function train_step at 0x0000016CB0F57D90> triggered tf.function retracing. Tracing is expensive and the excessive number of tracings is likely due to passing python objects instead of tensors. Also, tf.function has experimental_relax_shapes=True option that relaxes argument shapes that can avoid unnecessary retracing. Please refer to https://www.tensorflow.org/beta/tutorials/eager/tf_function#python_or_tensor_args and https://www.tensorflow.org/api_docs/python/tf/function for more details.\n"
     ]
    },
    {
     "name": "stdout",
     "output_type": "stream",
     "text": [
      "WARNING:tensorflow:6 out of the last 13 calls to <function train_step at 0x0000016CB0F57D90> triggered tf.function retracing. Tracing is expensive and the excessive number of tracings is likely due to passing python objects instead of tensors. Also, tf.function has experimental_relax_shapes=True option that relaxes argument shapes that can avoid unnecessary retracing. Please refer to https://www.tensorflow.org/beta/tutorials/eager/tf_function#python_or_tensor_args and https://www.tensorflow.org/api_docs/python/tf/function for more details.\n"
     ]
    },
    {
     "name": "stderr",
     "output_type": "stream",
     "text": [
      "WARNING:tensorflow:6 out of the last 13 calls to <function train_step at 0x0000016CB0F57D90> triggered tf.function retracing. Tracing is expensive and the excessive number of tracings is likely due to passing python objects instead of tensors. Also, tf.function has experimental_relax_shapes=True option that relaxes argument shapes that can avoid unnecessary retracing. Please refer to https://www.tensorflow.org/beta/tutorials/eager/tf_function#python_or_tensor_args and https://www.tensorflow.org/api_docs/python/tf/function for more details.\n"
     ]
    },
    {
     "name": "stdout",
     "output_type": "stream",
     "text": [
      "WARNING:tensorflow:5 out of the last 12 calls to <function train_step at 0x0000016CB0F57D90> triggered tf.function retracing. Tracing is expensive and the excessive number of tracings is likely due to passing python objects instead of tensors. Also, tf.function has experimental_relax_shapes=True option that relaxes argument shapes that can avoid unnecessary retracing. Please refer to https://www.tensorflow.org/beta/tutorials/eager/tf_function#python_or_tensor_args and https://www.tensorflow.org/api_docs/python/tf/function for more details.\n"
     ]
    },
    {
     "name": "stderr",
     "output_type": "stream",
     "text": [
      "WARNING:tensorflow:5 out of the last 12 calls to <function train_step at 0x0000016CB0F57D90> triggered tf.function retracing. Tracing is expensive and the excessive number of tracings is likely due to passing python objects instead of tensors. Also, tf.function has experimental_relax_shapes=True option that relaxes argument shapes that can avoid unnecessary retracing. Please refer to https://www.tensorflow.org/beta/tutorials/eager/tf_function#python_or_tensor_args and https://www.tensorflow.org/api_docs/python/tf/function for more details.\n"
     ]
    },
    {
     "name": "stdout",
     "output_type": "stream",
     "text": [
      "WARNING:tensorflow:5 out of the last 21 calls to <function train_step at 0x0000016CB0F57D90> triggered tf.function retracing. Tracing is expensive and the excessive number of tracings is likely due to passing python objects instead of tensors. Also, tf.function has experimental_relax_shapes=True option that relaxes argument shapes that can avoid unnecessary retracing. Please refer to https://www.tensorflow.org/beta/tutorials/eager/tf_function#python_or_tensor_args and https://www.tensorflow.org/api_docs/python/tf/function for more details.\n"
     ]
    },
    {
     "name": "stderr",
     "output_type": "stream",
     "text": [
      "WARNING:tensorflow:5 out of the last 21 calls to <function train_step at 0x0000016CB0F57D90> triggered tf.function retracing. Tracing is expensive and the excessive number of tracings is likely due to passing python objects instead of tensors. Also, tf.function has experimental_relax_shapes=True option that relaxes argument shapes that can avoid unnecessary retracing. Please refer to https://www.tensorflow.org/beta/tutorials/eager/tf_function#python_or_tensor_args and https://www.tensorflow.org/api_docs/python/tf/function for more details.\n"
     ]
    },
    {
     "name": "stdout",
     "output_type": "stream",
     "text": [
      "WARNING:tensorflow:6 out of the last 24 calls to <function train_step at 0x0000016CB0F57D90> triggered tf.function retracing. Tracing is expensive and the excessive number of tracings is likely due to passing python objects instead of tensors. Also, tf.function has experimental_relax_shapes=True option that relaxes argument shapes that can avoid unnecessary retracing. Please refer to https://www.tensorflow.org/beta/tutorials/eager/tf_function#python_or_tensor_args and https://www.tensorflow.org/api_docs/python/tf/function for more details.\n"
     ]
    },
    {
     "name": "stderr",
     "output_type": "stream",
     "text": [
      "WARNING:tensorflow:6 out of the last 24 calls to <function train_step at 0x0000016CB0F57D90> triggered tf.function retracing. Tracing is expensive and the excessive number of tracings is likely due to passing python objects instead of tensors. Also, tf.function has experimental_relax_shapes=True option that relaxes argument shapes that can avoid unnecessary retracing. Please refer to https://www.tensorflow.org/beta/tutorials/eager/tf_function#python_or_tensor_args and https://www.tensorflow.org/api_docs/python/tf/function for more details.\n"
     ]
    },
    {
     "name": "stdout",
     "output_type": "stream",
     "text": [
      "WARNING:tensorflow:5 out of the last 11 calls to <function train_step at 0x0000016CB0F57D90> triggered tf.function retracing. Tracing is expensive and the excessive number of tracings is likely due to passing python objects instead of tensors. Also, tf.function has experimental_relax_shapes=True option that relaxes argument shapes that can avoid unnecessary retracing. Please refer to https://www.tensorflow.org/beta/tutorials/eager/tf_function#python_or_tensor_args and https://www.tensorflow.org/api_docs/python/tf/function for more details.\n"
     ]
    },
    {
     "name": "stderr",
     "output_type": "stream",
     "text": [
      "WARNING:tensorflow:5 out of the last 11 calls to <function train_step at 0x0000016CB0F57D90> triggered tf.function retracing. Tracing is expensive and the excessive number of tracings is likely due to passing python objects instead of tensors. Also, tf.function has experimental_relax_shapes=True option that relaxes argument shapes that can avoid unnecessary retracing. Please refer to https://www.tensorflow.org/beta/tutorials/eager/tf_function#python_or_tensor_args and https://www.tensorflow.org/api_docs/python/tf/function for more details.\n"
     ]
    },
    {
     "name": "stdout",
     "output_type": "stream",
     "text": [
      "WARNING:tensorflow:5 out of the last 12 calls to <function train_step at 0x0000016CB0F57D90> triggered tf.function retracing. Tracing is expensive and the excessive number of tracings is likely due to passing python objects instead of tensors. Also, tf.function has experimental_relax_shapes=True option that relaxes argument shapes that can avoid unnecessary retracing. Please refer to https://www.tensorflow.org/beta/tutorials/eager/tf_function#python_or_tensor_args and https://www.tensorflow.org/api_docs/python/tf/function for more details.\n"
     ]
    },
    {
     "name": "stderr",
     "output_type": "stream",
     "text": [
      "WARNING:tensorflow:5 out of the last 12 calls to <function train_step at 0x0000016CB0F57D90> triggered tf.function retracing. Tracing is expensive and the excessive number of tracings is likely due to passing python objects instead of tensors. Also, tf.function has experimental_relax_shapes=True option that relaxes argument shapes that can avoid unnecessary retracing. Please refer to https://www.tensorflow.org/beta/tutorials/eager/tf_function#python_or_tensor_args and https://www.tensorflow.org/api_docs/python/tf/function for more details.\n"
     ]
    },
    {
     "name": "stdout",
     "output_type": "stream",
     "text": [
      "WARNING:tensorflow:5 out of the last 13 calls to <function train_step at 0x0000016CB0F57D90> triggered tf.function retracing. Tracing is expensive and the excessive number of tracings is likely due to passing python objects instead of tensors. Also, tf.function has experimental_relax_shapes=True option that relaxes argument shapes that can avoid unnecessary retracing. Please refer to https://www.tensorflow.org/beta/tutorials/eager/tf_function#python_or_tensor_args and https://www.tensorflow.org/api_docs/python/tf/function for more details.\n"
     ]
    },
    {
     "name": "stderr",
     "output_type": "stream",
     "text": [
      "WARNING:tensorflow:5 out of the last 13 calls to <function train_step at 0x0000016CB0F57D90> triggered tf.function retracing. Tracing is expensive and the excessive number of tracings is likely due to passing python objects instead of tensors. Also, tf.function has experimental_relax_shapes=True option that relaxes argument shapes that can avoid unnecessary retracing. Please refer to https://www.tensorflow.org/beta/tutorials/eager/tf_function#python_or_tensor_args and https://www.tensorflow.org/api_docs/python/tf/function for more details.\n"
     ]
    },
    {
     "name": "stdout",
     "output_type": "stream",
     "text": [
      "Epoch 1, Batch 100, Loss 4.2114, Acc 0.0120\n",
      "Epoch 1, Batch 200, Loss 4.1090, Acc 0.0195\n",
      "Epoch 1, Batch 300, Loss 3.9411, Acc 0.0225\n",
      "Epoch 1, Batch 400, Loss 3.7630, Acc 0.0301\n",
      "Epoch 1, Batch 500, Loss 3.6102, Acc 0.0367\n",
      "Epoch 1, Batch 600, Loss 3.4813, Acc 0.0434\n",
      "Epoch 1, Batch 700, Loss 3.3714, Acc 0.0503\n",
      "Epoch 1, loss 3.3691, Acc 0.0504\n",
      "Time take 449.5941812992096s\n",
      "Epoch 2, Batch 0, Loss 2.6852, Acc 0.1001\n",
      "Epoch 2, Batch 100, Loss 2.5780, Acc 0.1040\n",
      "Epoch 2, Batch 200, Loss 2.5170, Acc 0.1080\n",
      "Epoch 2, Batch 300, Loss 2.4843, Acc 0.1120\n",
      "Epoch 2, Batch 400, Loss 2.4504, Acc 0.1150\n",
      "Epoch 2, Batch 500, Loss 2.4258, Acc 0.1182\n",
      "Epoch 2, Batch 600, Loss 2.3939, Acc 0.1210\n",
      "Epoch 2, Batch 700, Loss 2.3682, Acc 0.1234\n",
      "Epoch 2, loss 2.3669, Acc 0.1234\n",
      "Time take 178.2645206451416s\n",
      "Epoch 3, Batch 0, Loss 2.2892, Acc 0.1330\n",
      "Epoch 3, Batch 100, Loss 2.1951, Acc 0.1446\n",
      "Epoch 3, Batch 200, Loss 2.1820, Acc 0.1462\n",
      "Epoch 3, Batch 300, Loss 2.1752, Acc 0.1471\n",
      "Epoch 3, Batch 400, Loss 2.1496, Acc 0.1476\n",
      "Epoch 3, Batch 500, Loss 2.1392, Acc 0.1487\n",
      "Epoch 3, Batch 600, Loss 2.1245, Acc 0.1497\n",
      "Epoch 3, Batch 700, Loss 2.1102, Acc 0.1508\n",
      "Epoch 3, loss 2.1097, Acc 0.1508\n",
      "Time take 156.48548030853271s\n",
      "Epoch 4, Batch 0, Loss 2.0073, Acc 0.1530\n",
      "Epoch 4, Batch 100, Loss 1.9786, Acc 0.1646\n",
      "Epoch 4, Batch 200, Loss 1.9571, Acc 0.1666\n",
      "Epoch 4, Batch 300, Loss 1.9415, Acc 0.1683\n",
      "Epoch 4, Batch 400, Loss 1.9264, Acc 0.1701\n",
      "Epoch 4, Batch 500, Loss 1.9149, Acc 0.1725\n",
      "Epoch 4, Batch 600, Loss 1.8956, Acc 0.1740\n",
      "Epoch 4, Batch 700, Loss 1.8854, Acc 0.1763\n",
      "Epoch 4, loss 1.8849, Acc 0.1763\n",
      "Time take 140.97548866271973s\n",
      "Epoch 5, Batch 0, Loss 1.8038, Acc 0.1990\n",
      "Epoch 5, Batch 100, Loss 1.7050, Acc 0.1945\n",
      "Epoch 5, Batch 200, Loss 1.6918, Acc 0.1971\n",
      "Epoch 5, Batch 300, Loss 1.6968, Acc 0.1994\n",
      "Epoch 5, Batch 400, Loss 1.6835, Acc 0.2004\n",
      "Epoch 5, Batch 500, Loss 1.6739, Acc 0.2020\n",
      "Epoch 5, Batch 600, Loss 1.6658, Acc 0.2032\n",
      "Epoch 5, Batch 700, Loss 1.6544, Acc 0.2043\n",
      "Epoch 5, loss 1.6549, Acc 0.2044\n",
      "Time take 117.66260504722595s\n",
      "Epoch 6, Batch 0, Loss 1.5240, Acc 0.2179\n",
      "Epoch 6, Batch 100, Loss 1.5183, Acc 0.2214\n",
      "Epoch 6, Batch 200, Loss 1.5015, Acc 0.2218\n",
      "Epoch 6, Batch 300, Loss 1.4921, Acc 0.2223\n",
      "Epoch 6, Batch 400, Loss 1.4876, Acc 0.2233\n",
      "Epoch 6, Batch 500, Loss 1.4845, Acc 0.2242\n",
      "Epoch 6, Batch 600, Loss 1.4760, Acc 0.2243\n",
      "Epoch 6, Batch 700, Loss 1.4685, Acc 0.2252\n",
      "Epoch 6, loss 1.4687, Acc 0.2253\n",
      "Time take 119.62808513641357s\n",
      "Epoch 7, Batch 0, Loss 1.2569, Acc 0.2637\n",
      "Epoch 7, Batch 100, Loss 1.3258, Acc 0.2439\n",
      "Epoch 7, Batch 200, Loss 1.3156, Acc 0.2442\n",
      "Epoch 7, Batch 300, Loss 1.3090, Acc 0.2444\n",
      "Epoch 7, Batch 400, Loss 1.2966, Acc 0.2450\n",
      "Epoch 7, Batch 500, Loss 1.2905, Acc 0.2453\n",
      "Epoch 7, Batch 600, Loss 1.2849, Acc 0.2456\n",
      "Epoch 7, Batch 700, Loss 1.2790, Acc 0.2467\n",
      "Epoch 7, loss 1.2788, Acc 0.2467\n",
      "Time take 121.01086401939392s\n",
      "Epoch 8, Batch 0, Loss 1.0406, Acc 0.2452\n",
      "Epoch 8, Batch 100, Loss 1.1436, Acc 0.2669\n",
      "Epoch 8, Batch 200, Loss 1.1400, Acc 0.2656\n",
      "Epoch 8, Batch 300, Loss 1.1362, Acc 0.2650\n",
      "Epoch 8, Batch 400, Loss 1.1327, Acc 0.2653\n",
      "Epoch 8, Batch 500, Loss 1.1281, Acc 0.2654\n",
      "Epoch 8, Batch 600, Loss 1.1269, Acc 0.2657\n",
      "Epoch 8, Batch 700, Loss 1.1247, Acc 0.2659\n",
      "Epoch 8, loss 1.1247, Acc 0.2659\n",
      "Time take 128.85441303253174s\n",
      "Epoch 9, Batch 0, Loss 1.0174, Acc 0.2796\n",
      "Epoch 9, Batch 100, Loss 1.0219, Acc 0.2842\n",
      "Epoch 9, Batch 200, Loss 1.0072, Acc 0.2811\n",
      "Epoch 9, Batch 300, Loss 1.0092, Acc 0.2802\n",
      "Epoch 9, Batch 400, Loss 1.0126, Acc 0.2807\n",
      "Epoch 9, Batch 500, Loss 1.0129, Acc 0.2802\n",
      "Epoch 9, Batch 600, Loss 1.0122, Acc 0.2798\n",
      "Epoch 9, Batch 700, Loss 1.0150, Acc 0.2801\n",
      "Epoch 9, loss 1.0148, Acc 0.2800\n",
      "Time take 127.88116455078125s\n",
      "Epoch 10, Batch 0, Loss 0.8020, Acc 0.2736\n",
      "Epoch 10, Batch 100, Loss 0.8991, Acc 0.2918\n",
      "Epoch 10, Batch 200, Loss 0.9039, Acc 0.2915\n",
      "Epoch 10, Batch 300, Loss 0.9078, Acc 0.2900\n",
      "Epoch 10, Batch 400, Loss 0.9184, Acc 0.2904\n",
      "Epoch 10, Batch 500, Loss 0.9207, Acc 0.2903\n",
      "Epoch 10, Batch 600, Loss 0.9239, Acc 0.2902\n",
      "Epoch 10, Batch 700, Loss 0.9276, Acc 0.2902\n",
      "Epoch 10, loss 0.9275, Acc 0.2902\n",
      "Time take 112.52627968788147s\n",
      "Epoch 11, Batch 0, Loss 0.7627, Acc 0.2874\n",
      "Epoch 11, Batch 100, Loss 0.8340, Acc 0.3029\n",
      "Epoch 11, Batch 200, Loss 0.8497, Acc 0.3021\n",
      "Epoch 11, Batch 300, Loss 0.8536, Acc 0.3009\n",
      "Epoch 11, Batch 400, Loss 0.8526, Acc 0.3007\n",
      "Epoch 11, Batch 500, Loss 0.8532, Acc 0.2999\n",
      "Epoch 11, Batch 600, Loss 0.8591, Acc 0.3002\n",
      "Epoch 11, Batch 700, Loss 0.8627, Acc 0.2998\n",
      "Epoch 11, loss 0.8626, Acc 0.2998\n",
      "Time take 102.27569150924683s\n",
      "Epoch 12, Batch 0, Loss 0.7297, Acc 0.2847\n",
      "Epoch 12, Batch 100, Loss 0.7758, Acc 0.3127\n",
      "Epoch 12, Batch 200, Loss 0.7790, Acc 0.3104\n",
      "Epoch 12, Batch 300, Loss 0.7896, Acc 0.3098\n",
      "Epoch 12, Batch 400, Loss 0.7946, Acc 0.3083\n",
      "Epoch 12, Batch 500, Loss 0.7966, Acc 0.3070\n",
      "Epoch 12, Batch 600, Loss 0.8024, Acc 0.3067\n",
      "Epoch 12, Batch 700, Loss 0.8066, Acc 0.3066\n",
      "Epoch 12, loss 0.8066, Acc 0.3066\n",
      "Time take 110.13738751411438s\n",
      "Epoch 13, Batch 0, Loss 0.6950, Acc 0.3034\n",
      "Epoch 13, Batch 100, Loss 0.7315, Acc 0.3197\n",
      "Epoch 13, Batch 200, Loss 0.7320, Acc 0.3166\n",
      "Epoch 13, Batch 300, Loss 0.7355, Acc 0.3147\n",
      "Epoch 13, Batch 400, Loss 0.7436, Acc 0.3149\n",
      "Epoch 13, Batch 500, Loss 0.7499, Acc 0.3142\n",
      "Epoch 13, Batch 600, Loss 0.7537, Acc 0.3135\n",
      "Epoch 13, Batch 700, Loss 0.7587, Acc 0.3130\n",
      "Epoch 13, loss 0.7586, Acc 0.3130\n",
      "Time take 124.39692640304565s\n",
      "Epoch 14, Batch 0, Loss 0.7627, Acc 0.3003\n",
      "Epoch 14, Batch 100, Loss 0.6966, Acc 0.3286\n",
      "Epoch 14, Batch 200, Loss 0.6928, Acc 0.3229\n",
      "Epoch 14, Batch 300, Loss 0.6991, Acc 0.3217\n",
      "Epoch 14, Batch 400, Loss 0.7016, Acc 0.3208\n",
      "Epoch 14, Batch 500, Loss 0.7063, Acc 0.3205\n",
      "Epoch 14, Batch 600, Loss 0.7120, Acc 0.3197\n",
      "Epoch 14, Batch 700, Loss 0.7185, Acc 0.3189\n",
      "Epoch 14, loss 0.7183, Acc 0.3189\n",
      "Time take 122.57063508033752s\n",
      "Epoch 15, Batch 0, Loss 0.5947, Acc 0.3069\n",
      "Epoch 15, Batch 100, Loss 0.6492, Acc 0.3324\n",
      "Epoch 15, Batch 200, Loss 0.6522, Acc 0.3285\n",
      "Epoch 15, Batch 300, Loss 0.6612, Acc 0.3272\n",
      "Epoch 15, Batch 400, Loss 0.6653, Acc 0.3263\n",
      "Epoch 15, Batch 500, Loss 0.6727, Acc 0.3261\n",
      "Epoch 15, Batch 600, Loss 0.6747, Acc 0.3247\n",
      "Epoch 15, Batch 700, Loss 0.6816, Acc 0.3239\n",
      "Epoch 15, loss 0.6818, Acc 0.3239\n",
      "Time take 106.78742837905884s\n",
      "Epoch 16, Batch 0, Loss 0.5811, Acc 0.3170\n",
      "Epoch 16, Batch 100, Loss 0.6181, Acc 0.3356\n",
      "Epoch 16, Batch 200, Loss 0.6242, Acc 0.3343\n",
      "Epoch 16, Batch 300, Loss 0.6291, Acc 0.3323\n",
      "Epoch 16, Batch 400, Loss 0.6353, Acc 0.3321\n",
      "Epoch 16, Batch 500, Loss 0.6415, Acc 0.3315\n",
      "Epoch 16, Batch 600, Loss 0.6483, Acc 0.3309\n",
      "Epoch 16, Batch 700, Loss 0.6528, Acc 0.3294\n",
      "Epoch 16, loss 0.6529, Acc 0.3294\n",
      "Time take 99.5893132686615s\n",
      "Epoch 17, Batch 0, Loss 0.6289, Acc 0.3594\n",
      "Epoch 17, Batch 100, Loss 0.5890, Acc 0.3389\n",
      "Epoch 17, Batch 200, Loss 0.5942, Acc 0.3381\n",
      "Epoch 17, Batch 300, Loss 0.6033, Acc 0.3365\n",
      "Epoch 17, Batch 400, Loss 0.6108, Acc 0.3362\n",
      "Epoch 17, Batch 500, Loss 0.6150, Acc 0.3339\n",
      "Epoch 17, Batch 600, Loss 0.6193, Acc 0.3336\n",
      "Epoch 17, Batch 700, Loss 0.6261, Acc 0.3334\n",
      "Epoch 17, loss 0.6261, Acc 0.3334\n",
      "Time take 112.79803681373596s\n",
      "Epoch 18, Batch 0, Loss 0.6083, Acc 0.3621\n",
      "Epoch 18, Batch 100, Loss 0.5613, Acc 0.3438\n",
      "Epoch 18, Batch 200, Loss 0.5713, Acc 0.3435\n",
      "Epoch 18, Batch 300, Loss 0.5755, Acc 0.3425\n",
      "Epoch 18, Batch 400, Loss 0.5799, Acc 0.3411\n",
      "Epoch 18, Batch 500, Loss 0.5866, Acc 0.3402\n",
      "Epoch 18, Batch 600, Loss 0.5945, Acc 0.3384\n",
      "Epoch 18, Batch 700, Loss 0.5983, Acc 0.3374\n",
      "Epoch 18, loss 0.5984, Acc 0.3373\n",
      "Time take 106.20585322380066s\n",
      "Epoch 19, Batch 0, Loss 0.5409, Acc 0.3623\n",
      "Epoch 19, Batch 100, Loss 0.5331, Acc 0.3447\n",
      "Epoch 19, Batch 200, Loss 0.5471, Acc 0.3449\n",
      "Epoch 19, Batch 300, Loss 0.5538, Acc 0.3432\n",
      "Epoch 19, Batch 400, Loss 0.5577, Acc 0.3423\n",
      "Epoch 19, Batch 500, Loss 0.5643, Acc 0.3425\n",
      "Epoch 19, Batch 600, Loss 0.5689, Acc 0.3408\n",
      "Epoch 19, Batch 700, Loss 0.5757, Acc 0.3404\n",
      "Epoch 19, loss 0.5757, Acc 0.3404\n",
      "Time take 105.12485456466675s\n",
      "Epoch 20, Batch 0, Loss 0.5461, Acc 0.3301\n",
      "Epoch 20, Batch 100, Loss 0.5181, Acc 0.3517\n",
      "Epoch 20, Batch 200, Loss 0.5207, Acc 0.3488\n",
      "Epoch 20, Batch 300, Loss 0.5302, Acc 0.3482\n",
      "Epoch 20, Batch 400, Loss 0.5374, Acc 0.3480\n",
      "Epoch 20, Batch 500, Loss 0.5437, Acc 0.3469\n",
      "Epoch 20, Batch 600, Loss 0.5489, Acc 0.3458\n"
     ]
    },
    {
     "name": "stdout",
     "output_type": "stream",
     "text": [
      "Epoch 20, Batch 700, Loss 0.5543, Acc 0.3443\n",
      "Epoch 20, loss 0.5545, Acc 0.3443\n",
      "Time take 106.58667826652527s\n"
     ]
    }
   ],
   "source": [
    "epochs = 20\n",
    "\n",
    "for epoch in range(epochs):\n",
    "    start = time.time()\n",
    "    train_loss.reset_states()\n",
    "    train_accuracy.reset_states()\n",
    "    \n",
    "    for (batch, (inp, tar)) in enumerate(train_dataset):\n",
    "        train_step(inp, tar)\n",
    "        if batch % 100 == 0:\n",
    "            print('Epoch {}, Batch {}, Loss {:.4f}, Acc {:.4f}'.format(\n",
    "                epoch + 1, batch, train_loss.result(), train_accuracy.result()\n",
    "            ))\n",
    "    print('Epoch {}, loss {:.4f}, Acc {:.4f}'.format(epoch + 1, train_loss.result(), train_accuracy.result()))\n",
    "    print('Time take {}s'.format(time.time() - start))"
   ]
  },
  {
   "cell_type": "markdown",
   "metadata": {},
   "source": [
    "## **2.7 评估**"
   ]
  },
  {
   "cell_type": "markdown",
   "metadata": {},
   "source": [
    "### **2.7.1 评估函数**"
   ]
  },
  {
   "cell_type": "code",
   "execution_count": 44,
   "metadata": {},
   "outputs": [],
   "source": [
    "def evaluate(inp_sentence):\n",
    "    input_id_sentence = [pt_tokenizer.vocab_size] +pt_tokenizer.encode(inp_sentence) + [pt_tokenizer.vocab_size + 1] # [inp_len]\n",
    "    \n",
    "    encoder_input = tf.expand_dims(input_id_sentence, axis=0)\n",
    "    \n",
    "    decoder_input = tf.expand_dims([en_tokenizer.vocab_size], axis=0)\n",
    "    \n",
    "    for i in range(max_length):\n",
    "        encoder_padding_mask, decoder_mask, encoder_decoder_padding_mask = create_mask(encoder_input, decoder_input)\n",
    "        predictions, attention_weights = transfromer(\n",
    "            encoder_input, \n",
    "            decoder_input,\n",
    "            False,\n",
    "            encoder_padding_mask, \n",
    "            decoder_mask, \n",
    "            encoder_decoder_padding_mask\n",
    "        ) # (1, 1, target_vocab_size)\n",
    "        predictions = predictions[:, -1, :] # (1, target_vacab_size)\n",
    "        \n",
    "        predicted_id = tf.cast(tf.argmax(predictions, axis=-1), tf.int32)\n",
    "        \n",
    "        if tf.equal(predicted_id, en_tokenizer.vocab_size + 1):\n",
    "            return tf.squeeze(decoder_input, axis = 0), attention_weights\n",
    "        decoder_input = tf.concat([decoder_input, [predicted_id]], axis=-1)\n",
    "        \n",
    "    return tf.squeeze(decoder_input, axis = 0), attention_weights"
   ]
  },
  {
   "cell_type": "markdown",
   "metadata": {},
   "source": [
    "### **2.7.2 可视化attention**"
   ]
  },
  {
   "cell_type": "code",
   "execution_count": 62,
   "metadata": {},
   "outputs": [],
   "source": [
    "def plot_encoder_decoder_attention(attention, input_sentence, result, layer_name):\n",
    "    fig = plt.figure(figsize=(16, 8))\n",
    "    \n",
    "    input_id_sentence = pt_tokenizer.encode(input_sentence)\n",
    "    \n",
    "    attention = tf.squeeze(attention[layer_name], axis=0) # (num_heads, tar_len, inp_len)\n",
    "    \n",
    "    for head in range(attention.shape[0]):\n",
    "        ax = fig.add_subplot(2, 4, head + 1)\n",
    "        ax.matshow(attention[head][:-1, :])\n",
    "        \n",
    "        fontdict = {'fontsize' : 10}\n",
    "        ax.set_xticks(range(len(input_id_sentence) + 2))\n",
    "        ax.set_yticks(range(len(result)))\n",
    "        \n",
    "        ax.set_ylim(len(result)-1.5, -0.5)\n",
    "        \n",
    "        ax.set_xticklabels(['<start>'] + [pt_tokenizer.decode([i]) for i in input_id_sentence] + ['<end>'],\n",
    "                           fontdict=fontdict, rotation=90)\n",
    "        ax.set_yticklabels([en_tokenizer.decode([i]) for i in result if  i < en_tokenizer.vocab_size],\n",
    "                           fontdict=fontdict)\n",
    "        \n",
    "        ax.set_xlabel('Head{}'.format(head + 1))\n",
    "    plt.tight_layout()\n",
    "    plt.show()"
   ]
  },
  {
   "cell_type": "markdown",
   "metadata": {},
   "source": [
    "### **2.7.3 翻译**"
   ]
  },
  {
   "cell_type": "code",
   "execution_count": 63,
   "metadata": {},
   "outputs": [],
   "source": [
    "def translate(input_sentence, layer_name=''):\n",
    "    result, attention_weights = evaluate(input_sentence)\n",
    "    \n",
    "    predicted_sentence = en_tokenizer.decode([i for i in result if i < en_tokenizer.vocab_size]) # 排除start和end\n",
    "    print('INPUT:', input_sentence)\n",
    "    print('RESULT:', predicted_sentence)\n",
    "    \n",
    "    if layer_name:\n",
    "        plot_encoder_decoder_attention(attention_weights, input_sentence, result, layer_name)"
   ]
  },
  {
   "cell_type": "code",
   "execution_count": 64,
   "metadata": {},
   "outputs": [
    {
     "name": "stdout",
     "output_type": "stream",
     "text": [
      "INPUT: está muito frio aqui.\n",
      "RESULT: it 's very cold to this one .\n"
     ]
    }
   ],
   "source": [
    "translate('está muito frio aqui.')"
   ]
  },
  {
   "cell_type": "code",
   "execution_count": 65,
   "metadata": {},
   "outputs": [
    {
     "name": "stdout",
     "output_type": "stream",
     "text": [
      "INPUT: isto é minha vida\n",
      "RESULT: this is my life-life .\n"
     ]
    }
   ],
   "source": [
    "translate('isto é minha vida')"
   ]
  },
  {
   "cell_type": "code",
   "execution_count": 66,
   "metadata": {},
   "outputs": [
    {
     "name": "stdout",
     "output_type": "stream",
     "text": [
      "INPUT: você ainda está em casa?\n",
      "RESULT: are you even in home ?\n"
     ]
    }
   ],
   "source": [
    "translate('você ainda está em casa?')"
   ]
  },
  {
   "cell_type": "code",
   "execution_count": 67,
   "metadata": {},
   "outputs": [
    {
     "name": "stdout",
     "output_type": "stream",
     "text": [
      "INPUT: este é o primeiro livro que eu já li\n",
      "RESULT: this is the first book i already tend to be a kid .\n"
     ]
    }
   ],
   "source": [
    "translate('este é o primeiro livro que eu já li')"
   ]
  },
  {
   "cell_type": "code",
   "execution_count": 68,
   "metadata": {},
   "outputs": [
    {
     "name": "stdout",
     "output_type": "stream",
     "text": [
      "INPUT: este é o primeiro livro que eu já li\n",
      "RESULT: this is the first book i already tend to be a kid .\n"
     ]
    },
    {
     "data": {
      "image/png": "[encoded data removed]",
      "text/plain": [
       "<Figure size 1152x576 with 8 Axes>"
      ]
     },
     "metadata": {
      "needs_background": "light"
     },
     "output_type": "display_data"
    }
   ],
   "source": [
    "translate('este é o primeiro livro que eu já li',\n",
    "          layer_name = 'decoder4_att2')"
   ]
  },
  {
   "cell_type": "code",
   "execution_count": null,
   "metadata": {},
   "outputs": [],
   "source": []
  }
 ],
 "metadata": {
  "kernelspec": {
   "display_name": "tf2_tr12",
   "language": "python",
   "name": "tf2_tr12"
  },
  "language_info": {
   "codemirror_mode": {
    "name": "ipython",
    "version": 3
   },
   "file_extension": ".py",
   "mimetype": "text/x-python",
   "name": "python",
   "nbconvert_exporter": "python",
   "pygments_lexer": "ipython3",
   "version": "3.6.7"
  }
 },
 "nbformat": 4,
 "nbformat_minor": 2
}

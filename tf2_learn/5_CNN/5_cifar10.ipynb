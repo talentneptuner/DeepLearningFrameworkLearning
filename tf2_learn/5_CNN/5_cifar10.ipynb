{
 "cells": [
  {
   "cell_type": "code",
   "execution_count": 1,
   "metadata": {},
   "outputs": [],
   "source": [
    "import matplotlib\n",
    "import matplotlib.pyplot as plt\n",
    "%matplotlib inline\n",
    "import numpy as np\n",
    "import sklearn\n",
    "import pandas as pd\n",
    "import os, sys, time\n",
    "import tensorflow as tf\n",
    "from tensorflow import keras"
   ]
  },
  {
   "cell_type": "markdown",
   "metadata": {},
   "source": [
    "## **5.1 加载数据集**"
   ]
  },
  {
   "cell_type": "code",
   "execution_count": 2,
   "metadata": {},
   "outputs": [
    {
     "name": "stdout",
     "output_type": "stream",
     "text": [
      "Downloading data from https://www.cs.toronto.edu/~kriz/cifar-10-python.tar.gz\n",
      "170500096/170498071 [==============================] - 28s 0us/step\n",
      "(50000, 32, 32, 3) (50000, 1)\n",
      "(10000, 32, 32, 3) (10000, 1)\n"
     ]
    }
   ],
   "source": [
    "from keras.datasets.cifar10 import load_data\n",
    "\n",
    "(X_train, y_train), (X_test, y_test) = load_data()\n",
    "print(X_train.shape, y_train.shape)\n",
    "print(X_test.shape, y_test.shape)"
   ]
  },
  {
   "cell_type": "markdown",
   "metadata": {},
   "source": [
    "keras内自带了多个数据集，具体可以查看这里:[数据集](https://keras.io/datasets/)"
   ]
  },
  {
   "cell_type": "markdown",
   "metadata": {},
   "source": [
    "## **5.2 模型搭建**"
   ]
  },
  {
   "cell_type": "code",
   "execution_count": 3,
   "metadata": {},
   "outputs": [],
   "source": [
    "model = keras.models.Sequential([\n",
    "    keras.layers.Conv2D(filters=32, kernel_size=3, padding='same',\n",
    "                        activation='selu', input_shape=[32, 32, 3]),\n",
    "    keras.layers.Conv2D(filters=32, kernel_size=3, padding='same',\n",
    "                        activation='selu'),\n",
    "    keras.layers.MaxPool2D(pool_size=2),\n",
    "    keras.layers.Conv2D(filters=64, kernel_size=3, padding='same',\n",
    "                        activation='selu'),\n",
    "    keras.layers.Conv2D(filters=64, kernel_size=3, padding='same',\n",
    "                        activation='selu'),\n",
    "    keras.layers.MaxPool2D(pool_size=2),\n",
    "    keras.layers.Conv2D(filters=128, kernel_size=3, padding='same',\n",
    "                        activation='selu'),\n",
    "    keras.layers.Conv2D(filters=128, kernel_size=3, padding='same',\n",
    "                        activation='selu'),\n",
    "    keras.layers.MaxPool2D(pool_size=2),\n",
    "    keras.layers.GlobalAvgPool2D(),\n",
    "    keras.layers.Dense(10, activation='softmax')\n",
    "])"
   ]
  },
  {
   "cell_type": "code",
   "execution_count": 4,
   "metadata": {},
   "outputs": [
    {
     "name": "stdout",
     "output_type": "stream",
     "text": [
      "Train on 45000 samples, validate on 5000 samples\n",
      "Epoch 1/10\n",
      "45000/45000 [==============================] - 14s 300us/sample - loss: 2.5720 - accuracy: 0.3230 - val_loss: 1.5971 - val_accuracy: 0.4310\n",
      "Epoch 2/10\n",
      "45000/45000 [==============================] - 10s 221us/sample - loss: 1.4279 - accuracy: 0.4801 - val_loss: 1.3550 - val_accuracy: 0.4870\n",
      "Epoch 3/10\n",
      "45000/45000 [==============================] - 10s 222us/sample - loss: 1.2304 - accuracy: 0.5572 - val_loss: 1.1630 - val_accuracy: 0.5822\n",
      "Epoch 4/10\n",
      "45000/45000 [==============================] - 10s 222us/sample - loss: 1.0813 - accuracy: 0.6175 - val_loss: 1.0332 - val_accuracy: 0.6328\n",
      "Epoch 5/10\n",
      "45000/45000 [==============================] - 10s 222us/sample - loss: 0.9700 - accuracy: 0.6583 - val_loss: 0.9477 - val_accuracy: 0.6674\n",
      "Epoch 6/10\n",
      "45000/45000 [==============================] - 10s 223us/sample - loss: 0.8827 - accuracy: 0.6898 - val_loss: 0.9325 - val_accuracy: 0.6702\n",
      "Epoch 7/10\n",
      "45000/45000 [==============================] - 10s 223us/sample - loss: 0.7967 - accuracy: 0.7203 - val_loss: 0.9013 - val_accuracy: 0.6908\n",
      "Epoch 8/10\n",
      "45000/45000 [==============================] - 10s 223us/sample - loss: 0.7237 - accuracy: 0.7488 - val_loss: 0.8573 - val_accuracy: 0.7036\n",
      "Epoch 9/10\n",
      "45000/45000 [==============================] - 10s 223us/sample - loss: 0.6602 - accuracy: 0.7718 - val_loss: 0.8207 - val_accuracy: 0.7264\n",
      "Epoch 10/10\n",
      "45000/45000 [==============================] - 10s 223us/sample - loss: 0.5926 - accuracy: 0.7957 - val_loss: 0.8405 - val_accuracy: 0.7248\n"
     ]
    },
    {
     "data": {
      "text/plain": [
       "<tensorflow.python.keras.callbacks.History at 0x2ccd2e2a0b8>"
      ]
     },
     "execution_count": 4,
     "metadata": {},
     "output_type": "execute_result"
    }
   ],
   "source": [
    "model.compile(loss='sparse_categorical_crossentropy', metrics = ['accuracy'], optimizer='adam')\n",
    "model.fit(X_train, y_train, epochs=10, batch_size=256, validation_split=0.1)"
   ]
  },
  {
   "cell_type": "code",
   "execution_count": null,
   "metadata": {},
   "outputs": [],
   "source": []
  }
 ],
 "metadata": {
  "kernelspec": {
   "display_name": "tf2_tr12",
   "language": "python",
   "name": "tf2_tr12"
  },
  "language_info": {
   "codemirror_mode": {
    "name": "ipython",
    "version": 3
   },
   "file_extension": ".py",
   "mimetype": "text/x-python",
   "name": "python",
   "nbconvert_exporter": "python",
   "pygments_lexer": "ipython3",
   "version": "3.6.7"
  }
 },
 "nbformat": 4,
 "nbformat_minor": 2
}

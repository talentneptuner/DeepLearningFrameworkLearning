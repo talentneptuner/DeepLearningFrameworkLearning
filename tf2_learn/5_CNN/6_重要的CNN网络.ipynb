{
 "cells": [
  {
   "cell_type": "markdown",
   "metadata": {},
   "source": [
    "- AlexNet\n",
    "- VGG\n",
    "- NIN\n",
    "- ResNet\n",
    "- Inception\n",
    "- MobileNet\n",
    "- NASNet\n",
    "- ShakeShake\n",
    "- EffiecientNet"
   ]
  },
  {
   "cell_type": "code",
   "execution_count": null,
   "metadata": {},
   "outputs": [],
   "source": []
  }
 ],
 "metadata": {
  "kernelspec": {
   "display_name": "tf2_tr12",
   "language": "python",
   "name": "tf2_tr12"
  },
  "language_info": {
   "codemirror_mode": {
    "name": "ipython",
    "version": 3
   },
   "file_extension": ".py",
   "mimetype": "text/x-python",
   "name": "python",
   "nbconvert_exporter": "python",
   "pygments_lexer": "ipython3",
   "version": "3.6.7"
  }
 },
 "nbformat": 4,
 "nbformat_minor": 2
}

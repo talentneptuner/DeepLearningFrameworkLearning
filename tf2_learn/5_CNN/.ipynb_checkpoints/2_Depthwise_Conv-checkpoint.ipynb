{
 "cells": [
  {
   "cell_type": "markdown",
   "metadata": {},
   "source": [
    "# **2 深度可分离卷积**"
   ]
  },
  {
   "cell_type": "markdown",
   "metadata": {},
   "source": [
    "## **2.1 什么是深度可分离卷积**"
   ]
  },
  {
   "cell_type": "markdown",
   "metadata": {},
   "source": [
    "深度可分离卷积的思想来源于**Inception V3**，但是分离是建立在通道上的而不是卷积核上"
   ]
  },
  {
   "cell_type": "markdown",
   "metadata": {},
   "source": [
    "<div align='center'>\n",
    "<img src='../image/depthwisecnn.png'>\n",
    "<div>"
   ]
  },
  {
   "cell_type": "markdown",
   "metadata": {},
   "source": [
    "上图将通道分为三份,对每一份都使用$3 \\times 3$的卷积核分别处理"
   ]
  },
  {
   "cell_type": "markdown",
   "metadata": {},
   "source": [
    "- 计算量较普通卷积小很多\n",
    "- 便于在小型设备运行"
   ]
  },
  {
   "cell_type": "markdown",
   "metadata": {},
   "source": [
    "## **2.2 加载数据集**"
   ]
  },
  {
   "cell_type": "code",
   "execution_count": 1,
   "metadata": {},
   "outputs": [
    {
     "name": "stdout",
     "output_type": "stream",
     "text": [
      "(55000, 28, 28) (55000,) (5000, 28, 28) (5000,)\n"
     ]
    }
   ],
   "source": [
    "import matplotlib\n",
    "import matplotlib.pyplot as plt\n",
    "%matplotlib inline\n",
    "import numpy as np\n",
    "import sklearn\n",
    "import pandas as pd\n",
    "import os, sys, time\n",
    "import tensorflow as tf\n",
    "from tensorflow import keras\n",
    "\n",
    "fashion_mnist = keras.datasets.fashion_mnist\n",
    "(X_train_all, y_train_all), (X_test, y_test) = fashion_mnist.load_data()\n",
    "\n",
    "X_valid, X_train = X_train_all[:5000], X_train_all[5000:]\n",
    "y_valid, y_train = y_train_all[:5000], y_train_all[5000:]\n",
    "print(X_train.shape, y_train.shape, X_valid.shape, y_valid.shape)\n",
    "\n",
    "# (x - mean) / std\n",
    "from sklearn.preprocessing import StandardScaler\n",
    "std_scaler = StandardScaler()\n",
    "std_scaler.fit(X_train.astype(np.float32).reshape(-1, 1))\n",
    "X_train_scaled = std_scaler.transform(X_train.astype(np.float32).reshape(-1, 1)).reshape(-1, 28, 28, 1)\n",
    "X_valid_scaled = std_scaler.transform(X_valid.astype(np.float32).reshape(-1, 1)).reshape(-1, 28, 28, 1)"
   ]
  },
  {
   "cell_type": "markdown",
   "metadata": {},
   "source": [
    "## **2.3模型搭建**"
   ]
  },
  {
   "cell_type": "code",
   "execution_count": 2,
   "metadata": {},
   "outputs": [],
   "source": [
    "# tf.keras.models.Sequential\n",
    "model = keras.models.Sequential()\n",
    "model.add(keras.layers.Conv2D(filters=32, kernel_size=3, padding='same',\n",
    "                              activation='selu', input_shape = [28, 28, 1]))\n",
    "model.add(keras.layers.SeparableConv2D(filters=32, kernel_size=3, padding='same',\n",
    "                              activation='selu'))\n",
    "model.add(keras.layers.MaxPool2D(pool_size=2))\n",
    "model.add(keras.layers.SeparableConv2D(filters=64, kernel_size=3, padding='same',\n",
    "                              activation='selu')) # 为了缓解信息损失给filters翻倍\n",
    "model.add(keras.layers.SeparableConv2D(filters=64, kernel_size=3, padding='same',\n",
    "                              activation='selu'))\n",
    "model.add(keras.layers.MaxPool2D(pool_size=2))\n",
    "model.add(keras.layers.SeparableConv2D(filters=128, kernel_size=3, padding='same',\n",
    "                              activation='selu'))\n",
    "model.add(keras.layers.SeparableConv2D(filters=128, kernel_size=3, padding='same',\n",
    "                              activation='selu'))\n",
    "model.add(keras.layers.MaxPool2D(pool_size=2))\n",
    "model.add(keras.layers.Flatten())\n",
    "model.add(keras.layers.Dense(128, activation='relu'))\n",
    "model.add(keras.layers.Dense(10, activation='softmax'))\n",
    "# Sequential可以接受一个*args参数\n",
    "# compile\n",
    "model.compile(loss='sparse_categorical_crossentropy', optimizer='Adam', metrics=['accuracy'])"
   ]
  },
  {
   "cell_type": "code",
   "execution_count": 3,
   "metadata": {},
   "outputs": [
    {
     "name": "stdout",
     "output_type": "stream",
     "text": [
      "Train on 55000 samples, validate on 5000 samples\n",
      "Epoch 1/10\n",
      "55000/55000 [==============================] - 19s 343us/sample - loss: 0.5231 - accuracy: 0.8059 - val_loss: 0.3841 - val_accuracy: 0.8614\n",
      "Epoch 2/10\n",
      "55000/55000 [==============================] - 16s 290us/sample - loss: 0.3051 - accuracy: 0.8881 - val_loss: 0.2838 - val_accuracy: 0.8932\n",
      "Epoch 3/10\n",
      "55000/55000 [==============================] - 16s 290us/sample - loss: 0.2579 - accuracy: 0.9045 - val_loss: 0.2452 - val_accuracy: 0.9052\n",
      "Epoch 4/10\n",
      "55000/55000 [==============================] - 16s 291us/sample - loss: 0.2251 - accuracy: 0.9167 - val_loss: 0.2417 - val_accuracy: 0.9062\n",
      "Epoch 5/10\n",
      "55000/55000 [==============================] - 17s 301us/sample - loss: 0.1987 - accuracy: 0.9267 - val_loss: 0.2524 - val_accuracy: 0.9088\n",
      "Epoch 6/10\n",
      "55000/55000 [==============================] - 17s 308us/sample - loss: 0.1776 - accuracy: 0.9333 - val_loss: 0.2471 - val_accuracy: 0.9116\n",
      "Epoch 7/10\n",
      "55000/55000 [==============================] - 17s 306us/sample - loss: 0.1598 - accuracy: 0.9402 - val_loss: 0.2382 - val_accuracy: 0.9176\n",
      "Epoch 8/10\n",
      "55000/55000 [==============================] - 17s 308us/sample - loss: 0.1404 - accuracy: 0.9467 - val_loss: 0.2411 - val_accuracy: 0.9166\n",
      "Epoch 9/10\n",
      "55000/55000 [==============================] - 17s 310us/sample - loss: 0.1249 - accuracy: 0.9530 - val_loss: 0.2536 - val_accuracy: 0.9144\n",
      "Epoch 10/10\n",
      "55000/55000 [==============================] - 16s 298us/sample - loss: 0.1116 - accuracy: 0.9578 - val_loss: 0.2788 - val_accuracy: 0.9098\n"
     ]
    }
   ],
   "source": [
    "# fit\n",
    "history = model.fit(X_train_scaled, y_train, epochs=10, validation_data=(X_valid_scaled, y_valid))"
   ]
  },
  {
   "cell_type": "code",
   "execution_count": null,
   "metadata": {},
   "outputs": [],
   "source": []
  }
 ],
 "metadata": {
  "kernelspec": {
   "display_name": "tf2_tr12",
   "language": "python",
   "name": "tf2_tr12"
  },
  "language_info": {
   "codemirror_mode": {
    "name": "ipython",
    "version": 3
   },
   "file_extension": ".py",
   "mimetype": "text/x-python",
   "name": "python",
   "nbconvert_exporter": "python",
   "pygments_lexer": "ipython3",
   "version": "3.6.7"
  }
 },
 "nbformat": 4,
 "nbformat_minor": 2
}

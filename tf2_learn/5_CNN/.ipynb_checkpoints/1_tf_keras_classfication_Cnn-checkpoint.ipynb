{
 "cells": [
  {
   "cell_type": "markdown",
   "metadata": {},
   "source": [
    "# **1 基于CNN的图像分类模型**"
   ]
  },
  {
   "cell_type": "code",
   "execution_count": 1,
   "metadata": {},
   "outputs": [],
   "source": [
    "import matplotlib\n",
    "import matplotlib.pyplot as plt\n",
    "%matplotlib inline\n",
    "import numpy as np\n",
    "import sklearn\n",
    "import pandas as pd\n",
    "import os, sys, time\n",
    "import tensorflow as tf\n",
    "from tensorflow import keras"
   ]
  },
  {
   "cell_type": "markdown",
   "metadata": {},
   "source": [
    "## **5.1 加载数据集**"
   ]
  },
  {
   "cell_type": "markdown",
   "metadata": {},
   "source": [
    "我们使用**fashion-mnist**数据集"
   ]
  },
  {
   "cell_type": "code",
   "execution_count": 2,
   "metadata": {},
   "outputs": [],
   "source": [
    "fashion_mnist = keras.datasets.fashion_mnist\n",
    "(X_train_all, y_train_all), (X_test, y_test) = fashion_mnist.load_data()"
   ]
  },
  {
   "cell_type": "code",
   "execution_count": 3,
   "metadata": {},
   "outputs": [
    {
     "name": "stdout",
     "output_type": "stream",
     "text": [
      "(55000, 28, 28) (55000,) (5000, 28, 28) (5000,)\n"
     ]
    }
   ],
   "source": [
    "X_valid, X_train = X_train_all[:5000], X_train_all[5000:]\n",
    "y_valid, y_train = y_train_all[:5000], y_train_all[5000:]\n",
    "print(X_train.shape, y_train.shape, X_valid.shape, y_valid.shape)"
   ]
  },
  {
   "cell_type": "code",
   "execution_count": 4,
   "metadata": {},
   "outputs": [],
   "source": [
    "# (x - mean) / std\n",
    "from sklearn.preprocessing import StandardScaler\n",
    "std_scaler = StandardScaler()\n",
    "std_scaler.fit(X_train.astype(np.float32).reshape(-1, 1))\n",
    "X_train_scaled = std_scaler.transform(X_train.astype(np.float32).reshape(-1, 1)).reshape(-1, 28, 28, 1)\n",
    "X_valid_scaled = std_scaler.transform(X_valid.astype(np.float32).reshape(-1, 1)).reshape(-1, 28, 28, 1)"
   ]
  },
  {
   "cell_type": "markdown",
   "metadata": {},
   "source": [
    "## **5.2 模型搭建**Sequential"
   ]
  },
  {
   "cell_type": "code",
   "execution_count": 8,
   "metadata": {},
   "outputs": [],
   "source": [
    "# tf.keras.models.Sequential\n",
    "model = keras.models.Sequential()\n",
    "model.add(keras.layers.Conv2D(filters=32, kernel_size=3, padding='same',\n",
    "                              activation='relu', input_shape = [28, 28, 1]))\n",
    "model.add(keras.layers.Conv2D(filters=32, kernel_size=3, padding='same',\n",
    "                              activation='relu'))\n",
    "model.add(keras.layers.MaxPool2D(pool_size=2))\n",
    "model.add(keras.layers.Conv2D(filters=64, kernel_size=3, padding='same',\n",
    "                              activation='relu')) # 为了缓解信息损失给filters翻倍\n",
    "model.add(keras.layers.Conv2D(filters=64, kernel_size=3, padding='same',\n",
    "                              activation='relu'))\n",
    "model.add(keras.layers.MaxPool2D(pool_size=2))\n",
    "model.add(keras.layers.Conv2D(filters=128, kernel_size=3, padding='same',\n",
    "                              activation='relu'))\n",
    "model.add(keras.layers.Conv2D(filters=128, kernel_size=3, padding='same',\n",
    "                              activation='relu'))\n",
    "model.add(keras.layers.MaxPool2D(pool_size=2))\n",
    "model.add(keras.layers.Flatten())\n",
    "model.add(keras.layers.Dense(128, activation='relu'))\n",
    "model.add(keras.layers.Dense(10, activation='softmax'))\n",
    "# Sequential可以接受一个*args参数\n",
    "# compile\n",
    "model.compile(loss='sparse_categorical_crossentropy', optimizer='Adam', metrics=['accuracy'])"
   ]
  },
  {
   "cell_type": "markdown",
   "metadata": {},
   "source": [
    "**sparse_categorical_crossentrogy和categorical_crossentrogy**\n",
    " - 前者:y_true为index集合， y_pred为模型输出\n",
    " - 后者:y_true为one-hot"
   ]
  },
  {
   "cell_type": "code",
   "execution_count": 9,
   "metadata": {},
   "outputs": [
    {
     "name": "stdout",
     "output_type": "stream",
     "text": [
      "Train on 55000 samples, validate on 5000 samples\n",
      "Epoch 1/10\n",
      "55000/55000 [==============================] - 18s 319us/sample - loss: 0.4301 - accuracy: 0.8451 - val_loss: 0.2714 - val_accuracy: 0.8986\n",
      "Epoch 2/10\n",
      "55000/55000 [==============================] - 13s 241us/sample - loss: 0.2619 - accuracy: 0.9037 - val_loss: 0.2149 - val_accuracy: 0.9168\n",
      "Epoch 3/10\n",
      "55000/55000 [==============================] - 13s 244us/sample - loss: 0.2164 - accuracy: 0.9208 - val_loss: 0.2170 - val_accuracy: 0.9200\n",
      "Epoch 4/10\n",
      "55000/55000 [==============================] - 13s 241us/sample - loss: 0.1881 - accuracy: 0.9310 - val_loss: 0.2256 - val_accuracy: 0.9166\n",
      "Epoch 5/10\n",
      "55000/55000 [==============================] - 13s 242us/sample - loss: 0.1648 - accuracy: 0.9393 - val_loss: 0.2089 - val_accuracy: 0.9222\n",
      "Epoch 6/10\n",
      "55000/55000 [==============================] - 13s 242us/sample - loss: 0.1441 - accuracy: 0.9464 - val_loss: 0.2156 - val_accuracy: 0.9246\n",
      "Epoch 7/10\n",
      "55000/55000 [==============================] - 13s 243us/sample - loss: 0.1265 - accuracy: 0.9533 - val_loss: 0.2157 - val_accuracy: 0.9238\n",
      "Epoch 8/10\n",
      "55000/55000 [==============================] - 13s 239us/sample - loss: 0.1121 - accuracy: 0.9579 - val_loss: 0.2125 - val_accuracy: 0.9312\n",
      "Epoch 9/10\n",
      "55000/55000 [==============================] - 13s 242us/sample - loss: 0.0991 - accuracy: 0.9628 - val_loss: 0.2385 - val_accuracy: 0.9234\n",
      "Epoch 10/10\n",
      "55000/55000 [==============================] - 13s 240us/sample - loss: 0.0939 - accuracy: 0.9656 - val_loss: 0.2437 - val_accuracy: 0.9270\n"
     ]
    }
   ],
   "source": [
    "# fit\n",
    "history = model.fit(X_train_scaled, y_train, epochs=10, validation_data=(X_valid_scaled, y_valid))"
   ]
  },
  {
   "cell_type": "code",
   "execution_count": null,
   "metadata": {},
   "outputs": [],
   "source": []
  }
 ],
 "metadata": {
  "kernelspec": {
   "display_name": "tf2_tr12",
   "language": "python",
   "name": "tf2_tr12"
  },
  "language_info": {
   "codemirror_mode": {
    "name": "ipython",
    "version": 3
   },
   "file_extension": ".py",
   "mimetype": "text/x-python",
   "name": "python",
   "nbconvert_exporter": "python",
   "pygments_lexer": "ipython3",
   "version": "3.6.7"
  }
 },
 "nbformat": 4,
 "nbformat_minor": 4
}

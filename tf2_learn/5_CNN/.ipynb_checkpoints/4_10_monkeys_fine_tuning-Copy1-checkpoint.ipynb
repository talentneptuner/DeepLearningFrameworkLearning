{
 "cells": [
  {
   "cell_type": "code",
   "execution_count": 1,
   "metadata": {},
   "outputs": [],
   "source": [
    "import matplotlib\n",
    "import matplotlib.pyplot as plt\n",
    "%matplotlib inline\n",
    "import numpy as np\n",
    "import sklearn\n",
    "import pandas as pd\n",
    "import os, sys, time\n",
    "import tensorflow as tf\n",
    "from tensorflow import keras"
   ]
  },
  {
   "cell_type": "markdown",
   "metadata": {},
   "source": [
    "## **5.1 加载数据**"
   ]
  },
  {
   "cell_type": "code",
   "execution_count": 2,
   "metadata": {},
   "outputs": [],
   "source": [
    "import zipfile\n",
    "root_path = './data'\n",
    "fname = os.path.join(root_path, '10-monkey-species.zip')\n",
    "if os.path.exists(fname):\n",
    "    with zipfile.ZipFile(fname, 'r') as f:\n",
    "        f.extractall('./data/10_monkeys')"
   ]
  },
  {
   "cell_type": "code",
   "execution_count": 3,
   "metadata": {},
   "outputs": [
    {
     "name": "stdout",
     "output_type": "stream",
     "text": [
      "['monkey_labels.txt', 'training', 'validation']\n"
     ]
    }
   ],
   "source": [
    "file_dir = './data/10_monkeys'\n",
    "print(os.listdir(file_dir))"
   ]
  },
  {
   "cell_type": "code",
   "execution_count": 4,
   "metadata": {},
   "outputs": [
    {
     "name": "stdout",
     "output_type": "stream",
     "text": [
      "True\n",
      "True\n",
      "True\n"
     ]
    }
   ],
   "source": [
    "train_dir = os.path.join(file_dir, 'training/training')\n",
    "valid_dir = os.path.join(file_dir, 'validation/validation')\n",
    "label_file = os.path.join(file_dir, 'monkey_labels.txt')\n",
    "print(os.path.exists(train_dir))\n",
    "print(os.path.exists(valid_dir))\n",
    "print(os.path.exists(label_file))"
   ]
  },
  {
   "cell_type": "code",
   "execution_count": 5,
   "metadata": {},
   "outputs": [
    {
     "data": {
      "text/html": [
       "<div>\n",
       "<style scoped>\n",
       "    .dataframe tbody tr th:only-of-type {\n",
       "        vertical-align: middle;\n",
       "    }\n",
       "\n",
       "    .dataframe tbody tr th {\n",
       "        vertical-align: top;\n",
       "    }\n",
       "\n",
       "    .dataframe thead th {\n",
       "        text-align: right;\n",
       "    }\n",
       "</style>\n",
       "<table border=\"1\" class=\"dataframe\">\n",
       "  <thead>\n",
       "    <tr style=\"text-align: right;\">\n",
       "      <th></th>\n",
       "      <th>0</th>\n",
       "      <th>1</th>\n",
       "      <th>2</th>\n",
       "      <th>3</th>\n",
       "      <th>4</th>\n",
       "    </tr>\n",
       "  </thead>\n",
       "  <tbody>\n",
       "    <tr>\n",
       "      <th>0</th>\n",
       "      <td>Label</td>\n",
       "      <td>Latin Name</td>\n",
       "      <td>Common Name</td>\n",
       "      <td>Train Images</td>\n",
       "      <td>Validation Images</td>\n",
       "    </tr>\n",
       "    <tr>\n",
       "      <th>1</th>\n",
       "      <td>n0</td>\n",
       "      <td>alouatta_palliata\\t</td>\n",
       "      <td>mantled_howler</td>\n",
       "      <td>131</td>\n",
       "      <td>26</td>\n",
       "    </tr>\n",
       "    <tr>\n",
       "      <th>2</th>\n",
       "      <td>n1</td>\n",
       "      <td>erythrocebus_patas\\t</td>\n",
       "      <td>patas_monkey</td>\n",
       "      <td>139</td>\n",
       "      <td>28</td>\n",
       "    </tr>\n",
       "    <tr>\n",
       "      <th>3</th>\n",
       "      <td>n2</td>\n",
       "      <td>cacajao_calvus\\t</td>\n",
       "      <td>bald_uakari</td>\n",
       "      <td>137</td>\n",
       "      <td>27</td>\n",
       "    </tr>\n",
       "    <tr>\n",
       "      <th>4</th>\n",
       "      <td>n3</td>\n",
       "      <td>macaca_fuscata\\t</td>\n",
       "      <td>japanese_macaque</td>\n",
       "      <td>152</td>\n",
       "      <td>30</td>\n",
       "    </tr>\n",
       "  </tbody>\n",
       "</table>\n",
       "</div>"
      ],
      "text/plain": [
       "       0                        1                                2  \\\n",
       "0  Label    Latin Name              Common Name                      \n",
       "1  n0        alouatta_palliata\\t    mantled_howler                   \n",
       "2  n1       erythrocebus_patas\\t    patas_monkey                     \n",
       "3  n2       cacajao_calvus\\t        bald_uakari                      \n",
       "4  n3       macaca_fuscata\\t        japanese_macaque                 \n",
       "\n",
       "                3                   4  \n",
       "0   Train Images    Validation Images  \n",
       "1   131                            26  \n",
       "2   139                            28  \n",
       "3   137                            27  \n",
       "4   152                            30  "
      ]
     },
     "execution_count": 5,
     "metadata": {},
     "output_type": "execute_result"
    }
   ],
   "source": [
    "label_name = pd.read_csv(label_file, header=None)\n",
    "label_name.head(5)"
   ]
  },
  {
   "cell_type": "markdown",
   "metadata": {},
   "source": [
    "## **5.2 generator的使用**"
   ]
  },
  {
   "cell_type": "code",
   "execution_count": 6,
   "metadata": {},
   "outputs": [],
   "source": [
    "# 图片读取\n",
    "height = 224\n",
    "width = 224\n",
    "channels = 3\n",
    "batch_size = 20"
   ]
  },
  {
   "cell_type": "code",
   "execution_count": 7,
   "metadata": {},
   "outputs": [
    {
     "name": "stdout",
     "output_type": "stream",
     "text": [
      "Found 1098 images belonging to 10 classes.\n",
      "Found 272 images belonging to 10 classes.\n",
      "1098 272\n"
     ]
    }
   ],
   "source": [
    "train_datagen = keras.preprocessing.image.ImageDataGenerator(\n",
    "    preprocessing_function = keras.applications.resnet50.preprocess_input,\n",
    "    rotation_range= 40, # 图像随机旋转\n",
    "    width_shift_range = 0.2, # 位移\n",
    "    height_shift_range = 0.2, # 位移\n",
    "    shear_range = 0.2, # 剪切\n",
    "    zoom_range = 0.2, # 缩放\n",
    "    horizontal_flip = True, # 翻转\n",
    "    fill_mode = 'nearest' # 需要的填充方式\n",
    ")\n",
    "train_generator = train_datagen.flow_from_directory(train_dir, \n",
    "                                                    target_size = (height, width),\n",
    "                                                    batch_size = batch_size,\n",
    "                                                    seed = 7, \n",
    "                                                    shuffle = True,\n",
    "                                                    class_mode = 'categorical')\n",
    "valid_datagen = keras.preprocessing.image.ImageDataGenerator(preprocessing_function = keras.applications.resnet50.preprocess_input)\n",
    "valid_generator = valid_datagen.flow_from_directory(valid_dir, \n",
    "                                                    target_size = (height, width),\n",
    "                                                    batch_size = batch_size,\n",
    "                                                    seed = 7, \n",
    "                                                    shuffle = False,\n",
    "                                                    class_mode = 'categorical')\n",
    "train_num = train_generator.samples\n",
    "valid_num = valid_generator.samples\n",
    "print(train_num, valid_num)"
   ]
  },
  {
   "cell_type": "code",
   "execution_count": 8,
   "metadata": {},
   "outputs": [
    {
     "name": "stdout",
     "output_type": "stream",
     "text": [
      "(20, 224, 224, 3) (20, 10)\n",
      "(20, 224, 224, 3) (20, 10)\n"
     ]
    }
   ],
   "source": [
    "for i in range(2):\n",
    "    x, y = train_generator.next()\n",
    "    print(x.shape, y.shape)"
   ]
  },
  {
   "cell_type": "markdown",
   "metadata": {},
   "source": [
    "## **5.3 模型构建**"
   ]
  },
  {
   "cell_type": "code",
   "execution_count": 9,
   "metadata": {},
   "outputs": [
    {
     "name": "stdout",
     "output_type": "stream",
     "text": [
      "Downloading data from https://github.com/keras-team/keras-applications/releases/download/resnet/resnet50_weights_tf_dim_ordering_tf_kernels_notop.h5\n",
      "94773248/94765736 [==============================] - 2042s 22us/step\n"
     ]
    }
   ],
   "source": [
    "resnet50_fine_tune = keras.models.Sequential()\n",
    "resnet50_fine_tune.add(keras.applications.ResNet50(include_top = False,\n",
    "                                                   pooling = 'avg',\n",
    "                                                   weights = 'imagenet'))\n",
    "resnet50_fine_tune.add(keras.layers.Dense(10, activation = 'softmax'))\n",
    "resnet50_fine_tune.layers[0].trainable = False"
   ]
  },
  {
   "cell_type": "code",
   "execution_count": 10,
   "metadata": {},
   "outputs": [
    {
     "name": "stdout",
     "output_type": "stream",
     "text": [
      "Model: \"sequential\"\n",
      "_________________________________________________________________\n",
      "Layer (type)                 Output Shape              Param #   \n",
      "=================================================================\n",
      "resnet50 (Model)             (None, 2048)              23587712  \n",
      "_________________________________________________________________\n",
      "dense (Dense)                (None, 10)                20490     \n",
      "=================================================================\n",
      "Total params: 23,608,202\n",
      "Trainable params: 20,490\n",
      "Non-trainable params: 23,587,712\n",
      "_________________________________________________________________\n"
     ]
    }
   ],
   "source": [
    "resnet50_fine_tune.compile(loss='categorical_crossentropy', optimizer='sgd', metrics=['accuracy'])\n",
    "resnet50_fine_tune.summary()"
   ]
  },
  {
   "cell_type": "code",
   "execution_count": 11,
   "metadata": {},
   "outputs": [
    {
     "name": "stdout",
     "output_type": "stream",
     "text": [
      "Epoch 1/10\n",
      "54/54 [==============================] - 31s 574ms/step - loss: 1.5119 - accuracy: 0.5353 - val_loss: 0.6223 - val_accuracy: 0.8000\n",
      "Epoch 2/10\n",
      "54/54 [==============================] - 30s 553ms/step - loss: 0.6143 - accuracy: 0.8785 - val_loss: 0.3214 - val_accuracy: 0.9154\n",
      "Epoch 3/10\n",
      "54/54 [==============================] - 30s 553ms/step - loss: 0.4229 - accuracy: 0.9230 - val_loss: 0.2850 - val_accuracy: 0.9154\n",
      "Epoch 4/10\n",
      "54/54 [==============================] - 31s 567ms/step - loss: 0.3131 - accuracy: 0.9462 - val_loss: 0.2449 - val_accuracy: 0.9231\n",
      "Epoch 5/10\n",
      "54/54 [==============================] - 30s 554ms/step - loss: 0.2648 - accuracy: 0.9490 - val_loss: 0.2259 - val_accuracy: 0.9308\n",
      "Epoch 6/10\n",
      "54/54 [==============================] - 30s 550ms/step - loss: 0.2542 - accuracy: 0.9537 - val_loss: 0.1711 - val_accuracy: 0.9423\n",
      "Epoch 7/10\n",
      "54/54 [==============================] - 30s 552ms/step - loss: 0.2011 - accuracy: 0.9600 - val_loss: 0.1893 - val_accuracy: 0.9346\n",
      "Epoch 8/10\n",
      "54/54 [==============================] - 30s 555ms/step - loss: 0.1962 - accuracy: 0.9555 - val_loss: 0.1790 - val_accuracy: 0.9346\n",
      "Epoch 9/10\n",
      "54/54 [==============================] - 30s 556ms/step - loss: 0.1849 - accuracy: 0.9610 - val_loss: 0.1983 - val_accuracy: 0.9346\n",
      "Epoch 10/10\n",
      "54/54 [==============================] - 29s 546ms/step - loss: 0.1739 - accuracy: 0.9611 - val_loss: 0.2013 - val_accuracy: 0.9346\n"
     ]
    }
   ],
   "source": [
    "epochs = 10 # 设置为大一点的数据可以提升准确率\n",
    "history = resnet50_fine_tune.fit_generator(train_generator, \n",
    "                              steps_per_epoch = train_num // batch_size,\n",
    "                              epochs=epochs,\n",
    "                              validation_data=valid_generator,\n",
    "                              validation_steps=valid_num // batch_size)"
   ]
  },
  {
   "cell_type": "code",
   "execution_count": 12,
   "metadata": {},
   "outputs": [
    {
     "name": "stdout",
     "output_type": "stream",
     "text": [
      "dict_keys(['loss', 'accuracy', 'val_loss', 'val_accuracy'])\n"
     ]
    }
   ],
   "source": [
    "print(history.history.keys())"
   ]
  },
  {
   "cell_type": "code",
   "execution_count": 13,
   "metadata": {},
   "outputs": [
    {
     "data": {
      "image/png": "[encoded data removed]",
      "text/plain": [
       "<Figure size 576x360 with 1 Axes>"
      ]
     },
     "metadata": {
      "needs_background": "light"
     },
     "output_type": "display_data"
    },
    {
     "data": {
      "image/png": "[encoded data removed]",
      "text/plain": [
       "<Figure size 576x360 with 1 Axes>"
      ]
     },
     "metadata": {
      "needs_background": "light"
     },
     "output_type": "display_data"
    }
   ],
   "source": [
    "def plot_learning_curves(history, label, epochs, min_value, max_value):\n",
    "    data = {}\n",
    "    data[label] = history.history[label]\n",
    "    data['val' + label] = history.history['val_' + label]\n",
    "    pd.DataFrame(data).plot(figsize=(8, 5))\n",
    "    plt.grid(True)\n",
    "    plt.axis([0, epochs, min_value, max_value])\n",
    "    plt.show()\n",
    "plot_learning_curves(history, 'accuracy', epochs, 0, 1)\n",
    "plot_learning_curves(history, 'loss', epochs, 0, 3)"
   ]
  },
  {
   "cell_type": "markdown",
   "metadata": {},
   "source": [
    "## **5.4 训练ResNet中的几层**"
   ]
  },
  {
   "cell_type": "code",
   "execution_count": 16,
   "metadata": {},
   "outputs": [],
   "source": [
    "resnet50 = keras.applications.ResNet50(include_top = 50,\n",
    "                                       pooling = 'avg',\n",
    "                                       weights = 'imagenet')\n",
    "for layer in resnet50.layers[0: -5]:\n",
    "    layer.trainable = False"
   ]
  },
  {
   "cell_type": "code",
   "execution_count": null,
   "metadata": {},
   "outputs": [],
   "source": []
  }
 ],
 "metadata": {
  "kernelspec": {
   "display_name": "tf2_tr12",
   "language": "python",
   "name": "tf2_tr12"
  },
  "language_info": {
   "codemirror_mode": {
    "name": "ipython",
    "version": 3
   },
   "file_extension": ".py",
   "mimetype": "text/x-python",
   "name": "python",
   "nbconvert_exporter": "python",
   "pygments_lexer": "ipython3",
   "version": "3.6.7"
  }
 },
 "nbformat": 4,
 "nbformat_minor": 2
}

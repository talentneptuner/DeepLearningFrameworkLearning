{
 "cells": [
  {
   "cell_type": "markdown",
   "metadata": {},
   "source": [
    "# **LeNet**"
   ]
  },
  {
   "cell_type": "markdown",
   "metadata": {},
   "source": [
    "<div align=center>\n",
    "<img width=\"600\" src=\"../image/5.5_lenet.png\"/>\n",
    "</div>\n",
    "<div align=center>LeNet网络结构</div>"
   ]
  },
  {
   "cell_type": "markdown",
   "metadata": {},
   "source": [
    "第一层卷积: (5, 5)的卷积核,步长为1,6个卷积核     \n",
    "第一层池化: (2, 2)的池化,步长为2     \n",
    "第二层卷积: (5, 5)的卷积核,步长为1,16个卷积核     \n",
    "第二层池化: (2, 2)的池化,步长为2    "
   ]
  },
  {
   "cell_type": "markdown",
   "metadata": {},
   "source": [
    "## **LeNet的pytorch实现**"
   ]
  },
  {
   "cell_type": "code",
   "execution_count": 8,
   "metadata": {},
   "outputs": [],
   "source": [
    "import time\n",
    "import torch\n",
    "from torch import optim\n",
    "from torch.nn import *\n",
    "\n",
    "import sys\n",
    "sys.path.append(r'C:\\D\\ProgramFile\\jupyter\\torch_learn\\dive_to_dp\\utils') \n",
    "import d2lzh as d2l\n",
    "device = torch.device('cuda')"
   ]
  },
  {
   "cell_type": "code",
   "execution_count": 9,
   "metadata": {},
   "outputs": [],
   "source": [
    "class LeNet(Module):\n",
    "    def __init__(self):\n",
    "        super(LeNet, self).__init__()\n",
    "        self.conv = Sequential(Conv2d(in_channels=1, out_channels=6, kernel_size=5, stride=1),\n",
    "                               Sigmoid(),\n",
    "                               MaxPool2d(kernel_size=2, stride=2),\n",
    "                               Conv2d(in_channels=6, out_channels=16, kernel_size=5, stride=1),\n",
    "                               Sigmoid(),\n",
    "                               MaxPool2d(kernel_size=2, stride=2))\n",
    "        self.fc = Sequential(Linear(16*4*4, 120),\n",
    "                             Sigmoid(),\n",
    "                             Linear(120, 84),\n",
    "                             Sigmoid(),\n",
    "                             Linear(84, 10))\n",
    "    def forward(self, x):\n",
    "        feature_map = self.conv(x)\n",
    "        output = self.fc(feature_map.view(x.shape[0], -1))\n",
    "        return output"
   ]
  },
  {
   "cell_type": "code",
   "execution_count": 10,
   "metadata": {},
   "outputs": [
    {
     "name": "stdout",
     "output_type": "stream",
     "text": [
      "LeNet(\n",
      "  (conv): Sequential(\n",
      "    (0): Conv2d(1, 6, kernel_size=(5, 5), stride=(1, 1))\n",
      "    (1): Sigmoid()\n",
      "    (2): MaxPool2d(kernel_size=2, stride=2, padding=0, dilation=1, ceil_mode=False)\n",
      "    (3): Conv2d(6, 16, kernel_size=(5, 5), stride=(1, 1))\n",
      "    (4): Sigmoid()\n",
      "    (5): MaxPool2d(kernel_size=2, stride=2, padding=0, dilation=1, ceil_mode=False)\n",
      "  )\n",
      "  (fc): Sequential(\n",
      "    (0): Linear(in_features=256, out_features=120, bias=True)\n",
      "    (1): Sigmoid()\n",
      "    (2): Linear(in_features=120, out_features=84, bias=True)\n",
      "    (3): Sigmoid()\n",
      "    (4): Linear(in_features=84, out_features=10, bias=True)\n",
      "  )\n",
      ")\n"
     ]
    }
   ],
   "source": [
    "net = LeNet()\n",
    "print(net)"
   ]
  },
  {
   "cell_type": "markdown",
   "metadata": {},
   "source": [
    "## **获取数据和训练模型**"
   ]
  },
  {
   "cell_type": "code",
   "execution_count": 11,
   "metadata": {},
   "outputs": [],
   "source": [
    "batch_size = 256\n",
    "train_iter, test_iter = d2l.load_fashion_mnist_data(batch_size)"
   ]
  },
  {
   "cell_type": "code",
   "execution_count": 12,
   "metadata": {},
   "outputs": [],
   "source": [
    "# 支持gpu计算的评测函数\n",
    "def evaluate_accuracy(data_iter, net, device=torch.device('cuda' if torch.cuda.is_available() else 'cpu')):\n",
    "    acc_sum, n = 0.0, 0.0\n",
    "    with torch.no_grad():\n",
    "        for X, y in data_iter:\n",
    "            if isinstance(net, torch.nn.Module):\n",
    "                net.eval() # 评测模式\n",
    "                y_hat = net(X.to(device))\n",
    "                acc_num = (y_hat.argmax(dim=1) == y.to(device)).float().sum().cpu().item()\n",
    "                acc_sum += acc_num\n",
    "                net.train() # 训练模式\n",
    "            elif ('is_training' in net.__code__.co_varnames):\n",
    "                y_hat = net(X, is_train=False)\n",
    "                acc_num = (y_hat.argmax(dim=1) == y).float().sum().item()\n",
    "                acc_sum += acc_num\n",
    "            else:\n",
    "                y_hat = net(X)\n",
    "                acc_num = (y_hat.argmax(dim=1) == y).float().sum().item()\n",
    "                acc_sum += acc_num\n",
    "            n += y.shape[0]\n",
    "        return acc_sum / n"
   ]
  },
  {
   "cell_type": "code",
   "execution_count": 13,
   "metadata": {},
   "outputs": [],
   "source": [
    "def train_ch5(net, train_iter, test_iter, batch_size, optimizer, device, num_epochs):\n",
    "    net = net.to(device)\n",
    "    print(f'training on {device}')\n",
    "    loss = torch.nn.CrossEntropyLoss()\n",
    "    batch_count = 0\n",
    "    for epoch in range(num_epochs):\n",
    "        train_l_sum, train_acc_sum, n = 0.0, 0.0, 0.0\n",
    "        for X, y in train_iter:\n",
    "            X = X.to(device)\n",
    "            y = y.to(device)\n",
    "            y_hat = net(X)\n",
    "            l = loss(y_hat, y)\n",
    "            optimizer.zero_grad()\n",
    "            l.backward()\n",
    "            optimizer.step()\n",
    "            train_l_sum += l.cpu().item()\n",
    "            train_acc_sum += (y_hat.argmax(dim=1) == y).float().sum().cpu().item()\n",
    "            n += y.shape[0]\n",
    "            batch_count += 1\n",
    "        test_acc = evaluate_accuracy(test_iter, net)\n",
    "        print(train_acc_sum, train_l_sum)\n",
    "        print(f'epoch{epoch+1}: loss {train_l_sum/batch_count:.4f} train_acc {train_acc_sum / n:.4f} test_acc {test_acc:.4f}')"
   ]
  },
  {
   "cell_type": "code",
   "execution_count": 14,
   "metadata": {},
   "outputs": [
    {
     "name": "stdout",
     "output_type": "stream",
     "text": [
      "training on cuda\n",
      "20186.0 427.8613920211792\n",
      "epoch1: loss 1.8207 train_acc 0.3364 test_acc 0.5806\n",
      "39225.0 216.63814198970795\n",
      "epoch2: loss 0.4609 train_acc 0.6538 test_acc 0.7052\n",
      "43701.0 172.70168966054916\n",
      "epoch3: loss 0.2450 train_acc 0.7284 test_acc 0.7387\n",
      "44954.0 153.48643738031387\n",
      "epoch4: loss 0.1633 train_acc 0.7492 test_acc 0.7535\n",
      "45938.0 141.9695059657097\n",
      "epoch5: loss 0.1208 train_acc 0.7656 test_acc 0.7638\n"
     ]
    }
   ],
   "source": [
    "lr, num_epochs = 0.001, 5\n",
    "optimizer = torch.optim.Adam(net.parameters(), lr=lr)\n",
    "train_ch5(net, train_iter, test_iter, batch_size, optimizer, device, num_epochs)"
   ]
  },
  {
   "cell_type": "code",
   "execution_count": null,
   "metadata": {},
   "outputs": [],
   "source": []
  }
 ],
 "metadata": {
  "kernelspec": {
   "display_name": "tf2_tr12",
   "language": "python",
   "name": "tf2_tr12"
  },
  "language_info": {
   "codemirror_mode": {
    "name": "ipython",
    "version": 3
   },
   "file_extension": ".py",
   "mimetype": "text/x-python",
   "name": "python",
   "nbconvert_exporter": "python",
   "pygments_lexer": "ipython3",
   "version": "3.6.7"
  }
 },
 "nbformat": 4,
 "nbformat_minor": 4
}

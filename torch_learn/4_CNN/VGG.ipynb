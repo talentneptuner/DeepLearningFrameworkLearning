{
 "cells": [
  {
   "cell_type": "markdown",
   "metadata": {},
   "source": [
    "# **VGGNet**"
   ]
  },
  {
   "cell_type": "markdown",
   "metadata": {},
   "source": [
    "VGGNet使用多个重复模块进行组合来构建深度模型"
   ]
  },
  {
   "cell_type": "markdown",
   "metadata": {},
   "source": [
    "## **VGGNet模块**"
   ]
  },
  {
   "cell_type": "code",
   "execution_count": 1,
   "metadata": {},
   "outputs": [],
   "source": [
    "import torch\n",
    "from torch import nn, optim\n",
    "import sys\n",
    "sys.path.append(r'C:\\D\\ProgramFile\\jupyter\\torch_learn\\dive_to_dp\\utils') \n",
    "import d2lzh as d2l"
   ]
  },
  {
   "cell_type": "code",
   "execution_count": 2,
   "metadata": {},
   "outputs": [],
   "source": [
    "device = torch.device('cuda')"
   ]
  },
  {
   "cell_type": "code",
   "execution_count": 3,
   "metadata": {},
   "outputs": [],
   "source": [
    "def vgg_block(num_convs, in_channels, out_channels):\n",
    "    blk = []\n",
    "    for i in range(num_convs):\n",
    "        if i == 0:\n",
    "            blk.append(nn.Conv2d(in_channels, out_channels, kernel_size=3, padding=1))\n",
    "        else:\n",
    "            blk.append(nn.Conv2d(out_channels, out_channels, kernel_size=3, padding=1))\n",
    "        blk.append(nn.ReLU())\n",
    "    blk.append(nn.MaxPool2d(kernel_size=2, stride=2))\n",
    "    return nn.Sequential(*blk)"
   ]
  },
  {
   "cell_type": "markdown",
   "metadata": {},
   "source": [
    "## **VGG结构搭建**"
   ]
  },
  {
   "cell_type": "markdown",
   "metadata": {},
   "source": [
    "VGGNet由多个vgg_block连接组成，我们使用变量`conv_arch`来定义各个vgg_block的参数    \n",
    "因为我们使用的是FashionMnist数据，所以输入通道为1      \n",
    "我们接下来的网络使用了8个卷积层和3个全连接，被称为vgg-11     "
   ]
  },
  {
   "cell_type": "code",
   "execution_count": 4,
   "metadata": {},
   "outputs": [],
   "source": [
    "conv_arch = ((1, 1, 64), (1, 64, 128), (2, 128, 256), (2, 256, 512), (2, 512, 512))\n",
    "fc_features = 512 * 7 * 7\n",
    "fc_hidden_units = 4096"
   ]
  },
  {
   "cell_type": "code",
   "execution_count": 5,
   "metadata": {},
   "outputs": [],
   "source": [
    "def vgg(conv_arch, fc_features, fc_hidden_units=4096):\n",
    "    net = nn.Sequential()\n",
    "    for i , (num_convs, in_channels, out_channels) in enumerate(conv_arch):\n",
    "        net.add_module('vgg_block' + str(i), vgg_block(num_convs, in_channels, out_channels))\n",
    "    net.add_module('fc', nn.Sequential(d2l.FlattenLayer(),\n",
    "                                       nn.Linear(fc_features, fc_hidden_units),\n",
    "                                       nn.ReLU(),\n",
    "                                       nn.Dropout(0.5),\n",
    "                                       nn.Linear(fc_hidden_units, fc_hidden_units),\n",
    "                                       nn.ReLU(),\n",
    "                                       nn.Dropout(0.5),\n",
    "                                       nn.Linear(fc_hidden_units, 10)))\n",
    "    return net\n",
    "        "
   ]
  },
  {
   "cell_type": "code",
   "execution_count": 6,
   "metadata": {},
   "outputs": [],
   "source": [
    "net = vgg(conv_arch, fc_features, fc_hidden_units)\n",
    "X = torch.rand(1, 1, 224, 224)"
   ]
  },
  {
   "cell_type": "code",
   "execution_count": 7,
   "metadata": {},
   "outputs": [
    {
     "name": "stdout",
     "output_type": "stream",
     "text": [
      "vgg_block0 output shape:  torch.Size([1, 64, 112, 112])\n",
      "vgg_block1 output shape:  torch.Size([1, 128, 56, 56])\n",
      "vgg_block2 output shape:  torch.Size([1, 256, 28, 28])\n",
      "vgg_block3 output shape:  torch.Size([1, 512, 14, 14])\n",
      "vgg_block4 output shape:  torch.Size([1, 512, 7, 7])\n",
      "fc output shape:  torch.Size([1, 10])\n"
     ]
    }
   ],
   "source": [
    "# 测试每一个子模块的输出\n",
    "for name, blk in net.named_children(): \n",
    "    X = blk(X)\n",
    "    print(name, 'output shape: ', X.shape)"
   ]
  },
  {
   "cell_type": "markdown",
   "metadata": {},
   "source": [
    "## **加载数据**"
   ]
  },
  {
   "cell_type": "markdown",
   "metadata": {},
   "source": [
    "因为vggnet的参数太多了，我们构建一个小一点的vggNet来进行训练"
   ]
  },
  {
   "cell_type": "code",
   "execution_count": 8,
   "metadata": {},
   "outputs": [
    {
     "name": "stdout",
     "output_type": "stream",
     "text": [
      "Sequential(\n",
      "  (vgg_block0): Sequential(\n",
      "    (0): Conv2d(1, 8, kernel_size=(3, 3), stride=(1, 1), padding=(1, 1))\n",
      "    (1): ReLU()\n",
      "    (2): MaxPool2d(kernel_size=2, stride=2, padding=0, dilation=1, ceil_mode=False)\n",
      "  )\n",
      "  (vgg_block1): Sequential(\n",
      "    (0): Conv2d(8, 16, kernel_size=(3, 3), stride=(1, 1), padding=(1, 1))\n",
      "    (1): ReLU()\n",
      "    (2): MaxPool2d(kernel_size=2, stride=2, padding=0, dilation=1, ceil_mode=False)\n",
      "  )\n",
      "  (vgg_block2): Sequential(\n",
      "    (0): Conv2d(16, 32, kernel_size=(3, 3), stride=(1, 1), padding=(1, 1))\n",
      "    (1): ReLU()\n",
      "    (2): Conv2d(32, 32, kernel_size=(3, 3), stride=(1, 1), padding=(1, 1))\n",
      "    (3): ReLU()\n",
      "    (4): MaxPool2d(kernel_size=2, stride=2, padding=0, dilation=1, ceil_mode=False)\n",
      "  )\n",
      "  (vgg_block3): Sequential(\n",
      "    (0): Conv2d(32, 64, kernel_size=(3, 3), stride=(1, 1), padding=(1, 1))\n",
      "    (1): ReLU()\n",
      "    (2): Conv2d(64, 64, kernel_size=(3, 3), stride=(1, 1), padding=(1, 1))\n",
      "    (3): ReLU()\n",
      "    (4): MaxPool2d(kernel_size=2, stride=2, padding=0, dilation=1, ceil_mode=False)\n",
      "  )\n",
      "  (vgg_block4): Sequential(\n",
      "    (0): Conv2d(64, 64, kernel_size=(3, 3), stride=(1, 1), padding=(1, 1))\n",
      "    (1): ReLU()\n",
      "    (2): Conv2d(64, 64, kernel_size=(3, 3), stride=(1, 1), padding=(1, 1))\n",
      "    (3): ReLU()\n",
      "    (4): MaxPool2d(kernel_size=2, stride=2, padding=0, dilation=1, ceil_mode=False)\n",
      "  )\n",
      "  (fc): Sequential(\n",
      "    (0): FlattenLayer()\n",
      "    (1): Linear(in_features=3136, out_features=512, bias=True)\n",
      "    (2): ReLU()\n",
      "    (3): Dropout(p=0.5)\n",
      "    (4): Linear(in_features=512, out_features=512, bias=True)\n",
      "    (5): ReLU()\n",
      "    (6): Dropout(p=0.5)\n",
      "    (7): Linear(in_features=512, out_features=10, bias=True)\n",
      "  )\n",
      ")\n"
     ]
    }
   ],
   "source": [
    "ratio = 8\n",
    "small_conv_arch = [(1, 1, 64//ratio), (1, 64//ratio, 128//ratio), (2, 128//ratio, 256//ratio), \n",
    "                   (2, 256//ratio, 512//ratio), (2, 512//ratio, 512//ratio)]\n",
    "net = vgg(small_conv_arch, fc_features // ratio, fc_hidden_units // ratio)\n",
    "print(net)"
   ]
  },
  {
   "cell_type": "code",
   "execution_count": 9,
   "metadata": {},
   "outputs": [],
   "source": [
    "batch_size = 64\n",
    "train_iter, test_iter = d2l.load_data_fashion_mnist(batch_size=batch_size, resize=224)"
   ]
  },
  {
   "cell_type": "code",
   "execution_count": 10,
   "metadata": {},
   "outputs": [],
   "source": [
    "net = net.to(device)"
   ]
  },
  {
   "cell_type": "code",
   "execution_count": 11,
   "metadata": {},
   "outputs": [
    {
     "name": "stdout",
     "output_type": "stream",
     "text": [
      "----------------------------------------------------------------\n",
      "        Layer (type)               Output Shape         Param #\n",
      "================================================================\n",
      "            Conv2d-1          [-1, 8, 224, 224]              80\n",
      "              ReLU-2          [-1, 8, 224, 224]               0\n",
      "         MaxPool2d-3          [-1, 8, 112, 112]               0\n",
      "            Conv2d-4         [-1, 16, 112, 112]           1,168\n",
      "              ReLU-5         [-1, 16, 112, 112]               0\n",
      "         MaxPool2d-6           [-1, 16, 56, 56]               0\n",
      "            Conv2d-7           [-1, 32, 56, 56]           4,640\n",
      "              ReLU-8           [-1, 32, 56, 56]               0\n",
      "            Conv2d-9           [-1, 32, 56, 56]           9,248\n",
      "             ReLU-10           [-1, 32, 56, 56]               0\n",
      "        MaxPool2d-11           [-1, 32, 28, 28]               0\n",
      "           Conv2d-12           [-1, 64, 28, 28]          18,496\n",
      "             ReLU-13           [-1, 64, 28, 28]               0\n",
      "           Conv2d-14           [-1, 64, 28, 28]          36,928\n",
      "             ReLU-15           [-1, 64, 28, 28]               0\n",
      "        MaxPool2d-16           [-1, 64, 14, 14]               0\n",
      "           Conv2d-17           [-1, 64, 14, 14]          36,928\n",
      "             ReLU-18           [-1, 64, 14, 14]               0\n",
      "           Conv2d-19           [-1, 64, 14, 14]          36,928\n",
      "             ReLU-20           [-1, 64, 14, 14]               0\n",
      "        MaxPool2d-21             [-1, 64, 7, 7]               0\n",
      "     FlattenLayer-22                 [-1, 3136]               0\n",
      "           Linear-23                  [-1, 512]       1,606,144\n",
      "             ReLU-24                  [-1, 512]               0\n",
      "          Dropout-25                  [-1, 512]               0\n",
      "           Linear-26                  [-1, 512]         262,656\n",
      "             ReLU-27                  [-1, 512]               0\n",
      "          Dropout-28                  [-1, 512]               0\n",
      "           Linear-29                   [-1, 10]           5,130\n",
      "================================================================\n",
      "Total params: 2,018,346\n",
      "Trainable params: 2,018,346\n",
      "Non-trainable params: 0\n",
      "----------------------------------------------------------------\n",
      "Input size (MB): 0.19\n",
      "Forward/backward pass size (MB): 15.67\n",
      "Params size (MB): 7.70\n",
      "Estimated Total Size (MB): 23.56\n",
      "----------------------------------------------------------------\n"
     ]
    }
   ],
   "source": [
    "import torchsummary\n",
    "torchsummary.summary(net, (1, 224, 224))"
   ]
  },
  {
   "cell_type": "code",
   "execution_count": 12,
   "metadata": {},
   "outputs": [],
   "source": [
    "lr, num_epochs = 0.001, 5\n",
    "optimizer = optim.Adam(params=net.parameters(), lr=lr)\n",
    "loss = nn.CrossEntropyLoss()"
   ]
  },
  {
   "cell_type": "code",
   "execution_count": 13,
   "metadata": {},
   "outputs": [
    {
     "name": "stdout",
     "output_type": "stream",
     "text": [
      "epoch1: loss 0.6528 train_acc 0.7541 test_acc 0.8709\n",
      "epoch2: loss 0.3376 train_acc 0.8776 test_acc 0.8891\n",
      "epoch3: loss 0.2891 train_acc 0.8955 test_acc 0.9042\n",
      "epoch4: loss 0.2532 train_acc 0.9082 test_acc 0.9120\n",
      "epoch5: loss 0.2318 train_acc 0.9156 test_acc 0.9151\n"
     ]
    }
   ],
   "source": [
    "for epoch in range(num_epochs):\n",
    "    train_l_sum, train_acc_sum, n, batch_count = 0.0, 0.0, 0, 0\n",
    "    for X, y in train_iter:\n",
    "        X = X.to(device)\n",
    "        y = y.to(device)\n",
    "        y_hat = net(X)\n",
    "        l = loss(y_hat, y)\n",
    "        optimizer.zero_grad()\n",
    "        l.backward()\n",
    "        optimizer.step()\n",
    "        train_l_sum += l.cpu()\n",
    "        train_acc_sum += (y_hat.argmax(dim=1) == y).float().cpu().sum()\n",
    "        n += y.shape[0]\n",
    "        batch_count += 1\n",
    "    test_acc = d2l.evaluate_accuracy(test_iter, net)\n",
    "    print(f'epoch{epoch+1}: loss {train_l_sum/batch_count:.4f} train_acc {train_acc_sum / n:.4f} test_acc {test_acc:.4f}')"
   ]
  },
  {
   "cell_type": "code",
   "execution_count": null,
   "metadata": {},
   "outputs": [],
   "source": []
  }
 ],
 "metadata": {
  "kernelspec": {
   "display_name": "tf2_tr12",
   "language": "python",
   "name": "tf2_tr12"
  },
  "language_info": {
   "codemirror_mode": {
    "name": "ipython",
    "version": 3
   },
   "file_extension": ".py",
   "mimetype": "text/x-python",
   "name": "python",
   "nbconvert_exporter": "python",
   "pygments_lexer": "ipython3",
   "version": "3.6.7"
  },
  "toc": {
   "base_numbering": 1,
   "nav_menu": {},
   "number_sections": true,
   "sideBar": true,
   "skip_h1_title": false,
   "title_cell": "Table of Contents",
   "title_sidebar": "Contents",
   "toc_cell": false,
   "toc_position": {},
   "toc_section_display": true,
   "toc_window_display": false
  }
 },
 "nbformat": 4,
 "nbformat_minor": 4
}

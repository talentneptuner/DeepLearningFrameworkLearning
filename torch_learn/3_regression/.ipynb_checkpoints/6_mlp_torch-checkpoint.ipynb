{
 "cells": [
  {
   "cell_type": "code",
   "execution_count": 1,
   "metadata": {},
   "outputs": [],
   "source": [
    "import torch\n",
    "import numpy as np\n",
    "import sys\n",
    "import sys\n",
    "sys.path.append(r'C:\\D\\ProgramFile\\jupyter\\torch_learn\\dive_to_dp\\utils')\n",
    "import d2lzh as d2l"
   ]
  },
  {
   "cell_type": "markdown",
   "metadata": {},
   "source": [
    "## **MLP的计算过程**\n",
    "第一层计算\n",
    "$X \\in \\mathbb R^{n \\times b}$           \n",
    "$W_1 \\in \\mathbb R^{b \\times h}$       \n",
    "$Z_1 = XW_1 + b_1$       \n",
    "$A_1 = activation(Z_1)$    \n",
    "第二层计算    \n",
    "$A_1 \\in \\mathbb R^{n \\times h}$                   \n",
    "$W_2 \\in \\mathbb R^{h \\times output_dims}$     \n",
    "$Z_2 = A_1W_2 + b_2$      \n",
    "$output = activation(Z_2)$"
   ]
  },
  {
   "cell_type": "code",
   "execution_count": 2,
   "metadata": {},
   "outputs": [],
   "source": [
    "batch_size = 256\n",
    "train_iter, test_iter = d2l.load_fashion_mnist_data(batch_size)"
   ]
  },
  {
   "cell_type": "markdown",
   "metadata": {},
   "source": [
    "## ** 模型构建**"
   ]
  },
  {
   "cell_type": "code",
   "execution_count": 4,
   "metadata": {},
   "outputs": [],
   "source": [
    "num_inputs, num_outputs, num_hiddens = 784, 10, 256\n",
    "    \n",
    "net = torch.nn.Sequential(\n",
    "        d2l.FlattenLayer(),\n",
    "        torch.nn.Linear(num_inputs, num_hiddens),\n",
    "        torch.nn.ReLU(),\n",
    "        torch.nn.Linear(num_hiddens, num_outputs), \n",
    "        )\n",
    "    \n",
    "for params in net.parameters():\n",
    "    torch.nn.init.normal_(params, mean=0, std=0.01)"
   ]
  },
  {
   "cell_type": "code",
   "execution_count": 5,
   "metadata": {},
   "outputs": [],
   "source": [
    "loss = torch.nn.CrossEntropyLoss()\n",
    "\n",
    "optimizer = torch.optim.SGD(net.parameters(), lr=0.5)"
   ]
  },
  {
   "cell_type": "markdown",
   "metadata": {},
   "source": [
    "## **模型训练**"
   ]
  },
  {
   "cell_type": "code",
   "execution_count": 6,
   "metadata": {},
   "outputs": [],
   "source": [
    "num_epochs = 5"
   ]
  },
  {
   "cell_type": "code",
   "execution_count": 9,
   "metadata": {},
   "outputs": [
    {
     "name": "stdout",
     "output_type": "stream",
     "text": [
      "epoch1:loss 0.0013 train_acc 0.8800 test_acc 0.8405\n",
      "epoch2:loss 0.0012 train_acc 0.8848 test_acc 0.8500\n",
      "epoch3:loss 0.0012 train_acc 0.8881 test_acc 0.8471\n",
      "epoch4:loss 0.0012 train_acc 0.8913 test_acc 0.8648\n",
      "epoch5:loss 0.0011 train_acc 0.8935 test_acc 0.8723\n"
     ]
    }
   ],
   "source": [
    "for epoch in range(num_epochs):\n",
    "    total_acc, total_loss, n = 0.0, 0.0, 0\n",
    "    for X,y in train_iter:\n",
    "        y_hat = net(X)\n",
    "        l = loss(y_hat, y).sum()\n",
    "        optimizer.zero_grad()\n",
    "        l.backward()\n",
    "        optimizer.step()\n",
    "        total_loss += l\n",
    "        total_acc += (y_hat.argmax(dim=1)==y).sum().item()\n",
    "        n += y.shape[0]\n",
    "    test_acc = d2l.evaluate_accuracy(test_iter, net)\n",
    "    print('epoch{:d}:loss {:.4f} train_acc {:.4f} test_acc {:.4f}'.format(epoch+1, total_loss/n, total_acc/n, test_acc))"
   ]
  },
  {
   "cell_type": "code",
   "execution_count": null,
   "metadata": {},
   "outputs": [],
   "source": []
  }
 ],
 "metadata": {
  "kernelspec": {
   "display_name": "i7",
   "language": "python",
   "name": "dpcpu"
  },
  "language_info": {
   "codemirror_mode": {
    "name": "ipython",
    "version": 3
   },
   "file_extension": ".py",
   "mimetype": "text/x-python",
   "name": "python",
   "nbconvert_exporter": "python",
   "pygments_lexer": "ipython3",
   "version": "3.6.2"
  }
 },
 "nbformat": 4,
 "nbformat_minor": 2
}

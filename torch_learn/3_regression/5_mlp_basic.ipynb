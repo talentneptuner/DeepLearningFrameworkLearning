{
 "cells": [
  {
   "cell_type": "code",
   "execution_count": 1,
   "metadata": {},
   "outputs": [],
   "source": [
    "import torch\n",
    "import numpy as np\n",
    "import sys\n",
    "import sys\n",
    "sys.path.append(r'C:\\D\\ProgramFile\\jupyter\\torch_learn\\dive_to_dp\\utils')\n",
    "import d2lzh as d2l"
   ]
  },
  {
   "cell_type": "markdown",
   "metadata": {},
   "source": [
    "## **MLP的计算过程**\n",
    "第一层计算\n",
    "$X \\in \\mathbb R^{n \\times b}$           \n",
    "$W_1 \\in \\mathbb R^{b \\times h}$       \n",
    "$Z_1 = XW_1 + b_1$       \n",
    "$A_1 = activation(Z_1)$    \n",
    "第二层计算    \n",
    "$A_1 \\in \\mathbb R^{n \\times h}$                   \n",
    "$W_2 \\in \\mathbb R^{h \\times output_dims}$     \n",
    "$Z_2 = A_1W_2 + b_2$      \n",
    "$output = activation(Z_2)$"
   ]
  },
  {
   "cell_type": "code",
   "execution_count": 2,
   "metadata": {},
   "outputs": [],
   "source": [
    "batch_size = 256\n",
    "train_iter, test_iter = d2l.load_fashion_mnist_data(batch_size)"
   ]
  },
  {
   "cell_type": "markdown",
   "metadata": {},
   "source": [
    "## **定义模型的参数**"
   ]
  },
  {
   "cell_type": "code",
   "execution_count": 3,
   "metadata": {},
   "outputs": [],
   "source": [
    "num_inputs, num_outputs, num_hiddens = 784, 10, 256\n",
    "W_1 = torch.tensor(np.random.normal(0, 0.01, (num_inputs, num_hiddens)), dtype = torch.float)\n",
    "b_1 = torch.zeros(num_hiddens, dtype = torch.float)\n",
    "W_2 = torch.tensor(np.random.normal(0, 0.01, (num_hiddens, num_outputs)), dtype = torch.float)\n",
    "b_2 = torch.zeros(num_outputs, dtype = torch.float)"
   ]
  },
  {
   "cell_type": "code",
   "execution_count": 4,
   "metadata": {},
   "outputs": [],
   "source": [
    "parmas = [W_1, b_1, W_2, b_2]\n",
    "for parma in parmas:\n",
    "    parma.requires_grad_(True)"
   ]
  },
  {
   "cell_type": "markdown",
   "metadata": {},
   "source": [
    "## ** 激活函数**"
   ]
  },
  {
   "cell_type": "code",
   "execution_count": 5,
   "metadata": {},
   "outputs": [],
   "source": [
    "def relu(X):\n",
    "    return torch.max(X, torch.tensor(0.0))"
   ]
  },
  {
   "cell_type": "code",
   "execution_count": 6,
   "metadata": {},
   "outputs": [
    {
     "data": {
      "text/plain": [
       "tensor([1., 2., 0.])"
      ]
     },
     "execution_count": 6,
     "metadata": {},
     "output_type": "execute_result"
    }
   ],
   "source": [
    "relu(torch.tensor([1, 2.0, -4]))"
   ]
  },
  {
   "cell_type": "markdown",
   "metadata": {},
   "source": [
    "## **定义模型**"
   ]
  },
  {
   "cell_type": "code",
   "execution_count": 7,
   "metadata": {},
   "outputs": [],
   "source": [
    "def net(X):\n",
    "    X = X.view((-1, num_inputs))\n",
    "    H = relu(torch.matmul(X, W_1) + b_1)\n",
    "    return torch.matmul(H, W_2) + b_2"
   ]
  },
  {
   "cell_type": "code",
   "execution_count": 8,
   "metadata": {},
   "outputs": [],
   "source": [
    "# 损失函数\n",
    "loss = torch.nn.CrossEntropyLoss()"
   ]
  },
  {
   "cell_type": "markdown",
   "metadata": {},
   "source": [
    "## **训练模型**"
   ]
  },
  {
   "cell_type": "code",
   "execution_count": 9,
   "metadata": {},
   "outputs": [],
   "source": [
    "num_epochs, lr = 5, 100.0"
   ]
  },
  {
   "cell_type": "code",
   "execution_count": 12,
   "metadata": {},
   "outputs": [
    {
     "name": "stdout",
     "output_type": "stream",
     "text": [
      "epoch1: loss 0.0030 acc0.7147 test_acc 0.7745\n",
      "epoch2: loss 0.0019 acc0.8223 test_acc 0.8234\n",
      "epoch3: loss 0.0017 acc0.8446 test_acc 0.8202\n",
      "epoch4: loss 0.0015 acc0.8556 test_acc 0.8266\n",
      "epoch5: loss 0.0015 acc0.8632 test_acc 0.8371\n"
     ]
    }
   ],
   "source": [
    "for epoch in range(num_epochs):\n",
    "    total_acc, total_loss, n = 0.0, 0.0, 0\n",
    "    for X, y in train_iter:\n",
    "        y_hat = net(X)\n",
    "        l = loss(y_hat, y).sum()\n",
    "        if not n == 0:\n",
    "            for parma in parmas:\n",
    "                parma.grad.data.zero_()\n",
    "        l.backward()\n",
    "        for parma in parmas:\n",
    "            parma.data -= lr * parma.grad /batch_size\n",
    "        total_loss += l\n",
    "        total_acc += (torch.argmax(y_hat, dim = 1)==y).sum().item()\n",
    "        n += y.shape[0]\n",
    "    test_acc = d2l.evaluate_accuracy(test_iter, net)\n",
    "    print('epoch{:d}: loss {:.4f} acc{:.4f} test_acc {:.4f}'.format(epoch + 1, total_loss / n, total_acc / n, test_acc))"
   ]
  },
  {
   "cell_type": "markdown",
   "metadata": {},
   "source": [
    "初始化的时候张量的grad一般初始化为None，一般只在进行一次反向传播里面才会有梯度，所以一旦出现了NoneType has no attribute data的情况，请在允许一次backward后再计算"
   ]
  },
  {
   "cell_type": "code",
   "execution_count": null,
   "metadata": {},
   "outputs": [],
   "source": []
  }
 ],
 "metadata": {
  "kernelspec": {
   "display_name": "i7",
   "language": "python",
   "name": "dpcpu"
  },
  "language_info": {
   "codemirror_mode": {
    "name": "ipython",
    "version": 3
   },
   "file_extension": ".py",
   "mimetype": "text/x-python",
   "name": "python",
   "nbconvert_exporter": "python",
   "pygments_lexer": "ipython3",
   "version": "3.6.2"
  }
 },
 "nbformat": 4,
 "nbformat_minor": 2
}

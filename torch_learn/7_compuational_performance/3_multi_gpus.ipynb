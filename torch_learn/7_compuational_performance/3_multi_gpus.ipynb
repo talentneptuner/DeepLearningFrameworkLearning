{
 "cells": [
  {
   "cell_type": "markdown",
   "metadata": {},
   "source": [
    "# **多GPU训练**"
   ]
  },
  {
   "cell_type": "code",
   "execution_count": 2,
   "metadata": {},
   "outputs": [
    {
     "name": "stdout",
     "output_type": "stream",
     "text": [
      "Mon Nov 25 10:05:56 2019       \n",
      "+-----------------------------------------------------------------------------+\n",
      "| NVIDIA-SMI 441.12       Driver Version: 441.12       CUDA Version: 10.2     |\n",
      "|-------------------------------+----------------------+----------------------+\n",
      "| GPU  Name            TCC/WDDM | Bus-Id        Disp.A | Volatile Uncorr. ECC |\n",
      "| Fan  Temp  Perf  Pwr:Usage/Cap|         Memory-Usage | GPU-Util  Compute M. |\n",
      "|===============================+======================+======================|\n",
      "|   0  GeForce GTX 1060   WDDM  | 00000000:01:00.0  On |                  N/A |\n",
      "| N/A   39C    P8     2W /  N/A |    461MiB /  6144MiB |      0%      Default |\n",
      "+-------------------------------+----------------------+----------------------+\n",
      "                                                                               \n",
      "+-----------------------------------------------------------------------------+\n",
      "| Processes:                                                       GPU Memory |\n",
      "|  GPU       PID   Type   Process name                             Usage      |\n",
      "|=============================================================================|\n",
      "|    0      5388    C+G   ...9.0_x64__8wekyb3d8bbwe\\WinStore.App.exe N/A      |\n",
      "|    0     30128    C+G   ...5n1h2txyewy\\StartMenuExperienceHost.exe N/A      |\n",
      "|    0     40000    C+G   ...hell.Experiences.TextInput.InputApp.exe N/A      |\n",
      "|    0     65156    C+G   ....525.0_x64__8wekyb3d8bbwe\\YourPhone.exe N/A      |\n",
      "|    0     69624    C+G   Insufficient Permissions                   N/A      |\n",
      "|    0     69924    C+G   ....15002.0_x64__8wekyb3d8bbwe\\GameBar.exe N/A      |\n",
      "|    0     70752    C+G   D:\\Applications\\Typora\\Typora.exe          N/A      |\n",
      "|    0     70804    C+G   ...0206.0_x64__8wekyb3d8bbwe\\HxOutlook.exe N/A      |\n",
      "|    0     71884    C+G   ...tnhv12zgd7a\\WeChatStore\\WeChatStore.exe N/A      |\n",
      "|    0     72748    C+G   ...\\Development\\Microsoft VS Code\\Code.exe N/A      |\n",
      "|    0     73352    C+G   C:\\D\\Software\\Tencent\\QQMusic\\QQMusic.exe  N/A      |\n",
      "+-----------------------------------------------------------------------------+\n"
     ]
    }
   ],
   "source": [
    "!nvidia-smi"
   ]
  },
  {
   "cell_type": "markdown",
   "metadata": {},
   "source": [
    "## **多GPU计算**"
   ]
  },
  {
   "cell_type": "markdown",
   "metadata": {},
   "source": [
    "使用torch.nn.DataParallel把模型warp一下即可"
   ]
  },
  {
   "cell_type": "code",
   "execution_count": 3,
   "metadata": {},
   "outputs": [
    {
     "data": {
      "text/plain": [
       "Linear(in_features=10, out_features=1, bias=True)"
      ]
     },
     "execution_count": 3,
     "metadata": {},
     "output_type": "execute_result"
    }
   ],
   "source": [
    "import torch\n",
    "net = torch.nn.Linear(10, 1).cuda()\n",
    "net"
   ]
  },
  {
   "cell_type": "code",
   "execution_count": 4,
   "metadata": {},
   "outputs": [
    {
     "data": {
      "text/plain": [
       "DataParallel(\n",
       "  (module): Linear(in_features=10, out_features=1, bias=True)\n",
       ")"
      ]
     },
     "execution_count": 4,
     "metadata": {},
     "output_type": "execute_result"
    }
   ],
   "source": [
    "net = torch.nn.DataParallel(net)\n",
    "net"
   ]
  },
  {
   "cell_type": "markdown",
   "metadata": {},
   "source": [
    "使用device_ids指定使用显卡"
   ]
  },
  {
   "cell_type": "markdown",
   "metadata": {},
   "source": [
    "## **多GPU模型保存和加载**"
   ]
  },
  {
   "cell_type": "markdown",
   "metadata": {},
   "source": [
    "使用GPU的模型在保存时，不能直接保存模型的state_dict(),而是要保存模型的module下的state_dict()"
   ]
  },
  {
   "cell_type": "code",
   "execution_count": 6,
   "metadata": {},
   "outputs": [
    {
     "data": {
      "text/plain": [
       "<All keys matched successfully>"
      ]
     },
     "execution_count": 6,
     "metadata": {},
     "output_type": "execute_result"
    }
   ],
   "source": [
    "torch.save(net.module.state_dict(), \"model.pt\")\n",
    "new_net = torch.nn.Linear(10, 1)\n",
    "new_net.load_state_dict(torch.load(\"model.pt\")) # 加载成功"
   ]
  },
  {
   "cell_type": "markdown",
   "metadata": {},
   "source": [
    "当然你也可以直接保存state_dict()，但是新模型需要先使用DataParallel来wrap后再加载"
   ]
  },
  {
   "cell_type": "code",
   "execution_count": null,
   "metadata": {},
   "outputs": [],
   "source": []
  }
 ],
 "metadata": {
  "kernelspec": {
   "display_name": "tf2_tr12",
   "language": "python",
   "name": "tf2_tr12"
  },
  "language_info": {
   "codemirror_mode": {
    "name": "ipython",
    "version": 3
   },
   "file_extension": ".py",
   "mimetype": "text/x-python",
   "name": "python",
   "nbconvert_exporter": "python",
   "pygments_lexer": "ipython3",
   "version": "3.6.7"
  }
 },
 "nbformat": 4,
 "nbformat_minor": 4
}

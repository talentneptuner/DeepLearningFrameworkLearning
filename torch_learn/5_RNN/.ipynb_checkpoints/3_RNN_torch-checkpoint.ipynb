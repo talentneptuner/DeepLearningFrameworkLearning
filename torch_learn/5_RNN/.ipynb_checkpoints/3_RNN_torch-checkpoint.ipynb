{
 "cells": [
  {
   "cell_type": "markdown",
   "metadata": {},
   "source": [
    "# **RNN的pytorch实现**"
   ]
  },
  {
   "cell_type": "code",
   "execution_count": 1,
   "metadata": {},
   "outputs": [],
   "source": [
    "import math\n",
    "import numpy as np\n",
    "import torch\n",
    "from torch import nn, optim\n",
    "import torch.nn.functional as F\n",
    "\n",
    "import sys\n",
    "sys.path.append('../utils')\n",
    "import d2lzh as d2l"
   ]
  },
  {
   "cell_type": "code",
   "execution_count": 2,
   "metadata": {},
   "outputs": [],
   "source": [
    "device = torch.device('cuda')\n",
    "(corpus_indices, char_to_idx, idx_to_char, vocab_size) = d2l.load_data_jay_lyrics()"
   ]
  },
  {
   "cell_type": "markdown",
   "metadata": {},
   "source": [
    "## **模型定义**"
   ]
  },
  {
   "cell_type": "code",
   "execution_count": 3,
   "metadata": {},
   "outputs": [],
   "source": [
    "num_hiddens = 256\n",
    "rnn_layer = nn.RNN(input_size=vocab_size, hidden_size=num_hiddens)"
   ]
  },
  {
   "cell_type": "markdown",
   "metadata": {},
   "source": [
    "pytorch中RNN的参数(GRU和LSTM同)：\n",
    "- input_size：输入的词向量的长度\n",
    "- hidden_size：隐藏状态的长度\n",
    "- num_layers: RNN的层数，默认为1，这样双层RNN就没必要写两个RNN了\n",
    "- nonlinearity：relu，tanh\n",
    "- bidirectional：是否需要双向\n",
    "\n",
    "RNN的输入有两个(以下内容LSTM有所不同):\n",
    "- input: 输入的文本矩阵(seq_len, **batch**, input_size) **注意batch在中间**\n",
    "- h_0 : 初始的隐藏状态\n",
    "\n",
    "RNN的输出有两个\n",
    "- output：每一步的输出状态(seq_len, **batch**, num_directions * hidden_size) num_directions是方向数量\n",
    "- h_n: 最后一步的输出(num_layers * num_directions, batch, hidden_size)"
   ]
  },
  {
   "cell_type": "markdown",
   "metadata": {},
   "source": [
    "<div align=center>\n",
    "<img width=\"500\" src=\"../image/6.5.png\"/>\n",
    "</div>\n",
    "<div align=center>循环神经网络（以LSTM为例）的输出</div>"
   ]
  },
  {
   "cell_type": "code",
   "execution_count": 4,
   "metadata": {},
   "outputs": [
    {
     "name": "stdout",
     "output_type": "stream",
     "text": [
      "torch.Size([35, 2, 256]) 1 torch.Size([1, 2, 256]) torch.Size([2, 256])\n"
     ]
    }
   ],
   "source": [
    "num_steps = 35\n",
    "batch_size = 2\n",
    "state = None\n",
    "X = torch.rand(num_steps, batch_size, vocab_size)\n",
    "Y, state_new = rnn_layer(X, state)\n",
    "print(Y.shape, len(state_new), state_new.shape, state_new[0].shape)"
   ]
  },
  {
   "cell_type": "markdown",
   "metadata": {},
   "source": [
    "我们继承一个Module类来定义一个完整的循环神经网络。它完成两件事\n",
    "- 将one-hot向量输入到rnn_layer中\n",
    "- 使用全连接层得到输出，输出个数等于词典大小"
   ]
  },
  {
   "cell_type": "code",
   "execution_count": 5,
   "metadata": {},
   "outputs": [],
   "source": [
    "class RNNModel(nn.Module):\n",
    "    def __init__(self, rnn_layer, vocab_size):\n",
    "        super(RNNModel, self).__init__()\n",
    "        self.rnn = rnn_layer\n",
    "        self.hidden_size = rnn_layer.hidden_size * (2 if rnn_layer.bidirectional else 1)\n",
    "        self.vocab_size = vocab_size\n",
    "        self.dense = nn.Linear(self.hidden_size, vocab_size)\n",
    "        self.state = None\n",
    "    \n",
    "    def forward(self, inputs, state): # inputs:(batch, num_steps)\n",
    "        X = d2l.to_onehot(inputs, self.vocab_size) # X是一个list\n",
    "        Y, self.state = self.rnn(torch.stack(X), state)\n",
    "        # 全连接层会首先将Y的形状变成(num_steps * batch_size, num_hiddens)，它的输出\n",
    "        # 形状为(num_steps * batch_size, vocab_size)\n",
    "        output = self.dense(Y.view(-1, Y.shape[-1]))\n",
    "        return output, self.state"
   ]
  },
  {
   "cell_type": "markdown",
   "metadata": {},
   "source": [
    "## **训练模型**"
   ]
  },
  {
   "cell_type": "code",
   "execution_count": 6,
   "metadata": {},
   "outputs": [],
   "source": [
    "# def predict_rnn_pytorch(prefix, num_chars, model, vacab_size, device, idx_to_char, char_to_idx):\n",
    "#     state = None\n",
    "#     output = [char_to_idx[prefix[0]]] # 用于记录prefix和输出\n",
    "#     for t in range(num_chars + len(prefix) - 1):\n",
    "#         X = torch.tensor(output, device=device).view(1, -1)\n",
    "#         if state is not None:\n",
    "#             if isinstance(state, tuple): # LSTM是这种情况\n",
    "#                 state = (state[0].to(device), state[1].to(device))\n",
    "#             else:\n",
    "#                 state = state.to(device)\n",
    "#         print(X.shape)\n",
    "#         (Y, state) = model(X, state) # one_hot操作在模型中完成\n",
    "#         print(Y[-1].shape)\n",
    "#         if t < len(prefix) - 1:\n",
    "#             output.append(char_to_idx[prefix[t + 1]])\n",
    "#         else:\n",
    "#             output.append(int(Y[-1].argmax().item()))\n",
    "#     return ''.join([idx_to_char[i] for i in output])\n",
    "def predict_rnn_pytorch(prefix, num_chars, model, vocab_size, device, idx_to_char,\n",
    "                      char_to_idx):\n",
    "    state = None\n",
    "    output = [char_to_idx[prefix[0]]] # output会记录prefix加上输出\n",
    "    for t in range(num_chars + len(prefix) - 1):\n",
    "        X = torch.tensor([output[-1]], device=device).view(1, 1)\n",
    "        if state is not None:\n",
    "            if isinstance(state, tuple): # LSTM, state:(h, c)  \n",
    "                state = (state[0].to(device), state[1].to(device))\n",
    "            else:   \n",
    "                state = state.to(device)\n",
    "            \n",
    "        (Y, state) = model(X, state)\n",
    "        if t < len(prefix) - 1:\n",
    "            output.append(char_to_idx[prefix[t + 1]])\n",
    "        else:\n",
    "            output.append(int(Y.argmax(dim=1).item()))\n",
    "    return ''.join([idx_to_char[i] for i in output])"
   ]
  },
  {
   "cell_type": "markdown",
   "metadata": {},
   "source": [
    "RNN在运行的时候不会在乎单条数据的seq_len为多少，但是至少一个batch内的seq_len需要一样"
   ]
  },
  {
   "cell_type": "code",
   "execution_count": 7,
   "metadata": {},
   "outputs": [
    {
     "data": {
      "text/plain": [
       "'分开蝙照帮河帮帮帮帮帮帮'"
      ]
     },
     "execution_count": 7,
     "metadata": {},
     "output_type": "execute_result"
    }
   ],
   "source": [
    "model = RNNModel(rnn_layer, vocab_size).to(device)\n",
    "predict_rnn_pytorch('分开', 10, model, vocab_size, device, idx_to_char, char_to_idx)"
   ]
  },
  {
   "cell_type": "code",
   "execution_count": 13,
   "metadata": {},
   "outputs": [],
   "source": [
    "def train_and_predict_rnn_pytorch(model, num_hiddens, vocab_size, device, \n",
    "                                  corpus_indices, idx_to_char, char_to_idx,\n",
    "                                  num_epochs, num_steps, lr, clipping_theta, \n",
    "                                  batch_size, pred_period, pred_len, prefixes):\n",
    "    loss = nn.CrossEntropyLoss()\n",
    "    optimizer = optim.Adam(model.parameters(), lr=lr)\n",
    "    model.to(device)\n",
    "    state = None\n",
    "    for epoch in range(num_epochs):\n",
    "        l_sum, n = 0.0, 0\n",
    "        data_iter = d2l.data_iter_consecutive(corpus_indices, batch_size, num_steps, device)\n",
    "        for X, Y in data_iter:\n",
    "            if state is not None:\n",
    "                # 使用detach函数从计算图分离隐藏状态，使得当前计算只依赖于当前batch数据\n",
    "                if isinstance(state, tuple): # LSTM\n",
    "                    state = (state[0].detach(), state[1].detach())\n",
    "                else:\n",
    "                    state = state.detach()\n",
    "            (output, state) = model(X, state)\n",
    "            # Y的形状是(batch_szie, num_steps)，转置后将其变成batch_size*nums_step的向量，这样就和输出对应\n",
    "            y = torch.transpose(Y, 0, 1).contiguous().view(-1)\n",
    "            l = loss(output, y.long())\n",
    "            optimizer.zero_grad()\n",
    "            l.backward()\n",
    "            d2l.grad_clipping(model.parameters(), clipping_theta, device)\n",
    "            optimizer.step()\n",
    "            l_sum += l.item() * y.shape[0]\n",
    "            n += y.shape[0]\n",
    "        try:\n",
    "            perplexity = math.exp(l_sum / n)\n",
    "        except OverflowError:\n",
    "            perplexity = float('inf')\n",
    "        if (epoch + 1) % pred_period == 0:\n",
    "            print(f'epoch{epoch + 1}, perplexity:{math.exp(l_sum / n):.4f}')\n",
    "            for prefix in prefixes:\n",
    "                print('-', predict_rnn_pytorch(\n",
    "                    prefix, pred_len, model, vocab_size, device, idx_to_char,\n",
    "                    char_to_idx))"
   ]
  },
  {
   "cell_type": "code",
   "execution_count": 14,
   "metadata": {},
   "outputs": [
    {
     "name": "stdout",
     "output_type": "stream",
     "text": [
      "epoch50, perplexity:1.0364\n",
      "- 分开 为什么还是我试 让错过 开心情 一直在绕手 她问在Coffee tea or me 我深深倒抽一口\n",
      "- 不分开 为什么还是我 你气在我的开始交了 说和外 她的时光 一直跟我会上就像没有　 而你是会过往过人还在很\n",
      "epoch100, perplexity:1.0309\n",
      "- 分开 为什么还是我一口气过香的　 是我在大你们一样的很荒烟  哎哟哎哟喔 哎哟哎哟喔喔…… 嘿 上梢的月\n",
      "- 不分开 为荣开心 我就是那不能 我 任紧人是一场 你也只有一天 能说到 我只是自己的笑 我给我到面 因为我\n",
      "epoch150, perplexity:1.0185\n",
      "- 分开 为什么为什么要这么想你的我知道 我的爱过 你继续往前走 深怕没有 每天  在想旁边爱上 这日记这一\n",
      "- 不分开 为什么这样我试著拉镜头 手唱要吵 这样的我  我自然的生信 带着了 后果我 不是因为我没有 真的世\n",
      "epoch200, perplexity:1.0187\n",
      "- 分开 为什么还是我 你想大家是谁都看   你 我是我的很快 我 我坚决 冲破这一场浩劫 这世界谁被狩猎 \n",
      "- 不分开 为什么形容 是否院子落叶 跟我不懂 我没有这种天份 包容你也接受他 不用担心的太多 我会一直好好过\n",
      "epoch250, perplexity:1.0201\n",
      "- 分开 为什么都 心里 对着镜头重演 爱在西元前 周杰伦   爸我一旁了我 她的你定 我知道 这样的吗  \n",
      "- 不分开 为什么别人 要告诉我   大地面出来  鸟狂的手  总有太多  想一定想说好 我有谁在等待 我用出\n"
     ]
    }
   ],
   "source": [
    "num_epochs, batch_size, lr, clipping_theta = 250, 32, 1e-3, 1e-2 # 注意这里的学习率设置\n",
    "pred_period, pred_len, prefixes = 50, 50, ['分开', '不分开']\n",
    "train_and_predict_rnn_pytorch(model, num_hiddens, vocab_size, device,\n",
    "                            corpus_indices, idx_to_char, char_to_idx,\n",
    "                            num_epochs, num_steps, lr, clipping_theta,\n",
    "                            batch_size, pred_period, pred_len, prefixes)"
   ]
  },
  {
   "cell_type": "code",
   "execution_count": null,
   "metadata": {},
   "outputs": [],
   "source": []
  }
 ],
 "metadata": {
  "kernelspec": {
   "display_name": "tf2_tr12",
   "language": "python",
   "name": "tf2_tr12"
  },
  "language_info": {
   "codemirror_mode": {
    "name": "ipython",
    "version": 3
   },
   "file_extension": ".py",
   "mimetype": "text/x-python",
   "name": "python",
   "nbconvert_exporter": "python",
   "pygments_lexer": "ipython3",
   "version": "3.6.7"
  }
 },
 "nbformat": 4,
 "nbformat_minor": 4
}

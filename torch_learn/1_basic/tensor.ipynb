{
 "cells": [
  {
   "cell_type": "code",
   "execution_count": 6,
   "metadata": {},
   "outputs": [],
   "source": [
    "import torch\n",
    "import numpy as np"
   ]
  },
  {
   "cell_type": "markdown",
   "metadata": {},
   "source": [
    "### 创建张量    \n",
    "*********"
   ]
  },
  {
   "cell_type": "markdown",
   "metadata": {},
   "source": [
    "创建5*3没有初始化的tensor"
   ]
  },
  {
   "cell_type": "code",
   "execution_count": 2,
   "metadata": {},
   "outputs": [
    {
     "data": {
      "text/plain": [
       "tensor([[1.0194e-38, 1.0469e-38, 1.0010e-38],\n",
       "        [8.9081e-39, 8.9082e-39, 5.9694e-39],\n",
       "        [8.9082e-39, 1.0194e-38, 9.1837e-39],\n",
       "        [4.6837e-39, 9.2755e-39, 1.0837e-38],\n",
       "        [8.4490e-39, 1.0286e-38, 1.0286e-38]])"
      ]
     },
     "execution_count": 2,
     "metadata": {},
     "output_type": "execute_result"
    }
   ],
   "source": [
    "torch.empty(5, 3)"
   ]
  },
  {
   "cell_type": "markdown",
   "metadata": {},
   "source": [
    "创建5*3随机的Tensor"
   ]
  },
  {
   "cell_type": "code",
   "execution_count": 5,
   "metadata": {},
   "outputs": [
    {
     "data": {
      "text/plain": [
       "tensor([[0.1664, 0.9435, 0.7369],\n",
       "        [0.4486, 0.1930, 0.0299],\n",
       "        [0.4682, 0.1836, 0.5906],\n",
       "        [0.1048, 0.7572, 0.3580],\n",
       "        [0.3098, 0.8637, 0.8949]])"
      ]
     },
     "execution_count": 5,
     "metadata": {},
     "output_type": "execute_result"
    }
   ],
   "source": [
    "torch.rand(5, 3)"
   ]
  },
  {
   "cell_type": "markdown",
   "metadata": {},
   "source": [
    "按照具体数据创建tensor"
   ]
  },
  {
   "cell_type": "code",
   "execution_count": 7,
   "metadata": {},
   "outputs": [],
   "source": [
    "a = np.array([[1, 2], [3, 4]])"
   ]
  },
  {
   "cell_type": "code",
   "execution_count": 8,
   "metadata": {},
   "outputs": [
    {
     "data": {
      "text/plain": [
       "tensor([[1, 2],\n",
       "        [3, 4]], dtype=torch.int32)"
      ]
     },
     "execution_count": 8,
     "metadata": {},
     "output_type": "execute_result"
    }
   ],
   "source": [
    "torch.tensor(a)"
   ]
  },
  {
   "cell_type": "markdown",
   "metadata": {},
   "source": [
    "创建各种指定数据和形状的tensor"
   ]
  },
  {
   "cell_type": "code",
   "execution_count": 12,
   "metadata": {},
   "outputs": [],
   "source": [
    "b = torch.tensor(a)"
   ]
  },
  {
   "cell_type": "code",
   "execution_count": 13,
   "metadata": {},
   "outputs": [
    {
     "data": {
      "text/plain": [
       "tensor([[1, 1],\n",
       "        [1, 1]], dtype=torch.int32)"
      ]
     },
     "execution_count": 13,
     "metadata": {},
     "output_type": "execute_result"
    }
   ],
   "source": [
    "torch.ones_like(b)"
   ]
  },
  {
   "cell_type": "code",
   "execution_count": 18,
   "metadata": {},
   "outputs": [
    {
     "data": {
      "text/plain": [
       "tensor([[ 1.2864, -1.8640],\n",
       "        [-1.1211, -0.7994]])"
      ]
     },
     "execution_count": 18,
     "metadata": {},
     "output_type": "execute_result"
    }
   ],
   "source": [
    "torch.randn_like(b, dtype=torch.float)"
   ]
  },
  {
   "cell_type": "markdown",
   "metadata": {},
   "source": [
    "[官方api](https://pytorch.org/docs/stable/tensors.html)"
   ]
  },
  {
   "cell_type": "markdown",
   "metadata": {},
   "source": [
    "      "
   ]
  },
  {
   "cell_type": "markdown",
   "metadata": {},
   "source": [
    "### Tensor操作    \n",
    "*********"
   ]
  },
  {
   "cell_type": "markdown",
   "metadata": {},
   "source": [
    "加法"
   ]
  },
  {
   "cell_type": "code",
   "execution_count": 24,
   "metadata": {},
   "outputs": [],
   "source": [
    "x = torch.randn(5, 3)\n",
    "y = torch.randn(5, 3)"
   ]
  },
  {
   "cell_type": "code",
   "execution_count": 25,
   "metadata": {},
   "outputs": [
    {
     "data": {
      "text/plain": [
       "tensor([[-0.7174, -0.0812, -0.8485],\n",
       "        [-2.0435, -1.4847,  0.6182],\n",
       "        [-1.8853, -1.2858,  0.9454],\n",
       "        [-1.9016, -0.1499, -0.4962],\n",
       "        [-1.6494,  0.1030, -1.4655]])"
      ]
     },
     "execution_count": 25,
     "metadata": {},
     "output_type": "execute_result"
    }
   ],
   "source": [
    "x + y"
   ]
  },
  {
   "cell_type": "code",
   "execution_count": 26,
   "metadata": {},
   "outputs": [
    {
     "data": {
      "text/plain": [
       "tensor([[-0.7174, -0.0812, -0.8485],\n",
       "        [-2.0435, -1.4847,  0.6182],\n",
       "        [-1.8853, -1.2858,  0.9454],\n",
       "        [-1.9016, -0.1499, -0.4962],\n",
       "        [-1.6494,  0.1030, -1.4655]])"
      ]
     },
     "execution_count": 26,
     "metadata": {},
     "output_type": "execute_result"
    }
   ],
   "source": [
    "torch.add(x, y)"
   ]
  },
  {
   "cell_type": "code",
   "execution_count": 27,
   "metadata": {},
   "outputs": [
    {
     "data": {
      "text/plain": [
       "tensor([[-0.7174, -0.0812, -0.8485],\n",
       "        [-2.0435, -1.4847,  0.6182],\n",
       "        [-1.8853, -1.2858,  0.9454],\n",
       "        [-1.9016, -0.1499, -0.4962],\n",
       "        [-1.6494,  0.1030, -1.4655]])"
      ]
     },
     "execution_count": 27,
     "metadata": {},
     "output_type": "execute_result"
    }
   ],
   "source": [
    "x.add_(y)"
   ]
  },
  {
   "cell_type": "markdown",
   "metadata": {},
   "source": [
    "> x.add是inplace操作会直接改变x，torch中所有的inplace操作都需要在后面带上_"
   ]
  },
  {
   "cell_type": "markdown",
   "metadata": {},
   "source": [
    "索引"
   ]
  },
  {
   "cell_type": "code",
   "execution_count": 29,
   "metadata": {},
   "outputs": [
    {
     "data": {
      "text/plain": [
       "tensor([-0.7174, -0.0812, -0.8485])"
      ]
     },
     "execution_count": 29,
     "metadata": {},
     "output_type": "execute_result"
    }
   ],
   "source": [
    "x[0]"
   ]
  },
  {
   "cell_type": "code",
   "execution_count": 31,
   "metadata": {},
   "outputs": [
    {
     "data": {
      "text/plain": [
       "tensor([[-0.0812, -0.8485],\n",
       "        [-1.4847,  0.6182],\n",
       "        [-1.2858,  0.9454],\n",
       "        [-0.1499, -0.4962],\n",
       "        [ 0.1030, -1.4655]])"
      ]
     },
     "execution_count": 31,
     "metadata": {},
     "output_type": "execute_result"
    }
   ],
   "source": [
    "x[:,1:3]"
   ]
  },
  {
   "cell_type": "markdown",
   "metadata": {},
   "source": [
    "torch还提供了一些其他的索引方式,点[这里](https://pytorch.org/docs/stable/torch.html#torch.gather)"
   ]
  },
  {
   "cell_type": "markdown",
   "metadata": {},
   "source": [
    "改变形状"
   ]
  },
  {
   "cell_type": "code",
   "execution_count": 33,
   "metadata": {},
   "outputs": [
    {
     "data": {
      "text/plain": [
       "tensor([-0.7174, -0.0812, -0.8485, -2.0435, -1.4847,  0.6182, -1.8853, -1.2858,\n",
       "         0.9454, -1.9016, -0.1499, -0.4962, -1.6494,  0.1030, -1.4655])"
      ]
     },
     "execution_count": 33,
     "metadata": {},
     "output_type": "execute_result"
    }
   ],
   "source": [
    "x.view(15)"
   ]
  },
  {
   "cell_type": "code",
   "execution_count": 34,
   "metadata": {},
   "outputs": [
    {
     "data": {
      "text/plain": [
       "tensor([-0.7174, -0.0812, -0.8485, -2.0435, -1.4847,  0.6182, -1.8853, -1.2858,\n",
       "         0.9454, -1.9016, -0.1499, -0.4962, -1.6494,  0.1030, -1.4655])"
      ]
     },
     "execution_count": 34,
     "metadata": {},
     "output_type": "execute_result"
    }
   ],
   "source": [
    "x.reshape(15)"
   ]
  },
  {
   "cell_type": "markdown",
   "metadata": {},
   "source": [
    "view和原来的数据共享内存，reshape会创建一个副本，但是torch的reshape存在问题，推荐先clone再view"
   ]
  },
  {
   "cell_type": "markdown",
   "metadata": {},
   "source": [
    "torh计算的广播机制"
   ]
  },
  {
   "cell_type": "code",
   "execution_count": 36,
   "metadata": {},
   "outputs": [
    {
     "data": {
      "text/plain": [
       "tensor([[-0.7174, -0.0812, -0.8485],\n",
       "        [-2.0435, -1.4847,  0.6182],\n",
       "        [-1.8853, -1.2858,  0.9454],\n",
       "        [-1.9016, -0.1499, -0.4962],\n",
       "        [-1.6494,  0.1030, -1.4655]])"
      ]
     },
     "execution_count": 36,
     "metadata": {},
     "output_type": "execute_result"
    }
   ],
   "source": [
    "x"
   ]
  },
  {
   "cell_type": "code",
   "execution_count": 37,
   "metadata": {},
   "outputs": [
    {
     "data": {
      "text/plain": [
       "tensor([[ 0.2826,  0.9188,  0.1515],\n",
       "        [-1.0435, -0.4847,  1.6182],\n",
       "        [-0.8853, -0.2858,  1.9454],\n",
       "        [-0.9016,  0.8501,  0.5038],\n",
       "        [-0.6494,  1.1030, -0.4655]])"
      ]
     },
     "execution_count": 37,
     "metadata": {},
     "output_type": "execute_result"
    }
   ],
   "source": [
    "x + 1"
   ]
  },
  {
   "cell_type": "code",
   "execution_count": 47,
   "metadata": {},
   "outputs": [
    {
     "data": {
      "text/plain": [
       "tensor([[1., 2., 3.],\n",
       "        [1., 2., 3.],\n",
       "        [1., 2., 3.],\n",
       "        [1., 2., 3.],\n",
       "        [1., 2., 3.]])"
      ]
     },
     "execution_count": 47,
     "metadata": {},
     "output_type": "execute_result"
    }
   ],
   "source": [
    "torch.zeros_like(x) + torch.tensor([1.0, 2.0, 3.0])"
   ]
  },
  {
   "cell_type": "markdown",
   "metadata": {},
   "source": [
    "和numpy数组的转换"
   ]
  },
  {
   "cell_type": "code",
   "execution_count": 48,
   "metadata": {},
   "outputs": [
    {
     "data": {
      "text/plain": [
       "array([[-0.7174088 , -0.08117479, -0.8485023 ],\n",
       "       [-2.0435138 , -1.4846777 ,  0.6182262 ],\n",
       "       [-1.8853085 , -1.2857624 ,  0.9454102 ],\n",
       "       [-1.9015758 , -0.1499399 , -0.49622726],\n",
       "       [-1.649449  ,  0.10302889, -1.4655378 ]], dtype=float32)"
      ]
     },
     "execution_count": 48,
     "metadata": {},
     "output_type": "execute_result"
    }
   ],
   "source": [
    "x.numpy()"
   ]
  },
  {
   "cell_type": "code",
   "execution_count": 49,
   "metadata": {},
   "outputs": [
    {
     "data": {
      "text/plain": [
       "tensor([2., 5.], dtype=torch.float64)"
      ]
     },
     "execution_count": 49,
     "metadata": {},
     "output_type": "execute_result"
    }
   ],
   "source": [
    "torch.from_numpy(np.array([2, 5.0]))"
   ]
  },
  {
   "cell_type": "markdown",
   "metadata": {},
   "source": [
    "关于其他计算，看[这里](https://pytorch.org/docs/stable/torch.html#torch.bmm)"
   ]
  },
  {
   "cell_type": "markdown",
   "metadata": {},
   "source": [
    "同时参考了[这里](https://pytorch.org/tutorials/beginner/blitz/tensor_tutorial.html#sphx-glr-beginner-blitz-tensor-tutorial-py)"
   ]
  }
 ],
 "metadata": {
  "kernelspec": {
   "display_name": "1060",
   "language": "python",
   "name": "dpgpu"
  },
  "language_info": {
   "codemirror_mode": {
    "name": "ipython",
    "version": 3
   },
   "file_extension": ".py",
   "mimetype": "text/x-python",
   "name": "python",
   "nbconvert_exporter": "python",
   "pygments_lexer": "ipython3",
   "version": "3.6.2"
  }
 },
 "nbformat": 4,
 "nbformat_minor": 2
}
